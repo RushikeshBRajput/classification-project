{
 "cells": [
  {
   "cell_type": "markdown",
   "id": "763b5ef3",
   "metadata": {},
   "source": [
    "# Subscription Prediction\n"
   ]
  },
  {
   "cell_type": "markdown",
   "id": "d209019e",
   "metadata": {},
   "source": [
    "This data set contains records relevant to a direct marketing campaign of a Portuguese banking institution.The marketing\n",
    "campaign was executed through phone calls. Often, more than one call needs to be made to a single client before they either\n",
    "decline or agree to a term deposit subscription. The classification goal is to predict if the client will subscribe (yes/no)\n",
    "to the term deposit (variable y)."
   ]
  },
  {
   "cell_type": "markdown",
   "id": "f4419630",
   "metadata": {},
   "source": [
    "# Introduction"
   ]
  },
  {
   "cell_type": "markdown",
   "id": "7448d648",
   "metadata": {},
   "source": [
    "Term deposits are cash investment held at a financial institution and are a major source of revenue for banks making them\n",
    "important for financial institutions to market. Telemarketing remains to be a popular marketing technique because of  the \n",
    "potential effectiveness of human-to-human contact provided by a telephone call, which is sometimes quite the opposite  of \n",
    "many impersonal and robotic marketing messagesrelayed through social and digital media.  However,  executing such  direct\n",
    "marketing effort usually requires a huge investment by the business as large callcenters need to be contracted to contact \n",
    "clients directly."
   ]
  },
  {
   "cell_type": "markdown",
   "id": "6a1ba25f",
   "metadata": {},
   "source": [
    "Input variables:\n",
    "\n",
    "bank client data:\n",
    "1 - age (numeric)\n",
    "\n",
    "2 - job : type of job (categorical: 'admin.','blue-collar','entrepreneur','housemaid','management','retired',\n",
    "        'self-employed','services','student','technician','unemployed','unknown')\n",
    "    \n",
    "3 - marital : marital status (categorical: 'divorced','married','single','unknown'\n",
    "                              \n",
    "4 - education: (categorical: 'basic.4y','basic.6y','basic.9y','high.school','illiterate','professional.course',\n",
    "             'university.degree','unknown')\n",
    "                              \n",
    "5 - default: has credit in default? (categorical: 'no','yes','unknown')\n",
    "                              \n",
    "6 - housing: has housing loan? (categorical: 'no','yes','unknown')\n",
    "                              \n",
    "7 - loan: has personal loan? (categorical: 'no','yes','unknown')\n",
    "                              related with the last contact of the current campaign:\n",
    "                              \n",
    "8 - contact: contact communication type (categorical: 'cellular','telephone')\n",
    "                              \n",
    "9 - month: last contact month of year (categorical: 'jan', 'feb', 'mar', …, 'nov', 'dec')\n",
    "                              \n",
    "10 - day_of_week: last contact day of the week (categorical: 'mon','tue','wed','thu','fri')\n",
    "\n",
    "                              \n",
    "                              \n",
    "other attributes:\n",
    "11 - campaign: number of contacts performed during this campaign and for this client (numeric, includes last contact)\n",
    "                              \n",
    "12 - pdays: number of days that passed by after the client was last contacted from a previous campaign (numeric; 999 means client was not previously contacted)\n",
    "                              \n",
    "13 - previous: number of contacts performed before this campaign and for this client (numeric)\n",
    "                              \n",
    "14 - poutcome: outcome of the previous marketing campaign (categorical: 'failure','nonexistent','success')\n",
    "                              \n",
    "                              \n",
    "                              \n",
    "\n",
    "social and economic context attributes:\n",
    "                              \n",
    "                              \n",
    "15 - emp.var.rate: employment variation rate - quarterly indicator (numeric)\n",
    "                              \n",
    "16 - cons.price.idx: consumer price index - monthly indicator (numeric)\n",
    "                              \n",
    "17 - cons.conf.idx: consumer confidence index - monthly indicator (numeric)\n",
    "                              \n",
    "18 - euribor3m: euribor 3 month rate - daily indicator (numeric)\n",
    "                              \n",
    "19 - nr.employed: number of employees - quarterly indicator (numeric)\n",
    "\n",
    "Output variable (desired target):\n",
    "\n",
    "20 - y - has the client subscribed a term deposit? (binary: 'yes','no')"
   ]
  },
  {
   "cell_type": "markdown",
   "id": "68bc393e",
   "metadata": {},
   "source": [
    "# Reading the dataset"
   ]
  },
  {
   "cell_type": "code",
   "execution_count": 1,
   "id": "15c317c9",
   "metadata": {},
   "outputs": [],
   "source": [
    "import pandas as pd\n",
    "td=pd.read_csv(r\"C:\\Users\\PRANAV\\Videos\\bank-direct-marketing-campaigns.csv\")\n"
   ]
  },
  {
   "cell_type": "code",
   "execution_count": 2,
   "id": "f34e472b",
   "metadata": {},
   "outputs": [
    {
     "data": {
      "text/html": [
       "<div>\n",
       "<style scoped>\n",
       "    .dataframe tbody tr th:only-of-type {\n",
       "        vertical-align: middle;\n",
       "    }\n",
       "\n",
       "    .dataframe tbody tr th {\n",
       "        vertical-align: top;\n",
       "    }\n",
       "\n",
       "    .dataframe thead th {\n",
       "        text-align: right;\n",
       "    }\n",
       "</style>\n",
       "<table border=\"1\" class=\"dataframe\">\n",
       "  <thead>\n",
       "    <tr style=\"text-align: right;\">\n",
       "      <th></th>\n",
       "      <th>age</th>\n",
       "      <th>job</th>\n",
       "      <th>marital</th>\n",
       "      <th>education</th>\n",
       "      <th>default</th>\n",
       "      <th>housing</th>\n",
       "      <th>loan</th>\n",
       "      <th>contact</th>\n",
       "      <th>month</th>\n",
       "      <th>day_of_week</th>\n",
       "      <th>campaign</th>\n",
       "      <th>pdays</th>\n",
       "      <th>previous</th>\n",
       "      <th>poutcome</th>\n",
       "      <th>emp.var.rate</th>\n",
       "      <th>cons.price.idx</th>\n",
       "      <th>cons.conf.idx</th>\n",
       "      <th>euribor3m</th>\n",
       "      <th>nr.employed</th>\n",
       "      <th>y</th>\n",
       "    </tr>\n",
       "  </thead>\n",
       "  <tbody>\n",
       "    <tr>\n",
       "      <th>0</th>\n",
       "      <td>56</td>\n",
       "      <td>housemaid</td>\n",
       "      <td>married</td>\n",
       "      <td>basic.4y</td>\n",
       "      <td>no</td>\n",
       "      <td>no</td>\n",
       "      <td>no</td>\n",
       "      <td>telephone</td>\n",
       "      <td>may</td>\n",
       "      <td>mon</td>\n",
       "      <td>1</td>\n",
       "      <td>999</td>\n",
       "      <td>0</td>\n",
       "      <td>nonexistent</td>\n",
       "      <td>1.1</td>\n",
       "      <td>93.994</td>\n",
       "      <td>-36.4</td>\n",
       "      <td>4.857</td>\n",
       "      <td>5191.0</td>\n",
       "      <td>no</td>\n",
       "    </tr>\n",
       "    <tr>\n",
       "      <th>1</th>\n",
       "      <td>57</td>\n",
       "      <td>services</td>\n",
       "      <td>married</td>\n",
       "      <td>high.school</td>\n",
       "      <td>unknown</td>\n",
       "      <td>no</td>\n",
       "      <td>no</td>\n",
       "      <td>telephone</td>\n",
       "      <td>may</td>\n",
       "      <td>mon</td>\n",
       "      <td>1</td>\n",
       "      <td>999</td>\n",
       "      <td>0</td>\n",
       "      <td>nonexistent</td>\n",
       "      <td>1.1</td>\n",
       "      <td>93.994</td>\n",
       "      <td>-36.4</td>\n",
       "      <td>4.857</td>\n",
       "      <td>5191.0</td>\n",
       "      <td>no</td>\n",
       "    </tr>\n",
       "    <tr>\n",
       "      <th>2</th>\n",
       "      <td>37</td>\n",
       "      <td>services</td>\n",
       "      <td>married</td>\n",
       "      <td>high.school</td>\n",
       "      <td>no</td>\n",
       "      <td>yes</td>\n",
       "      <td>no</td>\n",
       "      <td>telephone</td>\n",
       "      <td>may</td>\n",
       "      <td>mon</td>\n",
       "      <td>1</td>\n",
       "      <td>999</td>\n",
       "      <td>0</td>\n",
       "      <td>nonexistent</td>\n",
       "      <td>1.1</td>\n",
       "      <td>93.994</td>\n",
       "      <td>-36.4</td>\n",
       "      <td>4.857</td>\n",
       "      <td>5191.0</td>\n",
       "      <td>no</td>\n",
       "    </tr>\n",
       "    <tr>\n",
       "      <th>3</th>\n",
       "      <td>40</td>\n",
       "      <td>admin.</td>\n",
       "      <td>married</td>\n",
       "      <td>basic.6y</td>\n",
       "      <td>no</td>\n",
       "      <td>no</td>\n",
       "      <td>no</td>\n",
       "      <td>telephone</td>\n",
       "      <td>may</td>\n",
       "      <td>mon</td>\n",
       "      <td>1</td>\n",
       "      <td>999</td>\n",
       "      <td>0</td>\n",
       "      <td>nonexistent</td>\n",
       "      <td>1.1</td>\n",
       "      <td>93.994</td>\n",
       "      <td>-36.4</td>\n",
       "      <td>4.857</td>\n",
       "      <td>5191.0</td>\n",
       "      <td>no</td>\n",
       "    </tr>\n",
       "    <tr>\n",
       "      <th>4</th>\n",
       "      <td>56</td>\n",
       "      <td>services</td>\n",
       "      <td>married</td>\n",
       "      <td>high.school</td>\n",
       "      <td>no</td>\n",
       "      <td>no</td>\n",
       "      <td>yes</td>\n",
       "      <td>telephone</td>\n",
       "      <td>may</td>\n",
       "      <td>mon</td>\n",
       "      <td>1</td>\n",
       "      <td>999</td>\n",
       "      <td>0</td>\n",
       "      <td>nonexistent</td>\n",
       "      <td>1.1</td>\n",
       "      <td>93.994</td>\n",
       "      <td>-36.4</td>\n",
       "      <td>4.857</td>\n",
       "      <td>5191.0</td>\n",
       "      <td>no</td>\n",
       "    </tr>\n",
       "  </tbody>\n",
       "</table>\n",
       "</div>"
      ],
      "text/plain": [
       "   age        job  marital    education  default housing loan    contact  \\\n",
       "0   56  housemaid  married     basic.4y       no      no   no  telephone   \n",
       "1   57   services  married  high.school  unknown      no   no  telephone   \n",
       "2   37   services  married  high.school       no     yes   no  telephone   \n",
       "3   40     admin.  married     basic.6y       no      no   no  telephone   \n",
       "4   56   services  married  high.school       no      no  yes  telephone   \n",
       "\n",
       "  month day_of_week  campaign  pdays  previous     poutcome  emp.var.rate  \\\n",
       "0   may         mon         1    999         0  nonexistent           1.1   \n",
       "1   may         mon         1    999         0  nonexistent           1.1   \n",
       "2   may         mon         1    999         0  nonexistent           1.1   \n",
       "3   may         mon         1    999         0  nonexistent           1.1   \n",
       "4   may         mon         1    999         0  nonexistent           1.1   \n",
       "\n",
       "   cons.price.idx  cons.conf.idx  euribor3m  nr.employed   y  \n",
       "0          93.994          -36.4      4.857       5191.0  no  \n",
       "1          93.994          -36.4      4.857       5191.0  no  \n",
       "2          93.994          -36.4      4.857       5191.0  no  \n",
       "3          93.994          -36.4      4.857       5191.0  no  \n",
       "4          93.994          -36.4      4.857       5191.0  no  "
      ]
     },
     "execution_count": 2,
     "metadata": {},
     "output_type": "execute_result"
    }
   ],
   "source": [
    "td.head()"
   ]
  },
  {
   "cell_type": "code",
   "execution_count": 3,
   "id": "95f88e7c",
   "metadata": {},
   "outputs": [
    {
     "name": "stdout",
     "output_type": "stream",
     "text": [
      "(41188, 20)\n"
     ]
    }
   ],
   "source": [
    "# observing shape of Dataframe\n",
    "\n",
    "print(td.shape)"
   ]
  },
  {
   "cell_type": "code",
   "execution_count": 4,
   "id": "43d60040",
   "metadata": {},
   "outputs": [],
   "source": [
    "# As it is observed we have 41188 rows and 20 columns\n",
    "# The first 19 columns represent the features and the last column represent the target/label(y)."
   ]
  },
  {
   "cell_type": "code",
   "execution_count": 5,
   "id": "78c765c3",
   "metadata": {},
   "outputs": [
    {
     "name": "stdout",
     "output_type": "stream",
     "text": [
      "<class 'pandas.core.frame.DataFrame'>\n",
      "RangeIndex: 41188 entries, 0 to 41187\n",
      "Data columns (total 20 columns):\n",
      " #   Column          Non-Null Count  Dtype  \n",
      "---  ------          --------------  -----  \n",
      " 0   age             41188 non-null  int64  \n",
      " 1   job             41188 non-null  object \n",
      " 2   marital         41188 non-null  object \n",
      " 3   education       41188 non-null  object \n",
      " 4   default         41188 non-null  object \n",
      " 5   housing         41188 non-null  object \n",
      " 6   loan            41188 non-null  object \n",
      " 7   contact         41188 non-null  object \n",
      " 8   month           41188 non-null  object \n",
      " 9   day_of_week     41188 non-null  object \n",
      " 10  campaign        41188 non-null  int64  \n",
      " 11  pdays           41188 non-null  int64  \n",
      " 12  previous        41188 non-null  int64  \n",
      " 13  poutcome        41188 non-null  object \n",
      " 14  emp.var.rate    41188 non-null  float64\n",
      " 15  cons.price.idx  41188 non-null  float64\n",
      " 16  cons.conf.idx   41188 non-null  float64\n",
      " 17  euribor3m       41188 non-null  float64\n",
      " 18  nr.employed     41188 non-null  float64\n",
      " 19  y               41188 non-null  object \n",
      "dtypes: float64(5), int64(4), object(11)\n",
      "memory usage: 6.3+ MB\n"
     ]
    }
   ],
   "source": [
    "# for complete information of the data\n",
    "\n",
    "\n",
    "td.info()"
   ]
  },
  {
   "cell_type": "code",
   "execution_count": 6,
   "id": "aa49e89b",
   "metadata": {},
   "outputs": [
    {
     "data": {
      "text/plain": [
       "age               0\n",
       "job               0\n",
       "marital           0\n",
       "education         0\n",
       "default           0\n",
       "housing           0\n",
       "loan              0\n",
       "contact           0\n",
       "month             0\n",
       "day_of_week       0\n",
       "campaign          0\n",
       "pdays             0\n",
       "previous          0\n",
       "poutcome          0\n",
       "emp.var.rate      0\n",
       "cons.price.idx    0\n",
       "cons.conf.idx     0\n",
       "euribor3m         0\n",
       "nr.employed       0\n",
       "y                 0\n",
       "dtype: int64"
      ]
     },
     "execution_count": 6,
     "metadata": {},
     "output_type": "execute_result"
    }
   ],
   "source": [
    "td.isnull().sum()              # There is no nulls present in dataset"
   ]
  },
  {
   "cell_type": "code",
   "execution_count": 7,
   "id": "5e05f145",
   "metadata": {},
   "outputs": [],
   "source": [
    "# As could be seen we have some columns object type so we need to convert them to int and float"
   ]
  },
  {
   "cell_type": "markdown",
   "id": "4a68bb95",
   "metadata": {},
   "source": [
    "# Datacleaninng"
   ]
  },
  {
   "cell_type": "code",
   "execution_count": 8,
   "id": "b5c9eb5c",
   "metadata": {},
   "outputs": [
    {
     "name": "stdout",
     "output_type": "stream",
     "text": [
      "<class 'pandas.core.frame.DataFrame'>\n",
      "RangeIndex: 41188 entries, 0 to 41187\n",
      "Data columns (total 20 columns):\n",
      " #   Column          Non-Null Count  Dtype  \n",
      "---  ------          --------------  -----  \n",
      " 0   age             41188 non-null  int64  \n",
      " 1   job             41188 non-null  object \n",
      " 2   marital         41188 non-null  object \n",
      " 3   education       41188 non-null  object \n",
      " 4   default         41188 non-null  object \n",
      " 5   housing         41188 non-null  object \n",
      " 6   loan            41188 non-null  object \n",
      " 7   contact         41188 non-null  object \n",
      " 8   month           41188 non-null  object \n",
      " 9   day_of_week     41188 non-null  object \n",
      " 10  campaign        41188 non-null  int64  \n",
      " 11  pdays           41188 non-null  int64  \n",
      " 12  previous        41188 non-null  int64  \n",
      " 13  poutcome        41188 non-null  object \n",
      " 14  emp.var.rate    41188 non-null  float64\n",
      " 15  cons.price.idx  41188 non-null  float64\n",
      " 16  cons.conf.idx   41188 non-null  float64\n",
      " 17  euribor3m       41188 non-null  float64\n",
      " 18  nr.employed     41188 non-null  float64\n",
      " 19  y               41188 non-null  object \n",
      "dtypes: float64(5), int64(4), object(11)\n",
      "memory usage: 6.3+ MB\n"
     ]
    }
   ],
   "source": [
    "td.info()"
   ]
  },
  {
   "cell_type": "code",
   "execution_count": 9,
   "id": "d436cccf",
   "metadata": {},
   "outputs": [
    {
     "data": {
      "text/plain": [
       "array(['housemaid', 'services', 'admin.', 'blue-collar', 'technician',\n",
       "       'retired', 'management', 'unemployed', 'self-employed', 'unknown',\n",
       "       'entrepreneur', 'student'], dtype=object)"
      ]
     },
     "execution_count": 9,
     "metadata": {},
     "output_type": "execute_result"
    }
   ],
   "source": [
    "td.job.unique()      # finding unique entries in job column\n"
   ]
  },
  {
   "cell_type": "code",
   "execution_count": 10,
   "id": "a2b16c38",
   "metadata": {},
   "outputs": [
    {
     "data": {
      "text/plain": [
       "admin.           10422\n",
       "blue-collar       9254\n",
       "technician        6743\n",
       "services          3969\n",
       "management        2924\n",
       "retired           1720\n",
       "entrepreneur      1456\n",
       "self-employed     1421\n",
       "housemaid         1060\n",
       "unemployed        1014\n",
       "student            875\n",
       "unknown            330\n",
       "Name: job, dtype: int64"
      ]
     },
     "execution_count": 10,
     "metadata": {},
     "output_type": "execute_result"
    }
   ],
   "source": [
    "td.job.value_counts()  # finding frequency of unique entries coming  in column 'job'"
   ]
  },
  {
   "cell_type": "code",
   "execution_count": 11,
   "id": "679d4331",
   "metadata": {},
   "outputs": [
    {
     "data": {
      "text/plain": [
       "married     24928\n",
       "single      11568\n",
       "divorced     4612\n",
       "unknown        80\n",
       "Name: marital, dtype: int64"
      ]
     },
     "execution_count": 11,
     "metadata": {},
     "output_type": "execute_result"
    }
   ],
   "source": [
    "td.marital.value_counts()"
   ]
  },
  {
   "cell_type": "code",
   "execution_count": 12,
   "id": "0fc436af",
   "metadata": {},
   "outputs": [
    {
     "data": {
      "text/plain": [
       "no         32588\n",
       "unknown     8597\n",
       "yes            3\n",
       "Name: default, dtype: int64"
      ]
     },
     "execution_count": 12,
     "metadata": {},
     "output_type": "execute_result"
    }
   ],
   "source": [
    "td.default.value_counts()"
   ]
  },
  {
   "cell_type": "code",
   "execution_count": 33,
   "id": "e1d88c19",
   "metadata": {},
   "outputs": [
    {
     "data": {
      "text/plain": [
       "yes        21576\n",
       "no         18622\n",
       "unknown      990\n",
       "Name: housing, dtype: int64"
      ]
     },
     "execution_count": 33,
     "metadata": {},
     "output_type": "execute_result"
    }
   ],
   "source": [
    "td.housing.value_counts()"
   ]
  },
  {
   "cell_type": "code",
   "execution_count": 34,
   "id": "06bdf45c",
   "metadata": {},
   "outputs": [
    {
     "data": {
      "text/plain": [
       "no         33950\n",
       "yes         6248\n",
       "unknown      990\n",
       "Name: loan, dtype: int64"
      ]
     },
     "execution_count": 34,
     "metadata": {},
     "output_type": "execute_result"
    }
   ],
   "source": [
    "td.loan.value_counts()"
   ]
  },
  {
   "cell_type": "code",
   "execution_count": 37,
   "id": "b65963b8",
   "metadata": {},
   "outputs": [
    {
     "data": {
      "text/plain": [
       "cellular     26144\n",
       "telephone    15044\n",
       "Name: contact, dtype: int64"
      ]
     },
     "execution_count": 37,
     "metadata": {},
     "output_type": "execute_result"
    }
   ],
   "source": [
    "td.contact.value_counts()"
   ]
  },
  {
   "cell_type": "code",
   "execution_count": 36,
   "id": "38cda5f0",
   "metadata": {},
   "outputs": [
    {
     "data": {
      "text/plain": [
       "may    13769\n",
       "jul     7174\n",
       "aug     6178\n",
       "jun     5318\n",
       "nov     4101\n",
       "apr     2632\n",
       "oct      718\n",
       "sep      570\n",
       "mar      546\n",
       "dec      182\n",
       "Name: month, dtype: int64"
      ]
     },
     "execution_count": 36,
     "metadata": {},
     "output_type": "execute_result"
    }
   ],
   "source": [
    "td.month.value_counts()"
   ]
  },
  {
   "cell_type": "code",
   "execution_count": 35,
   "id": "1345c254",
   "metadata": {},
   "outputs": [
    {
     "data": {
      "text/plain": [
       "thu    8623\n",
       "mon    8514\n",
       "wed    8134\n",
       "tue    8090\n",
       "fri    7827\n",
       "Name: day_of_week, dtype: int64"
      ]
     },
     "execution_count": 35,
     "metadata": {},
     "output_type": "execute_result"
    }
   ],
   "source": [
    "td.day_of_week.value_counts()"
   ]
  },
  {
   "cell_type": "code",
   "execution_count": 38,
   "id": "1bd965cc",
   "metadata": {},
   "outputs": [
    {
     "data": {
      "text/plain": [
       "nonexistent    35563\n",
       "failure         4252\n",
       "success         1373\n",
       "Name: poutcome, dtype: int64"
      ]
     },
     "execution_count": 38,
     "metadata": {},
     "output_type": "execute_result"
    }
   ],
   "source": [
    "td.poutcome.value_counts()"
   ]
  },
  {
   "cell_type": "code",
   "execution_count": 4,
   "id": "adde0bd8",
   "metadata": {},
   "outputs": [],
   "source": [
    "td.drop(['contact','month','day_of_week'],axis=1,inplace=True)       # Dropping 'contact','month' and 'day_of_week' column"
   ]
  },
  {
   "cell_type": "code",
   "execution_count": 5,
   "id": "0bc61218",
   "metadata": {},
   "outputs": [],
   "source": [
    "td.job.replace({'housemaid':3, 'services':8, 'admin.':10, 'blue-collar':9, 'technician':7,\n",
    "       'retired':11, 'management':6, 'unemployed':1, 'self-employed':4, 'unknown':0,\n",
    "       'entrepreneur':5, 'student':2},inplace=True)\n",
    "td.marital.replace({'married':3, 'single':1, 'divorced':2, 'unknown':0},inplace=True)\n",
    "td.education.replace({'basic.4y':3, 'high.school':6, 'basic.6y':4, 'basic.9y':5,\n",
    "       'professional.course':7, 'unknown':0, 'university.degree':8,\n",
    "       'illiterate':1},inplace=True)\n",
    "td.default.replace({'no':1, 'unknown':0, 'yes':2},inplace=True)\n",
    "td.housing.replace({'no':1, 'unknown':0, 'yes':2},inplace=True)\n",
    "td.loan.replace({'no':1, 'unknown':0, 'yes':2},inplace=True)\n",
    "td.poutcome.replace({'nonexistent':1, 'failure':0, 'success':2},inplace=True)\n",
    "td.y.replace({'yes':1,'no':0},inplace=True)"
   ]
  },
  {
   "cell_type": "code",
   "execution_count": 6,
   "id": "8cac6987",
   "metadata": {},
   "outputs": [
    {
     "name": "stdout",
     "output_type": "stream",
     "text": [
      "<class 'pandas.core.frame.DataFrame'>\n",
      "RangeIndex: 41188 entries, 0 to 41187\n",
      "Data columns (total 17 columns):\n",
      " #   Column          Non-Null Count  Dtype  \n",
      "---  ------          --------------  -----  \n",
      " 0   age             41188 non-null  int64  \n",
      " 1   job             41188 non-null  int64  \n",
      " 2   marital         41188 non-null  int64  \n",
      " 3   education       41188 non-null  int64  \n",
      " 4   default         41188 non-null  int64  \n",
      " 5   housing         41188 non-null  int64  \n",
      " 6   loan            41188 non-null  int64  \n",
      " 7   campaign        41188 non-null  int64  \n",
      " 8   pdays           41188 non-null  int64  \n",
      " 9   previous        41188 non-null  int64  \n",
      " 10  poutcome        41188 non-null  int64  \n",
      " 11  emp.var.rate    41188 non-null  float64\n",
      " 12  cons.price.idx  41188 non-null  float64\n",
      " 13  cons.conf.idx   41188 non-null  float64\n",
      " 14  euribor3m       41188 non-null  float64\n",
      " 15  nr.employed     41188 non-null  float64\n",
      " 16  y               41188 non-null  int64  \n",
      "dtypes: float64(5), int64(12)\n",
      "memory usage: 5.3 MB\n"
     ]
    }
   ],
   "source": [
    "td.info()                # checking if all columns are non null and int datatype"
   ]
  },
  {
   "cell_type": "code",
   "execution_count": 16,
   "id": "db509f2d",
   "metadata": {},
   "outputs": [],
   "source": [
    "# Datacleaning is done"
   ]
  },
  {
   "cell_type": "markdown",
   "id": "fa2cddf9",
   "metadata": {},
   "source": [
    "# Sampling"
   ]
  },
  {
   "cell_type": "code",
   "execution_count": 7,
   "id": "cf5b4d4f",
   "metadata": {},
   "outputs": [],
   "source": [
    "from sklearn.model_selection import train_test_split"
   ]
  },
  {
   "cell_type": "code",
   "execution_count": 8,
   "id": "a646316f",
   "metadata": {},
   "outputs": [],
   "source": [
    "train,test=train_test_split(td,test_size=0.2)     # Random sampling (dividing data into train and test in ratio 80:20)\n",
    "                                                  # 80% data in train and 20% data in test"
   ]
  },
  {
   "cell_type": "code",
   "execution_count": 19,
   "id": "2da22975",
   "metadata": {},
   "outputs": [],
   "source": [
    "# Checking if the data is being divided into 80:20 ratio or not"
   ]
  },
  {
   "cell_type": "code",
   "execution_count": 20,
   "id": "d679e5d6",
   "metadata": {},
   "outputs": [
    {
     "data": {
      "text/plain": [
       "(41188, 17)"
      ]
     },
     "execution_count": 20,
     "metadata": {},
     "output_type": "execute_result"
    }
   ],
   "source": [
    "td.shape"
   ]
  },
  {
   "cell_type": "code",
   "execution_count": 21,
   "id": "5ae9ea70",
   "metadata": {},
   "outputs": [
    {
     "name": "stdout",
     "output_type": "stream",
     "text": [
      "32950.4\n"
     ]
    }
   ],
   "source": [
    " # So in train--------> 80% of 41188 will come that is \n",
    "print((80/100)*41188)"
   ]
  },
  {
   "cell_type": "code",
   "execution_count": 22,
   "id": "32f59a73",
   "metadata": {},
   "outputs": [
    {
     "name": "stdout",
     "output_type": "stream",
     "text": [
      "8237.6\n"
     ]
    }
   ],
   "source": [
    "# And in test --------> 20% of 41188 will come that is\n",
    "print((20/100)*41188)"
   ]
  },
  {
   "cell_type": "code",
   "execution_count": 95,
   "id": "42b2dab5",
   "metadata": {},
   "outputs": [
    {
     "data": {
      "text/plain": [
       "(32950, 17)"
      ]
     },
     "execution_count": 95,
     "metadata": {},
     "output_type": "execute_result"
    }
   ],
   "source": [
    "train.shape"
   ]
  },
  {
   "cell_type": "code",
   "execution_count": 96,
   "id": "fd61258b",
   "metadata": {},
   "outputs": [
    {
     "data": {
      "text/plain": [
       "(8238, 17)"
      ]
     },
     "execution_count": 96,
     "metadata": {},
     "output_type": "execute_result"
    }
   ],
   "source": [
    "test.shape"
   ]
  },
  {
   "cell_type": "code",
   "execution_count": 9,
   "id": "962aa70c",
   "metadata": {},
   "outputs": [],
   "source": [
    "train_x=train.iloc[0::,0:-1]          # dividing train into train_x and train_y\n",
    "train_y=train.iloc[0::,-1]"
   ]
  },
  {
   "cell_type": "code",
   "execution_count": 78,
   "id": "91cff839",
   "metadata": {},
   "outputs": [
    {
     "data": {
      "text/html": [
       "<div>\n",
       "<style scoped>\n",
       "    .dataframe tbody tr th:only-of-type {\n",
       "        vertical-align: middle;\n",
       "    }\n",
       "\n",
       "    .dataframe tbody tr th {\n",
       "        vertical-align: top;\n",
       "    }\n",
       "\n",
       "    .dataframe thead th {\n",
       "        text-align: right;\n",
       "    }\n",
       "</style>\n",
       "<table border=\"1\" class=\"dataframe\">\n",
       "  <thead>\n",
       "    <tr style=\"text-align: right;\">\n",
       "      <th></th>\n",
       "      <th>age</th>\n",
       "      <th>job</th>\n",
       "      <th>marital</th>\n",
       "      <th>education</th>\n",
       "      <th>default</th>\n",
       "      <th>housing</th>\n",
       "      <th>loan</th>\n",
       "      <th>campaign</th>\n",
       "      <th>pdays</th>\n",
       "      <th>previous</th>\n",
       "      <th>poutcome</th>\n",
       "      <th>emp.var.rate</th>\n",
       "      <th>cons.price.idx</th>\n",
       "      <th>cons.conf.idx</th>\n",
       "      <th>euribor3m</th>\n",
       "      <th>nr.employed</th>\n",
       "    </tr>\n",
       "  </thead>\n",
       "  <tbody>\n",
       "    <tr>\n",
       "      <th>8416</th>\n",
       "      <td>40</td>\n",
       "      <td>10</td>\n",
       "      <td>1</td>\n",
       "      <td>8</td>\n",
       "      <td>0</td>\n",
       "      <td>2</td>\n",
       "      <td>1</td>\n",
       "      <td>2</td>\n",
       "      <td>999</td>\n",
       "      <td>0</td>\n",
       "      <td>1</td>\n",
       "      <td>1.4</td>\n",
       "      <td>94.465</td>\n",
       "      <td>-41.8</td>\n",
       "      <td>4.864</td>\n",
       "      <td>5228.1</td>\n",
       "    </tr>\n",
       "    <tr>\n",
       "      <th>28014</th>\n",
       "      <td>43</td>\n",
       "      <td>8</td>\n",
       "      <td>2</td>\n",
       "      <td>6</td>\n",
       "      <td>0</td>\n",
       "      <td>2</td>\n",
       "      <td>1</td>\n",
       "      <td>1</td>\n",
       "      <td>999</td>\n",
       "      <td>1</td>\n",
       "      <td>0</td>\n",
       "      <td>-1.8</td>\n",
       "      <td>93.075</td>\n",
       "      <td>-47.1</td>\n",
       "      <td>1.483</td>\n",
       "      <td>5099.1</td>\n",
       "    </tr>\n",
       "    <tr>\n",
       "      <th>10828</th>\n",
       "      <td>26</td>\n",
       "      <td>9</td>\n",
       "      <td>1</td>\n",
       "      <td>0</td>\n",
       "      <td>1</td>\n",
       "      <td>2</td>\n",
       "      <td>2</td>\n",
       "      <td>1</td>\n",
       "      <td>999</td>\n",
       "      <td>0</td>\n",
       "      <td>1</td>\n",
       "      <td>1.4</td>\n",
       "      <td>94.465</td>\n",
       "      <td>-41.8</td>\n",
       "      <td>4.962</td>\n",
       "      <td>5228.1</td>\n",
       "    </tr>\n",
       "    <tr>\n",
       "      <th>6224</th>\n",
       "      <td>59</td>\n",
       "      <td>5</td>\n",
       "      <td>3</td>\n",
       "      <td>8</td>\n",
       "      <td>0</td>\n",
       "      <td>2</td>\n",
       "      <td>1</td>\n",
       "      <td>2</td>\n",
       "      <td>999</td>\n",
       "      <td>0</td>\n",
       "      <td>1</td>\n",
       "      <td>1.1</td>\n",
       "      <td>93.994</td>\n",
       "      <td>-36.4</td>\n",
       "      <td>4.857</td>\n",
       "      <td>5191.0</td>\n",
       "    </tr>\n",
       "    <tr>\n",
       "      <th>39491</th>\n",
       "      <td>58</td>\n",
       "      <td>1</td>\n",
       "      <td>3</td>\n",
       "      <td>5</td>\n",
       "      <td>1</td>\n",
       "      <td>2</td>\n",
       "      <td>1</td>\n",
       "      <td>1</td>\n",
       "      <td>6</td>\n",
       "      <td>1</td>\n",
       "      <td>2</td>\n",
       "      <td>-1.8</td>\n",
       "      <td>93.749</td>\n",
       "      <td>-34.6</td>\n",
       "      <td>0.644</td>\n",
       "      <td>5008.7</td>\n",
       "    </tr>\n",
       "    <tr>\n",
       "      <th>...</th>\n",
       "      <td>...</td>\n",
       "      <td>...</td>\n",
       "      <td>...</td>\n",
       "      <td>...</td>\n",
       "      <td>...</td>\n",
       "      <td>...</td>\n",
       "      <td>...</td>\n",
       "      <td>...</td>\n",
       "      <td>...</td>\n",
       "      <td>...</td>\n",
       "      <td>...</td>\n",
       "      <td>...</td>\n",
       "      <td>...</td>\n",
       "      <td>...</td>\n",
       "      <td>...</td>\n",
       "      <td>...</td>\n",
       "    </tr>\n",
       "    <tr>\n",
       "      <th>32958</th>\n",
       "      <td>33</td>\n",
       "      <td>10</td>\n",
       "      <td>3</td>\n",
       "      <td>8</td>\n",
       "      <td>1</td>\n",
       "      <td>1</td>\n",
       "      <td>2</td>\n",
       "      <td>1</td>\n",
       "      <td>999</td>\n",
       "      <td>0</td>\n",
       "      <td>1</td>\n",
       "      <td>-1.8</td>\n",
       "      <td>92.893</td>\n",
       "      <td>-46.2</td>\n",
       "      <td>1.299</td>\n",
       "      <td>5099.1</td>\n",
       "    </tr>\n",
       "    <tr>\n",
       "      <th>10564</th>\n",
       "      <td>34</td>\n",
       "      <td>10</td>\n",
       "      <td>3</td>\n",
       "      <td>8</td>\n",
       "      <td>1</td>\n",
       "      <td>2</td>\n",
       "      <td>2</td>\n",
       "      <td>1</td>\n",
       "      <td>999</td>\n",
       "      <td>0</td>\n",
       "      <td>1</td>\n",
       "      <td>1.4</td>\n",
       "      <td>94.465</td>\n",
       "      <td>-41.8</td>\n",
       "      <td>4.961</td>\n",
       "      <td>5228.1</td>\n",
       "    </tr>\n",
       "    <tr>\n",
       "      <th>36863</th>\n",
       "      <td>46</td>\n",
       "      <td>10</td>\n",
       "      <td>1</td>\n",
       "      <td>8</td>\n",
       "      <td>1</td>\n",
       "      <td>1</td>\n",
       "      <td>1</td>\n",
       "      <td>1</td>\n",
       "      <td>999</td>\n",
       "      <td>0</td>\n",
       "      <td>1</td>\n",
       "      <td>-2.9</td>\n",
       "      <td>92.963</td>\n",
       "      <td>-40.8</td>\n",
       "      <td>1.252</td>\n",
       "      <td>5076.2</td>\n",
       "    </tr>\n",
       "    <tr>\n",
       "      <th>11013</th>\n",
       "      <td>24</td>\n",
       "      <td>7</td>\n",
       "      <td>1</td>\n",
       "      <td>7</td>\n",
       "      <td>1</td>\n",
       "      <td>2</td>\n",
       "      <td>1</td>\n",
       "      <td>2</td>\n",
       "      <td>999</td>\n",
       "      <td>0</td>\n",
       "      <td>1</td>\n",
       "      <td>1.4</td>\n",
       "      <td>94.465</td>\n",
       "      <td>-41.8</td>\n",
       "      <td>4.962</td>\n",
       "      <td>5228.1</td>\n",
       "    </tr>\n",
       "    <tr>\n",
       "      <th>24830</th>\n",
       "      <td>32</td>\n",
       "      <td>9</td>\n",
       "      <td>3</td>\n",
       "      <td>5</td>\n",
       "      <td>1</td>\n",
       "      <td>2</td>\n",
       "      <td>2</td>\n",
       "      <td>1</td>\n",
       "      <td>999</td>\n",
       "      <td>0</td>\n",
       "      <td>1</td>\n",
       "      <td>-0.1</td>\n",
       "      <td>93.200</td>\n",
       "      <td>-42.0</td>\n",
       "      <td>4.153</td>\n",
       "      <td>5195.8</td>\n",
       "    </tr>\n",
       "  </tbody>\n",
       "</table>\n",
       "<p>32950 rows × 16 columns</p>\n",
       "</div>"
      ],
      "text/plain": [
       "       age  job  marital  education  default  housing  loan  campaign  pdays  \\\n",
       "8416    40   10        1          8        0        2     1         2    999   \n",
       "28014   43    8        2          6        0        2     1         1    999   \n",
       "10828   26    9        1          0        1        2     2         1    999   \n",
       "6224    59    5        3          8        0        2     1         2    999   \n",
       "39491   58    1        3          5        1        2     1         1      6   \n",
       "...    ...  ...      ...        ...      ...      ...   ...       ...    ...   \n",
       "32958   33   10        3          8        1        1     2         1    999   \n",
       "10564   34   10        3          8        1        2     2         1    999   \n",
       "36863   46   10        1          8        1        1     1         1    999   \n",
       "11013   24    7        1          7        1        2     1         2    999   \n",
       "24830   32    9        3          5        1        2     2         1    999   \n",
       "\n",
       "       previous  poutcome  emp.var.rate  cons.price.idx  cons.conf.idx  \\\n",
       "8416          0         1           1.4          94.465          -41.8   \n",
       "28014         1         0          -1.8          93.075          -47.1   \n",
       "10828         0         1           1.4          94.465          -41.8   \n",
       "6224          0         1           1.1          93.994          -36.4   \n",
       "39491         1         2          -1.8          93.749          -34.6   \n",
       "...         ...       ...           ...             ...            ...   \n",
       "32958         0         1          -1.8          92.893          -46.2   \n",
       "10564         0         1           1.4          94.465          -41.8   \n",
       "36863         0         1          -2.9          92.963          -40.8   \n",
       "11013         0         1           1.4          94.465          -41.8   \n",
       "24830         0         1          -0.1          93.200          -42.0   \n",
       "\n",
       "       euribor3m  nr.employed  \n",
       "8416       4.864       5228.1  \n",
       "28014      1.483       5099.1  \n",
       "10828      4.962       5228.1  \n",
       "6224       4.857       5191.0  \n",
       "39491      0.644       5008.7  \n",
       "...          ...          ...  \n",
       "32958      1.299       5099.1  \n",
       "10564      4.961       5228.1  \n",
       "36863      1.252       5076.2  \n",
       "11013      4.962       5228.1  \n",
       "24830      4.153       5195.8  \n",
       "\n",
       "[32950 rows x 16 columns]"
      ]
     },
     "execution_count": 78,
     "metadata": {},
     "output_type": "execute_result"
    }
   ],
   "source": [
    "train_x                                # contains all x variables in train excluding the target variable"
   ]
  },
  {
   "cell_type": "code",
   "execution_count": 79,
   "id": "fc2d8779",
   "metadata": {},
   "outputs": [
    {
     "data": {
      "text/plain": [
       "8416     0\n",
       "28014    0\n",
       "10828    0\n",
       "6224     0\n",
       "39491    1\n",
       "        ..\n",
       "32958    0\n",
       "10564    0\n",
       "36863    0\n",
       "11013    0\n",
       "24830    0\n",
       "Name: y, Length: 32950, dtype: int64"
      ]
     },
     "execution_count": 79,
     "metadata": {},
     "output_type": "execute_result"
    }
   ],
   "source": [
    "train_y                             # contains the target variable in train data"
   ]
  },
  {
   "cell_type": "code",
   "execution_count": 10,
   "id": "01d0aa90",
   "metadata": {},
   "outputs": [],
   "source": [
    "test_x=test.iloc[0::,0:-1]          # dividing test into test_x and test_y\n",
    "test_y=test.iloc[0::,-1]"
   ]
  },
  {
   "cell_type": "code",
   "execution_count": 98,
   "id": "9c2f3c5b",
   "metadata": {},
   "outputs": [
    {
     "data": {
      "text/html": [
       "<div>\n",
       "<style scoped>\n",
       "    .dataframe tbody tr th:only-of-type {\n",
       "        vertical-align: middle;\n",
       "    }\n",
       "\n",
       "    .dataframe tbody tr th {\n",
       "        vertical-align: top;\n",
       "    }\n",
       "\n",
       "    .dataframe thead th {\n",
       "        text-align: right;\n",
       "    }\n",
       "</style>\n",
       "<table border=\"1\" class=\"dataframe\">\n",
       "  <thead>\n",
       "    <tr style=\"text-align: right;\">\n",
       "      <th></th>\n",
       "      <th>age</th>\n",
       "      <th>job</th>\n",
       "      <th>marital</th>\n",
       "      <th>education</th>\n",
       "      <th>default</th>\n",
       "      <th>housing</th>\n",
       "      <th>loan</th>\n",
       "      <th>campaign</th>\n",
       "      <th>pdays</th>\n",
       "      <th>previous</th>\n",
       "      <th>poutcome</th>\n",
       "      <th>emp.var.rate</th>\n",
       "      <th>cons.price.idx</th>\n",
       "      <th>cons.conf.idx</th>\n",
       "      <th>euribor3m</th>\n",
       "      <th>nr.employed</th>\n",
       "    </tr>\n",
       "  </thead>\n",
       "  <tbody>\n",
       "    <tr>\n",
       "      <th>22681</th>\n",
       "      <td>40</td>\n",
       "      <td>7</td>\n",
       "      <td>1</td>\n",
       "      <td>8</td>\n",
       "      <td>1</td>\n",
       "      <td>1</td>\n",
       "      <td>2</td>\n",
       "      <td>7</td>\n",
       "      <td>999</td>\n",
       "      <td>0</td>\n",
       "      <td>1</td>\n",
       "      <td>1.4</td>\n",
       "      <td>93.444</td>\n",
       "      <td>-36.1</td>\n",
       "      <td>4.964</td>\n",
       "      <td>5228.1</td>\n",
       "    </tr>\n",
       "    <tr>\n",
       "      <th>26583</th>\n",
       "      <td>39</td>\n",
       "      <td>10</td>\n",
       "      <td>3</td>\n",
       "      <td>6</td>\n",
       "      <td>1</td>\n",
       "      <td>2</td>\n",
       "      <td>1</td>\n",
       "      <td>1</td>\n",
       "      <td>999</td>\n",
       "      <td>0</td>\n",
       "      <td>1</td>\n",
       "      <td>-0.1</td>\n",
       "      <td>93.200</td>\n",
       "      <td>-42.0</td>\n",
       "      <td>4.076</td>\n",
       "      <td>5195.8</td>\n",
       "    </tr>\n",
       "    <tr>\n",
       "      <th>40823</th>\n",
       "      <td>33</td>\n",
       "      <td>7</td>\n",
       "      <td>1</td>\n",
       "      <td>7</td>\n",
       "      <td>1</td>\n",
       "      <td>2</td>\n",
       "      <td>1</td>\n",
       "      <td>1</td>\n",
       "      <td>999</td>\n",
       "      <td>0</td>\n",
       "      <td>1</td>\n",
       "      <td>-1.1</td>\n",
       "      <td>94.199</td>\n",
       "      <td>-37.5</td>\n",
       "      <td>0.879</td>\n",
       "      <td>4963.6</td>\n",
       "    </tr>\n",
       "    <tr>\n",
       "      <th>29717</th>\n",
       "      <td>38</td>\n",
       "      <td>4</td>\n",
       "      <td>3</td>\n",
       "      <td>8</td>\n",
       "      <td>0</td>\n",
       "      <td>2</td>\n",
       "      <td>1</td>\n",
       "      <td>3</td>\n",
       "      <td>999</td>\n",
       "      <td>0</td>\n",
       "      <td>1</td>\n",
       "      <td>-1.8</td>\n",
       "      <td>93.075</td>\n",
       "      <td>-47.1</td>\n",
       "      <td>1.405</td>\n",
       "      <td>5099.1</td>\n",
       "    </tr>\n",
       "    <tr>\n",
       "      <th>35116</th>\n",
       "      <td>54</td>\n",
       "      <td>9</td>\n",
       "      <td>3</td>\n",
       "      <td>3</td>\n",
       "      <td>1</td>\n",
       "      <td>2</td>\n",
       "      <td>2</td>\n",
       "      <td>1</td>\n",
       "      <td>999</td>\n",
       "      <td>1</td>\n",
       "      <td>0</td>\n",
       "      <td>-1.8</td>\n",
       "      <td>92.893</td>\n",
       "      <td>-46.2</td>\n",
       "      <td>1.250</td>\n",
       "      <td>5099.1</td>\n",
       "    </tr>\n",
       "    <tr>\n",
       "      <th>...</th>\n",
       "      <td>...</td>\n",
       "      <td>...</td>\n",
       "      <td>...</td>\n",
       "      <td>...</td>\n",
       "      <td>...</td>\n",
       "      <td>...</td>\n",
       "      <td>...</td>\n",
       "      <td>...</td>\n",
       "      <td>...</td>\n",
       "      <td>...</td>\n",
       "      <td>...</td>\n",
       "      <td>...</td>\n",
       "      <td>...</td>\n",
       "      <td>...</td>\n",
       "      <td>...</td>\n",
       "      <td>...</td>\n",
       "    </tr>\n",
       "    <tr>\n",
       "      <th>14446</th>\n",
       "      <td>27</td>\n",
       "      <td>7</td>\n",
       "      <td>1</td>\n",
       "      <td>7</td>\n",
       "      <td>1</td>\n",
       "      <td>2</td>\n",
       "      <td>1</td>\n",
       "      <td>2</td>\n",
       "      <td>999</td>\n",
       "      <td>0</td>\n",
       "      <td>1</td>\n",
       "      <td>1.4</td>\n",
       "      <td>93.918</td>\n",
       "      <td>-42.7</td>\n",
       "      <td>4.961</td>\n",
       "      <td>5228.1</td>\n",
       "    </tr>\n",
       "    <tr>\n",
       "      <th>35318</th>\n",
       "      <td>30</td>\n",
       "      <td>7</td>\n",
       "      <td>3</td>\n",
       "      <td>5</td>\n",
       "      <td>1</td>\n",
       "      <td>2</td>\n",
       "      <td>1</td>\n",
       "      <td>2</td>\n",
       "      <td>999</td>\n",
       "      <td>0</td>\n",
       "      <td>1</td>\n",
       "      <td>-1.8</td>\n",
       "      <td>92.893</td>\n",
       "      <td>-46.2</td>\n",
       "      <td>1.250</td>\n",
       "      <td>5099.1</td>\n",
       "    </tr>\n",
       "    <tr>\n",
       "      <th>13775</th>\n",
       "      <td>22</td>\n",
       "      <td>9</td>\n",
       "      <td>1</td>\n",
       "      <td>5</td>\n",
       "      <td>1</td>\n",
       "      <td>2</td>\n",
       "      <td>2</td>\n",
       "      <td>10</td>\n",
       "      <td>999</td>\n",
       "      <td>0</td>\n",
       "      <td>1</td>\n",
       "      <td>1.4</td>\n",
       "      <td>93.918</td>\n",
       "      <td>-42.7</td>\n",
       "      <td>4.963</td>\n",
       "      <td>5228.1</td>\n",
       "    </tr>\n",
       "    <tr>\n",
       "      <th>41149</th>\n",
       "      <td>30</td>\n",
       "      <td>10</td>\n",
       "      <td>1</td>\n",
       "      <td>8</td>\n",
       "      <td>1</td>\n",
       "      <td>2</td>\n",
       "      <td>1</td>\n",
       "      <td>2</td>\n",
       "      <td>999</td>\n",
       "      <td>0</td>\n",
       "      <td>1</td>\n",
       "      <td>-1.1</td>\n",
       "      <td>94.767</td>\n",
       "      <td>-50.8</td>\n",
       "      <td>1.039</td>\n",
       "      <td>4963.6</td>\n",
       "    </tr>\n",
       "    <tr>\n",
       "      <th>16724</th>\n",
       "      <td>48</td>\n",
       "      <td>7</td>\n",
       "      <td>2</td>\n",
       "      <td>7</td>\n",
       "      <td>1</td>\n",
       "      <td>2</td>\n",
       "      <td>2</td>\n",
       "      <td>2</td>\n",
       "      <td>999</td>\n",
       "      <td>0</td>\n",
       "      <td>1</td>\n",
       "      <td>1.4</td>\n",
       "      <td>93.918</td>\n",
       "      <td>-42.7</td>\n",
       "      <td>4.963</td>\n",
       "      <td>5228.1</td>\n",
       "    </tr>\n",
       "  </tbody>\n",
       "</table>\n",
       "<p>8238 rows × 16 columns</p>\n",
       "</div>"
      ],
      "text/plain": [
       "       age  job  marital  education  default  housing  loan  campaign  pdays  \\\n",
       "22681   40    7        1          8        1        1     2         7    999   \n",
       "26583   39   10        3          6        1        2     1         1    999   \n",
       "40823   33    7        1          7        1        2     1         1    999   \n",
       "29717   38    4        3          8        0        2     1         3    999   \n",
       "35116   54    9        3          3        1        2     2         1    999   \n",
       "...    ...  ...      ...        ...      ...      ...   ...       ...    ...   \n",
       "14446   27    7        1          7        1        2     1         2    999   \n",
       "35318   30    7        3          5        1        2     1         2    999   \n",
       "13775   22    9        1          5        1        2     2        10    999   \n",
       "41149   30   10        1          8        1        2     1         2    999   \n",
       "16724   48    7        2          7        1        2     2         2    999   \n",
       "\n",
       "       previous  poutcome  emp.var.rate  cons.price.idx  cons.conf.idx  \\\n",
       "22681         0         1           1.4          93.444          -36.1   \n",
       "26583         0         1          -0.1          93.200          -42.0   \n",
       "40823         0         1          -1.1          94.199          -37.5   \n",
       "29717         0         1          -1.8          93.075          -47.1   \n",
       "35116         1         0          -1.8          92.893          -46.2   \n",
       "...         ...       ...           ...             ...            ...   \n",
       "14446         0         1           1.4          93.918          -42.7   \n",
       "35318         0         1          -1.8          92.893          -46.2   \n",
       "13775         0         1           1.4          93.918          -42.7   \n",
       "41149         0         1          -1.1          94.767          -50.8   \n",
       "16724         0         1           1.4          93.918          -42.7   \n",
       "\n",
       "       euribor3m  nr.employed  \n",
       "22681      4.964       5228.1  \n",
       "26583      4.076       5195.8  \n",
       "40823      0.879       4963.6  \n",
       "29717      1.405       5099.1  \n",
       "35116      1.250       5099.1  \n",
       "...          ...          ...  \n",
       "14446      4.961       5228.1  \n",
       "35318      1.250       5099.1  \n",
       "13775      4.963       5228.1  \n",
       "41149      1.039       4963.6  \n",
       "16724      4.963       5228.1  \n",
       "\n",
       "[8238 rows x 16 columns]"
      ]
     },
     "execution_count": 98,
     "metadata": {},
     "output_type": "execute_result"
    }
   ],
   "source": [
    "test_x                                # contains all x variables in test excluding the target variable"
   ]
  },
  {
   "cell_type": "code",
   "execution_count": 99,
   "id": "1044075a",
   "metadata": {},
   "outputs": [
    {
     "data": {
      "text/plain": [
       "22681    0\n",
       "26583    0\n",
       "40823    1\n",
       "29717    0\n",
       "35116    0\n",
       "        ..\n",
       "14446    0\n",
       "35318    0\n",
       "13775    0\n",
       "41149    0\n",
       "16724    0\n",
       "Name: y, Length: 8238, dtype: int64"
      ]
     },
     "execution_count": 99,
     "metadata": {},
     "output_type": "execute_result"
    }
   ],
   "source": [
    "test_y                              #  contains the target variable in test data"
   ]
  },
  {
   "cell_type": "markdown",
   "id": "51417d30",
   "metadata": {},
   "source": [
    "# Building logistic regression model"
   ]
  },
  {
   "cell_type": "code",
   "execution_count": 25,
   "id": "339d7987",
   "metadata": {},
   "outputs": [],
   "source": [
    "from sklearn.linear_model import LogisticRegression\n",
    "logreg=LogisticRegression()"
   ]
  },
  {
   "cell_type": "code",
   "execution_count": 26,
   "id": "1c981b3e",
   "metadata": {},
   "outputs": [
    {
     "data": {
      "text/html": [
       "<style>#sk-container-id-1 {color: black;background-color: white;}#sk-container-id-1 pre{padding: 0;}#sk-container-id-1 div.sk-toggleable {background-color: white;}#sk-container-id-1 label.sk-toggleable__label {cursor: pointer;display: block;width: 100%;margin-bottom: 0;padding: 0.3em;box-sizing: border-box;text-align: center;}#sk-container-id-1 label.sk-toggleable__label-arrow:before {content: \"▸\";float: left;margin-right: 0.25em;color: #696969;}#sk-container-id-1 label.sk-toggleable__label-arrow:hover:before {color: black;}#sk-container-id-1 div.sk-estimator:hover label.sk-toggleable__label-arrow:before {color: black;}#sk-container-id-1 div.sk-toggleable__content {max-height: 0;max-width: 0;overflow: hidden;text-align: left;background-color: #f0f8ff;}#sk-container-id-1 div.sk-toggleable__content pre {margin: 0.2em;color: black;border-radius: 0.25em;background-color: #f0f8ff;}#sk-container-id-1 input.sk-toggleable__control:checked~div.sk-toggleable__content {max-height: 200px;max-width: 100%;overflow: auto;}#sk-container-id-1 input.sk-toggleable__control:checked~label.sk-toggleable__label-arrow:before {content: \"▾\";}#sk-container-id-1 div.sk-estimator input.sk-toggleable__control:checked~label.sk-toggleable__label {background-color: #d4ebff;}#sk-container-id-1 div.sk-label input.sk-toggleable__control:checked~label.sk-toggleable__label {background-color: #d4ebff;}#sk-container-id-1 input.sk-hidden--visually {border: 0;clip: rect(1px 1px 1px 1px);clip: rect(1px, 1px, 1px, 1px);height: 1px;margin: -1px;overflow: hidden;padding: 0;position: absolute;width: 1px;}#sk-container-id-1 div.sk-estimator {font-family: monospace;background-color: #f0f8ff;border: 1px dotted black;border-radius: 0.25em;box-sizing: border-box;margin-bottom: 0.5em;}#sk-container-id-1 div.sk-estimator:hover {background-color: #d4ebff;}#sk-container-id-1 div.sk-parallel-item::after {content: \"\";width: 100%;border-bottom: 1px solid gray;flex-grow: 1;}#sk-container-id-1 div.sk-label:hover label.sk-toggleable__label {background-color: #d4ebff;}#sk-container-id-1 div.sk-serial::before {content: \"\";position: absolute;border-left: 1px solid gray;box-sizing: border-box;top: 0;bottom: 0;left: 50%;z-index: 0;}#sk-container-id-1 div.sk-serial {display: flex;flex-direction: column;align-items: center;background-color: white;padding-right: 0.2em;padding-left: 0.2em;position: relative;}#sk-container-id-1 div.sk-item {position: relative;z-index: 1;}#sk-container-id-1 div.sk-parallel {display: flex;align-items: stretch;justify-content: center;background-color: white;position: relative;}#sk-container-id-1 div.sk-item::before, #sk-container-id-1 div.sk-parallel-item::before {content: \"\";position: absolute;border-left: 1px solid gray;box-sizing: border-box;top: 0;bottom: 0;left: 50%;z-index: -1;}#sk-container-id-1 div.sk-parallel-item {display: flex;flex-direction: column;z-index: 1;position: relative;background-color: white;}#sk-container-id-1 div.sk-parallel-item:first-child::after {align-self: flex-end;width: 50%;}#sk-container-id-1 div.sk-parallel-item:last-child::after {align-self: flex-start;width: 50%;}#sk-container-id-1 div.sk-parallel-item:only-child::after {width: 0;}#sk-container-id-1 div.sk-dashed-wrapped {border: 1px dashed gray;margin: 0 0.4em 0.5em 0.4em;box-sizing: border-box;padding-bottom: 0.4em;background-color: white;}#sk-container-id-1 div.sk-label label {font-family: monospace;font-weight: bold;display: inline-block;line-height: 1.2em;}#sk-container-id-1 div.sk-label-container {text-align: center;}#sk-container-id-1 div.sk-container {/* jupyter's `normalize.less` sets `[hidden] { display: none; }` but bootstrap.min.css set `[hidden] { display: none !important; }` so we also need the `!important` here to be able to override the default hidden behavior on the sphinx rendered scikit-learn.org. See: https://github.com/scikit-learn/scikit-learn/issues/21755 */display: inline-block !important;position: relative;}#sk-container-id-1 div.sk-text-repr-fallback {display: none;}</style><div id=\"sk-container-id-1\" class=\"sk-top-container\"><div class=\"sk-text-repr-fallback\"><pre>LogisticRegression()</pre><b>In a Jupyter environment, please rerun this cell to show the HTML representation or trust the notebook. <br />On GitHub, the HTML representation is unable to render, please try loading this page with nbviewer.org.</b></div><div class=\"sk-container\" hidden><div class=\"sk-item\"><div class=\"sk-estimator sk-toggleable\"><input class=\"sk-toggleable__control sk-hidden--visually\" id=\"sk-estimator-id-1\" type=\"checkbox\" checked><label for=\"sk-estimator-id-1\" class=\"sk-toggleable__label sk-toggleable__label-arrow\">LogisticRegression</label><div class=\"sk-toggleable__content\"><pre>LogisticRegression()</pre></div></div></div></div></div>"
      ],
      "text/plain": [
       "LogisticRegression()"
      ]
     },
     "execution_count": 26,
     "metadata": {},
     "output_type": "execute_result"
    }
   ],
   "source": [
    "logreg.fit(train_x,train_y)            # fitting(building) model on train data"
   ]
  },
  {
   "cell_type": "code",
   "execution_count": 27,
   "id": "510917e4",
   "metadata": {},
   "outputs": [],
   "source": [
    "pred_train=logreg.predict(train_x)                # predicting on train data"
   ]
  },
  {
   "cell_type": "code",
   "execution_count": 28,
   "id": "2d60b387",
   "metadata": {},
   "outputs": [],
   "source": [
    "pred_test=logreg.predict(test_x)                  # predicting on test data"
   ]
  },
  {
   "cell_type": "markdown",
   "id": "a8c8a602",
   "metadata": {},
   "source": [
    "# Evaluating the model"
   ]
  },
  {
   "cell_type": "markdown",
   "id": "52ddbe29",
   "metadata": {},
   "source": [
    "FOR EVALUATING LOGISTIC REGRESSION MOST IMPORTANT IS CONFUSION MATRIX\n",
    "\n",
    "\n",
    "FROM CONFUSION MATRIX WE GET----------->\n",
    "\n",
    "1> Tpr/recall_score(True positive ratio) \n",
    "\n",
    "2> Fpr(False positive ratio)\n",
    "\n",
    "3> Accuracy\n",
    "\n",
    "4> AUROC\n",
    "\n",
    "5> F1 Ratio"
   ]
  },
  {
   "cell_type": "code",
   "execution_count": 29,
   "id": "632614ae",
   "metadata": {},
   "outputs": [],
   "source": [
    "from sklearn.metrics import confusion_matrix,f1_score,recall_score,accuracy_score,roc_auc_score,roc_curve,precision_score"
   ]
  },
  {
   "cell_type": "markdown",
   "id": "e9f8f532",
   "metadata": {},
   "source": [
    "FOR TRAIN DATA"
   ]
  },
  {
   "cell_type": "code",
   "execution_count": 41,
   "id": "91126815",
   "metadata": {},
   "outputs": [],
   "source": [
    "tab1=confusion_matrix(train_y,pred_train)"
   ]
  },
  {
   "cell_type": "code",
   "execution_count": 42,
   "id": "0079860a",
   "metadata": {},
   "outputs": [
    {
     "data": {
      "text/plain": [
       "array([[28966,   312],\n",
       "       [ 2970,   702]], dtype=int64)"
      ]
     },
     "execution_count": 42,
     "metadata": {},
     "output_type": "execute_result"
    }
   ],
   "source": [
    "tab1"
   ]
  },
  {
   "cell_type": "code",
   "execution_count": 43,
   "id": "419ce437",
   "metadata": {},
   "outputs": [
    {
     "data": {
      "text/plain": [
       "0.2996158770806658"
      ]
     },
     "execution_count": 43,
     "metadata": {},
     "output_type": "execute_result"
    }
   ],
   "source": [
    "f1_score(train_y,pred_train)"
   ]
  },
  {
   "cell_type": "code",
   "execution_count": 44,
   "id": "3a05dd6e",
   "metadata": {},
   "outputs": [
    {
     "data": {
      "text/plain": [
       "0.19117647058823528"
      ]
     },
     "execution_count": 44,
     "metadata": {},
     "output_type": "execute_result"
    }
   ],
   "source": [
    "recall_score(train_y,pred_train)"
   ]
  },
  {
   "cell_type": "code",
   "execution_count": 45,
   "id": "a5334d56",
   "metadata": {},
   "outputs": [
    {
     "data": {
      "text/plain": [
       "0.9003945371775417"
      ]
     },
     "execution_count": 45,
     "metadata": {},
     "output_type": "execute_result"
    }
   ],
   "source": [
    "accuracy_score(train_y,pred_train)"
   ]
  },
  {
   "cell_type": "code",
   "execution_count": 46,
   "id": "7eb8adf0",
   "metadata": {},
   "outputs": [
    {
     "data": {
      "text/plain": [
       "0.010656465605574152"
      ]
     },
     "execution_count": 46,
     "metadata": {},
     "output_type": "execute_result"
    }
   ],
   "source": [
    "Fpr=tab1[0][1]/(tab1[0][0]+tab1[0][1])\n",
    "Fpr\n"
   ]
  },
  {
   "cell_type": "markdown",
   "id": "d03f2d2a",
   "metadata": {},
   "source": [
    "FOR TEST DATA"
   ]
  },
  {
   "cell_type": "code",
   "execution_count": 30,
   "id": "c68447bf",
   "metadata": {},
   "outputs": [],
   "source": [
    "tab1=confusion_matrix(test_y,pred_test)"
   ]
  },
  {
   "cell_type": "code",
   "execution_count": 31,
   "id": "1012c660",
   "metadata": {},
   "outputs": [
    {
     "data": {
      "text/plain": [
       "array([[7200,   70],\n",
       "       [ 785,  183]], dtype=int64)"
      ]
     },
     "execution_count": 31,
     "metadata": {},
     "output_type": "execute_result"
    }
   ],
   "source": [
    "tab1"
   ]
  },
  {
   "cell_type": "code",
   "execution_count": 32,
   "id": "4eaddbd5",
   "metadata": {},
   "outputs": [
    {
     "data": {
      "text/plain": [
       "89.62126729788784"
      ]
     },
     "execution_count": 32,
     "metadata": {},
     "output_type": "execute_result"
    }
   ],
   "source": [
    "accuracy=accuracy_score(test_y,pred_test)*100\n",
    "accuracy"
   ]
  },
  {
   "cell_type": "code",
   "execution_count": 33,
   "id": "04e4569e",
   "metadata": {},
   "outputs": [
    {
     "data": {
      "text/plain": [
       "0.009628610729023384"
      ]
     },
     "execution_count": 33,
     "metadata": {},
     "output_type": "execute_result"
    }
   ],
   "source": [
    "Fpr=tab1[0][1]/(tab1[0][0]+tab1[0][1])\n",
    "Fpr\n"
   ]
  },
  {
   "cell_type": "code",
   "execution_count": 34,
   "id": "5aad9953",
   "metadata": {},
   "outputs": [
    {
     "data": {
      "text/plain": [
       "18.90495867768595"
      ]
     },
     "execution_count": 34,
     "metadata": {},
     "output_type": "execute_result"
    }
   ],
   "source": [
    "Tpr=recall_score(test_y,pred_test)*100\n",
    "Tpr"
   ]
  },
  {
   "cell_type": "code",
   "execution_count": 35,
   "id": "1425b452",
   "metadata": {},
   "outputs": [
    {
     "data": {
      "text/plain": [
       "72.33201581027669"
      ]
     },
     "execution_count": 35,
     "metadata": {},
     "output_type": "execute_result"
    }
   ],
   "source": [
    "precision=precision_score(test_y,pred_test)*100\n",
    "precision"
   ]
  },
  {
   "cell_type": "code",
   "execution_count": 36,
   "id": "38986713",
   "metadata": {},
   "outputs": [
    {
     "data": {
      "text/plain": [
       "29.975429975429975"
      ]
     },
     "execution_count": 36,
     "metadata": {},
     "output_type": "execute_result"
    }
   ],
   "source": [
    "f1_ration=f1_score(test_y,pred_test)*100\n",
    "f1_ration"
   ]
  },
  {
   "cell_type": "code",
   "execution_count": 37,
   "id": "4052cc91",
   "metadata": {},
   "outputs": [],
   "source": [
    "pred_prob=logreg.predict_proba(test_x)"
   ]
  },
  {
   "cell_type": "code",
   "execution_count": 38,
   "id": "efadd40d",
   "metadata": {},
   "outputs": [
    {
     "data": {
      "text/plain": [
       "array([[0.96955614, 0.03044386],\n",
       "       [0.94157345, 0.05842655],\n",
       "       [0.93903859, 0.06096141],\n",
       "       ...,\n",
       "       [0.94566986, 0.05433014],\n",
       "       [0.95676162, 0.04323838],\n",
       "       [0.94885244, 0.05114756]])"
      ]
     },
     "execution_count": 38,
     "metadata": {},
     "output_type": "execute_result"
    }
   ],
   "source": [
    "pred_prob"
   ]
  },
  {
   "cell_type": "code",
   "execution_count": 235,
   "id": "cac1d526",
   "metadata": {},
   "outputs": [],
   "source": [
    "df=pd.DataFrame(pred_prob)"
   ]
  },
  {
   "cell_type": "code",
   "execution_count": 236,
   "id": "41d85236",
   "metadata": {},
   "outputs": [],
   "source": [
    "df.rename(columns=({df.columns[0]:'pred0',df.columns[1]:'pred1'}),inplace=True)"
   ]
  },
  {
   "cell_type": "code",
   "execution_count": 237,
   "id": "b94f735d",
   "metadata": {},
   "outputs": [
    {
     "data": {
      "text/html": [
       "<div>\n",
       "<style scoped>\n",
       "    .dataframe tbody tr th:only-of-type {\n",
       "        vertical-align: middle;\n",
       "    }\n",
       "\n",
       "    .dataframe tbody tr th {\n",
       "        vertical-align: top;\n",
       "    }\n",
       "\n",
       "    .dataframe thead th {\n",
       "        text-align: right;\n",
       "    }\n",
       "</style>\n",
       "<table border=\"1\" class=\"dataframe\">\n",
       "  <thead>\n",
       "    <tr style=\"text-align: right;\">\n",
       "      <th></th>\n",
       "      <th>pred0</th>\n",
       "      <th>pred1</th>\n",
       "    </tr>\n",
       "  </thead>\n",
       "  <tbody>\n",
       "    <tr>\n",
       "      <th>0</th>\n",
       "      <td>0.879683</td>\n",
       "      <td>0.120317</td>\n",
       "    </tr>\n",
       "    <tr>\n",
       "      <th>1</th>\n",
       "      <td>0.292232</td>\n",
       "      <td>0.707768</td>\n",
       "    </tr>\n",
       "    <tr>\n",
       "      <th>2</th>\n",
       "      <td>0.937474</td>\n",
       "      <td>0.062526</td>\n",
       "    </tr>\n",
       "    <tr>\n",
       "      <th>3</th>\n",
       "      <td>0.861825</td>\n",
       "      <td>0.138175</td>\n",
       "    </tr>\n",
       "    <tr>\n",
       "      <th>4</th>\n",
       "      <td>0.968767</td>\n",
       "      <td>0.031233</td>\n",
       "    </tr>\n",
       "    <tr>\n",
       "      <th>...</th>\n",
       "      <td>...</td>\n",
       "      <td>...</td>\n",
       "    </tr>\n",
       "    <tr>\n",
       "      <th>8233</th>\n",
       "      <td>0.957893</td>\n",
       "      <td>0.042107</td>\n",
       "    </tr>\n",
       "    <tr>\n",
       "      <th>8234</th>\n",
       "      <td>0.963179</td>\n",
       "      <td>0.036821</td>\n",
       "    </tr>\n",
       "    <tr>\n",
       "      <th>8235</th>\n",
       "      <td>0.953334</td>\n",
       "      <td>0.046666</td>\n",
       "    </tr>\n",
       "    <tr>\n",
       "      <th>8236</th>\n",
       "      <td>0.959166</td>\n",
       "      <td>0.040834</td>\n",
       "    </tr>\n",
       "    <tr>\n",
       "      <th>8237</th>\n",
       "      <td>0.942494</td>\n",
       "      <td>0.057506</td>\n",
       "    </tr>\n",
       "  </tbody>\n",
       "</table>\n",
       "<p>8238 rows × 2 columns</p>\n",
       "</div>"
      ],
      "text/plain": [
       "         pred0     pred1\n",
       "0     0.879683  0.120317\n",
       "1     0.292232  0.707768\n",
       "2     0.937474  0.062526\n",
       "3     0.861825  0.138175\n",
       "4     0.968767  0.031233\n",
       "...        ...       ...\n",
       "8233  0.957893  0.042107\n",
       "8234  0.963179  0.036821\n",
       "8235  0.953334  0.046666\n",
       "8236  0.959166  0.040834\n",
       "8237  0.942494  0.057506\n",
       "\n",
       "[8238 rows x 2 columns]"
      ]
     },
     "execution_count": 237,
     "metadata": {},
     "output_type": "execute_result"
    }
   ],
   "source": [
    "df"
   ]
  },
  {
   "cell_type": "code",
   "execution_count": 238,
   "id": "8189cb62",
   "metadata": {},
   "outputs": [
    {
     "data": {
      "text/plain": [
       "0.7754111509468653"
      ]
     },
     "execution_count": 238,
     "metadata": {},
     "output_type": "execute_result"
    }
   ],
   "source": [
    "roc_auc_score(test_y,pred_prob[:,1])"
   ]
  },
  {
   "cell_type": "code",
   "execution_count": 239,
   "id": "70e8328f",
   "metadata": {},
   "outputs": [],
   "source": [
    "fpr,tpr,thre=roc_curve(test_y,pred_prob[:,1])"
   ]
  },
  {
   "cell_type": "code",
   "execution_count": 240,
   "id": "c47c8e8c",
   "metadata": {},
   "outputs": [],
   "source": [
    "import matplotlib.pyplot as plt"
   ]
  },
  {
   "cell_type": "code",
   "execution_count": 242,
   "id": "c6f71cd1",
   "metadata": {},
   "outputs": [
    {
     "data": {
      "text/plain": [
       "Text(0.1, 0.8, 'area is 0.77 ')"
      ]
     },
     "execution_count": 242,
     "metadata": {},
     "output_type": "execute_result"
    },
    {
     "data": {
      "image/png": "[encoded data removed]",
      "text/plain": [
       "<Figure size 640x480 with 1 Axes>"
      ]
     },
     "metadata": {},
     "output_type": "display_data"
    }
   ],
   "source": [
    "plt.plot(fpr,tpr,color='red')\n",
    "plt.xlabel(\"fpr\",size=20)\n",
    "plt.ylabel(\"tpr\",size=20)\n",
    "plt.grid()\n",
    "plt.title(\"tpr vs fpr\",size=20)\n",
    "plt.text(x=0.1,y=0.8,s=\"area is 0.77 \")"
   ]
  },
  {
   "cell_type": "markdown",
   "id": "66c4cb8a",
   "metadata": {},
   "source": [
    "WE KNOW THAT WE WANT OUR MODEL TO HAVE\n",
    "\n",
    "--------> HIGH ACCURACY\n",
    "\n",
    "--------> HIGH Tpr\n",
    "\n",
    "--------> LOW Fpr\n",
    "\n",
    "--------> HIGH PRECISION\n",
    "\n",
    "--------> HIGH F1 RATION"
   ]
  },
  {
   "cell_type": "markdown",
   "id": "fd6f5a99",
   "metadata": {},
   "source": [
    "BUT HERE EVEN THOUGH OUR ACCURACY,PRECISION AND Fpr ARE COMING GOOD\n",
    "\n",
    "OUR Tpr AND F1 RATION ARE NOT COMING GOOD\n",
    "\n",
    "WHICH IMPLIES THAT OUR MODEL IS WORKING GOOD FOR CLASS(n)/CLASS 0 BUT NOT FOR CLASS(p)/CLASS 1\n",
    "\n",
    "BUT WE WANT OUR MODEL TO BE WORKING GOOD FOR BOTH THE CLASSES CLASS 1 AS WELL AS CLASS 0"
   ]
  },
  {
   "cell_type": "markdown",
   "id": "4c8ebd4a",
   "metadata": {},
   "source": [
    "# Class Imbalance"
   ]
  },
  {
   "cell_type": "code",
   "execution_count": 47,
   "id": "a216f73b",
   "metadata": {},
   "outputs": [
    {
     "data": {
      "text/plain": [
       "0    36548\n",
       "1     4640\n",
       "Name: y, dtype: int64"
      ]
     },
     "execution_count": 47,
     "metadata": {},
     "output_type": "execute_result"
    }
   ],
   "source": [
    "td.y.value_counts()                 # 0-----> means 'no'\n",
    "                                    # 1-----> means 'yes'"
   ]
  },
  {
   "cell_type": "code",
   "execution_count": 48,
   "id": "b262b37a",
   "metadata": {},
   "outputs": [],
   "source": [
    "import seaborn as sns"
   ]
  },
  {
   "cell_type": "code",
   "execution_count": 49,
   "id": "d449244f",
   "metadata": {},
   "outputs": [
    {
     "data": {
      "text/plain": [
       "<Axes: xlabel='y', ylabel='count'>"
      ]
     },
     "execution_count": 49,
     "metadata": {},
     "output_type": "execute_result"
    },
    {
     "data": {
      "image/png": "[encoded data removed]",
      "text/plain": [
       "<Figure size 640x480 with 1 Axes>"
      ]
     },
     "metadata": {},
     "output_type": "display_data"
    }
   ],
   "source": [
    "sns.countplot(x='y',data=td)"
   ]
  },
  {
   "cell_type": "code",
   "execution_count": 39,
   "id": "25b28a00",
   "metadata": {},
   "outputs": [],
   "source": [
    "# As could be seen 'yes' are very less as compared to 'no' "
   ]
  },
  {
   "cell_type": "markdown",
   "id": "07cca82b",
   "metadata": {},
   "source": [
    "# Oversampling"
   ]
  },
  {
   "cell_type": "markdown",
   "id": "14f8aad8",
   "metadata": {},
   "source": [
    "OVERSAMPLING--------------> INCREASING THE NUMBER RECORDS OF THOSE CLASS WHICH HAS UNDER REPRESENTATION THAT IS CLASS 1\n",
    "\n",
    "OVERSAMPLING IS ALWAYS PERFORMED ON TRAIN DATA"
   ]
  },
  {
   "cell_type": "code",
   "execution_count": 50,
   "id": "f32e07bb",
   "metadata": {},
   "outputs": [],
   "source": [
    "import pandas as pd\n",
    "td=pd.read_csv(r\"C:\\Users\\PRANAV\\Videos\\bank-direct-marketing-campaigns.csv\")"
   ]
  },
  {
   "cell_type": "code",
   "execution_count": 51,
   "id": "cd014c80",
   "metadata": {},
   "outputs": [],
   "source": [
    "td.drop(['contact','month','day_of_week'],axis=1,inplace=True)       # Dropping 'contact','month' and 'day_of_week' column"
   ]
  },
  {
   "cell_type": "code",
   "execution_count": 52,
   "id": "66ebeee0",
   "metadata": {},
   "outputs": [],
   "source": [
    "td.job.replace({'housemaid':3, 'services':8, 'admin.':10, 'blue-collar':9, 'technician':7,\n",
    "       'retired':11, 'management':6, 'unemployed':1, 'self-employed':4, 'unknown':0,\n",
    "       'entrepreneur':5, 'student':2},inplace=True)\n",
    "td.marital.replace({'married':3, 'single':1, 'divorced':2, 'unknown':0},inplace=True)\n",
    "td.education.replace({'basic.4y':3, 'high.school':6, 'basic.6y':4, 'basic.9y':5,\n",
    "       'professional.course':7, 'unknown':0, 'university.degree':8,\n",
    "       'illiterate':1},inplace=True)\n",
    "td.default.replace({'no':1, 'unknown':0, 'yes':2},inplace=True)\n",
    "td.housing.replace({'no':1, 'unknown':0, 'yes':2},inplace=True)\n",
    "td.loan.replace({'no':1, 'unknown':0, 'yes':2},inplace=True)\n",
    "td.poutcome.replace({'nonexistent':1, 'failure':0, 'success':2},inplace=True)\n",
    "td.y.replace({'yes':1,'no':0},inplace=True)"
   ]
  },
  {
   "cell_type": "code",
   "execution_count": 53,
   "id": "101a40fd",
   "metadata": {},
   "outputs": [
    {
     "name": "stdout",
     "output_type": "stream",
     "text": [
      "<class 'pandas.core.frame.DataFrame'>\n",
      "RangeIndex: 41188 entries, 0 to 41187\n",
      "Data columns (total 17 columns):\n",
      " #   Column          Non-Null Count  Dtype  \n",
      "---  ------          --------------  -----  \n",
      " 0   age             41188 non-null  int64  \n",
      " 1   job             41188 non-null  int64  \n",
      " 2   marital         41188 non-null  int64  \n",
      " 3   education       41188 non-null  int64  \n",
      " 4   default         41188 non-null  int64  \n",
      " 5   housing         41188 non-null  int64  \n",
      " 6   loan            41188 non-null  int64  \n",
      " 7   campaign        41188 non-null  int64  \n",
      " 8   pdays           41188 non-null  int64  \n",
      " 9   previous        41188 non-null  int64  \n",
      " 10  poutcome        41188 non-null  int64  \n",
      " 11  emp.var.rate    41188 non-null  float64\n",
      " 12  cons.price.idx  41188 non-null  float64\n",
      " 13  cons.conf.idx   41188 non-null  float64\n",
      " 14  euribor3m       41188 non-null  float64\n",
      " 15  nr.employed     41188 non-null  float64\n",
      " 16  y               41188 non-null  int64  \n",
      "dtypes: float64(5), int64(12)\n",
      "memory usage: 5.3 MB\n"
     ]
    }
   ],
   "source": [
    "td.info()"
   ]
  },
  {
   "cell_type": "code",
   "execution_count": 54,
   "id": "38804b39",
   "metadata": {},
   "outputs": [],
   "source": [
    "from sklearn.model_selection import train_test_split"
   ]
  },
  {
   "cell_type": "code",
   "execution_count": 55,
   "id": "26ce5e96",
   "metadata": {},
   "outputs": [],
   "source": [
    "train_o,test_o=train_test_split(td,test_size=0.2)"
   ]
  },
  {
   "cell_type": "code",
   "execution_count": 78,
   "id": "acdfd4c5",
   "metadata": {},
   "outputs": [
    {
     "data": {
      "text/html": [
       "<div>\n",
       "<style scoped>\n",
       "    .dataframe tbody tr th:only-of-type {\n",
       "        vertical-align: middle;\n",
       "    }\n",
       "\n",
       "    .dataframe tbody tr th {\n",
       "        vertical-align: top;\n",
       "    }\n",
       "\n",
       "    .dataframe thead th {\n",
       "        text-align: right;\n",
       "    }\n",
       "</style>\n",
       "<table border=\"1\" class=\"dataframe\">\n",
       "  <thead>\n",
       "    <tr style=\"text-align: right;\">\n",
       "      <th></th>\n",
       "      <th>age</th>\n",
       "      <th>job</th>\n",
       "      <th>marital</th>\n",
       "      <th>education</th>\n",
       "      <th>default</th>\n",
       "      <th>housing</th>\n",
       "      <th>loan</th>\n",
       "      <th>campaign</th>\n",
       "      <th>pdays</th>\n",
       "      <th>previous</th>\n",
       "      <th>poutcome</th>\n",
       "      <th>emp.var.rate</th>\n",
       "      <th>cons.price.idx</th>\n",
       "      <th>cons.conf.idx</th>\n",
       "      <th>euribor3m</th>\n",
       "      <th>nr.employed</th>\n",
       "      <th>y</th>\n",
       "    </tr>\n",
       "  </thead>\n",
       "  <tbody>\n",
       "    <tr>\n",
       "      <th>24870</th>\n",
       "      <td>43</td>\n",
       "      <td>5</td>\n",
       "      <td>3</td>\n",
       "      <td>5</td>\n",
       "      <td>1</td>\n",
       "      <td>2</td>\n",
       "      <td>2</td>\n",
       "      <td>1</td>\n",
       "      <td>999</td>\n",
       "      <td>0</td>\n",
       "      <td>1</td>\n",
       "      <td>-0.1</td>\n",
       "      <td>93.200</td>\n",
       "      <td>-42.0</td>\n",
       "      <td>4.153</td>\n",
       "      <td>5195.8</td>\n",
       "      <td>0</td>\n",
       "    </tr>\n",
       "    <tr>\n",
       "      <th>8687</th>\n",
       "      <td>36</td>\n",
       "      <td>5</td>\n",
       "      <td>3</td>\n",
       "      <td>8</td>\n",
       "      <td>1</td>\n",
       "      <td>2</td>\n",
       "      <td>2</td>\n",
       "      <td>1</td>\n",
       "      <td>999</td>\n",
       "      <td>0</td>\n",
       "      <td>1</td>\n",
       "      <td>1.4</td>\n",
       "      <td>94.465</td>\n",
       "      <td>-41.8</td>\n",
       "      <td>4.864</td>\n",
       "      <td>5228.1</td>\n",
       "      <td>0</td>\n",
       "    </tr>\n",
       "    <tr>\n",
       "      <th>12762</th>\n",
       "      <td>48</td>\n",
       "      <td>9</td>\n",
       "      <td>3</td>\n",
       "      <td>4</td>\n",
       "      <td>0</td>\n",
       "      <td>2</td>\n",
       "      <td>1</td>\n",
       "      <td>1</td>\n",
       "      <td>999</td>\n",
       "      <td>0</td>\n",
       "      <td>1</td>\n",
       "      <td>1.4</td>\n",
       "      <td>93.918</td>\n",
       "      <td>-42.7</td>\n",
       "      <td>4.962</td>\n",
       "      <td>5228.1</td>\n",
       "      <td>0</td>\n",
       "    </tr>\n",
       "    <tr>\n",
       "      <th>3751</th>\n",
       "      <td>37</td>\n",
       "      <td>6</td>\n",
       "      <td>3</td>\n",
       "      <td>8</td>\n",
       "      <td>1</td>\n",
       "      <td>1</td>\n",
       "      <td>1</td>\n",
       "      <td>4</td>\n",
       "      <td>999</td>\n",
       "      <td>0</td>\n",
       "      <td>1</td>\n",
       "      <td>1.1</td>\n",
       "      <td>93.994</td>\n",
       "      <td>-36.4</td>\n",
       "      <td>4.859</td>\n",
       "      <td>5191.0</td>\n",
       "      <td>0</td>\n",
       "    </tr>\n",
       "    <tr>\n",
       "      <th>3551</th>\n",
       "      <td>40</td>\n",
       "      <td>8</td>\n",
       "      <td>2</td>\n",
       "      <td>6</td>\n",
       "      <td>1</td>\n",
       "      <td>1</td>\n",
       "      <td>1</td>\n",
       "      <td>1</td>\n",
       "      <td>999</td>\n",
       "      <td>0</td>\n",
       "      <td>1</td>\n",
       "      <td>1.1</td>\n",
       "      <td>93.994</td>\n",
       "      <td>-36.4</td>\n",
       "      <td>4.859</td>\n",
       "      <td>5191.0</td>\n",
       "      <td>0</td>\n",
       "    </tr>\n",
       "    <tr>\n",
       "      <th>...</th>\n",
       "      <td>...</td>\n",
       "      <td>...</td>\n",
       "      <td>...</td>\n",
       "      <td>...</td>\n",
       "      <td>...</td>\n",
       "      <td>...</td>\n",
       "      <td>...</td>\n",
       "      <td>...</td>\n",
       "      <td>...</td>\n",
       "      <td>...</td>\n",
       "      <td>...</td>\n",
       "      <td>...</td>\n",
       "      <td>...</td>\n",
       "      <td>...</td>\n",
       "      <td>...</td>\n",
       "      <td>...</td>\n",
       "      <td>...</td>\n",
       "    </tr>\n",
       "    <tr>\n",
       "      <th>36362</th>\n",
       "      <td>34</td>\n",
       "      <td>7</td>\n",
       "      <td>3</td>\n",
       "      <td>8</td>\n",
       "      <td>1</td>\n",
       "      <td>2</td>\n",
       "      <td>1</td>\n",
       "      <td>1</td>\n",
       "      <td>999</td>\n",
       "      <td>0</td>\n",
       "      <td>1</td>\n",
       "      <td>-2.9</td>\n",
       "      <td>92.963</td>\n",
       "      <td>-40.8</td>\n",
       "      <td>1.262</td>\n",
       "      <td>5076.2</td>\n",
       "      <td>1</td>\n",
       "    </tr>\n",
       "    <tr>\n",
       "      <th>39051</th>\n",
       "      <td>64</td>\n",
       "      <td>11</td>\n",
       "      <td>3</td>\n",
       "      <td>6</td>\n",
       "      <td>1</td>\n",
       "      <td>2</td>\n",
       "      <td>1</td>\n",
       "      <td>1</td>\n",
       "      <td>999</td>\n",
       "      <td>0</td>\n",
       "      <td>1</td>\n",
       "      <td>-3.0</td>\n",
       "      <td>92.713</td>\n",
       "      <td>-33.0</td>\n",
       "      <td>0.715</td>\n",
       "      <td>5023.5</td>\n",
       "      <td>1</td>\n",
       "    </tr>\n",
       "    <tr>\n",
       "      <th>14788</th>\n",
       "      <td>45</td>\n",
       "      <td>0</td>\n",
       "      <td>0</td>\n",
       "      <td>0</td>\n",
       "      <td>1</td>\n",
       "      <td>2</td>\n",
       "      <td>2</td>\n",
       "      <td>1</td>\n",
       "      <td>999</td>\n",
       "      <td>0</td>\n",
       "      <td>1</td>\n",
       "      <td>1.4</td>\n",
       "      <td>93.918</td>\n",
       "      <td>-42.7</td>\n",
       "      <td>4.957</td>\n",
       "      <td>5228.1</td>\n",
       "      <td>1</td>\n",
       "    </tr>\n",
       "    <tr>\n",
       "      <th>38690</th>\n",
       "      <td>26</td>\n",
       "      <td>10</td>\n",
       "      <td>1</td>\n",
       "      <td>6</td>\n",
       "      <td>1</td>\n",
       "      <td>0</td>\n",
       "      <td>0</td>\n",
       "      <td>1</td>\n",
       "      <td>999</td>\n",
       "      <td>0</td>\n",
       "      <td>1</td>\n",
       "      <td>-3.4</td>\n",
       "      <td>92.649</td>\n",
       "      <td>-30.1</td>\n",
       "      <td>0.715</td>\n",
       "      <td>5017.5</td>\n",
       "      <td>1</td>\n",
       "    </tr>\n",
       "    <tr>\n",
       "      <th>27883</th>\n",
       "      <td>32</td>\n",
       "      <td>7</td>\n",
       "      <td>2</td>\n",
       "      <td>7</td>\n",
       "      <td>1</td>\n",
       "      <td>2</td>\n",
       "      <td>2</td>\n",
       "      <td>1</td>\n",
       "      <td>999</td>\n",
       "      <td>0</td>\n",
       "      <td>1</td>\n",
       "      <td>-1.8</td>\n",
       "      <td>92.843</td>\n",
       "      <td>-50.0</td>\n",
       "      <td>1.556</td>\n",
       "      <td>5099.1</td>\n",
       "      <td>1</td>\n",
       "    </tr>\n",
       "  </tbody>\n",
       "</table>\n",
       "<p>44068 rows × 17 columns</p>\n",
       "</div>"
      ],
      "text/plain": [
       "       age  job  marital  education  default  housing  loan  campaign  pdays  \\\n",
       "24870   43    5        3          5        1        2     2         1    999   \n",
       "8687    36    5        3          8        1        2     2         1    999   \n",
       "12762   48    9        3          4        0        2     1         1    999   \n",
       "3751    37    6        3          8        1        1     1         4    999   \n",
       "3551    40    8        2          6        1        1     1         1    999   \n",
       "...    ...  ...      ...        ...      ...      ...   ...       ...    ...   \n",
       "36362   34    7        3          8        1        2     1         1    999   \n",
       "39051   64   11        3          6        1        2     1         1    999   \n",
       "14788   45    0        0          0        1        2     2         1    999   \n",
       "38690   26   10        1          6        1        0     0         1    999   \n",
       "27883   32    7        2          7        1        2     2         1    999   \n",
       "\n",
       "       previous  poutcome  emp.var.rate  cons.price.idx  cons.conf.idx  \\\n",
       "24870         0         1          -0.1          93.200          -42.0   \n",
       "8687          0         1           1.4          94.465          -41.8   \n",
       "12762         0         1           1.4          93.918          -42.7   \n",
       "3751          0         1           1.1          93.994          -36.4   \n",
       "3551          0         1           1.1          93.994          -36.4   \n",
       "...         ...       ...           ...             ...            ...   \n",
       "36362         0         1          -2.9          92.963          -40.8   \n",
       "39051         0         1          -3.0          92.713          -33.0   \n",
       "14788         0         1           1.4          93.918          -42.7   \n",
       "38690         0         1          -3.4          92.649          -30.1   \n",
       "27883         0         1          -1.8          92.843          -50.0   \n",
       "\n",
       "       euribor3m  nr.employed  y  \n",
       "24870      4.153       5195.8  0  \n",
       "8687       4.864       5228.1  0  \n",
       "12762      4.962       5228.1  0  \n",
       "3751       4.859       5191.0  0  \n",
       "3551       4.859       5191.0  0  \n",
       "...          ...          ... ..  \n",
       "36362      1.262       5076.2  1  \n",
       "39051      0.715       5023.5  1  \n",
       "14788      4.957       5228.1  1  \n",
       "38690      0.715       5017.5  1  \n",
       "27883      1.556       5099.1  1  \n",
       "\n",
       "[44068 rows x 17 columns]"
      ]
     },
     "execution_count": 78,
     "metadata": {},
     "output_type": "execute_result"
    }
   ],
   "source": [
    "dum_df = train_o[train_o.y == 1]\n",
    "train_o = pd.concat([train_o, dum_df])\n",
    "train_o "
   ]
  },
  {
   "cell_type": "code",
   "execution_count": 79,
   "id": "f974befa",
   "metadata": {},
   "outputs": [],
   "source": [
    "train_x=train_o.iloc[0::,0:-1]          # dividing train into train_x and train_y\n",
    "train_y=train_o.iloc[0::,-1]"
   ]
  },
  {
   "cell_type": "code",
   "execution_count": 80,
   "id": "4baf7c1a",
   "metadata": {},
   "outputs": [],
   "source": [
    "test_x=test_o.iloc[0::,0:-1]          # dividing train into train_x and train_y\n",
    "test_y=test_o.iloc[0::,-1]"
   ]
  },
  {
   "cell_type": "code",
   "execution_count": 81,
   "id": "95fb26d3",
   "metadata": {},
   "outputs": [],
   "source": [
    "from sklearn.linear_model import LogisticRegression\n",
    "logreg=LogisticRegression()"
   ]
  },
  {
   "cell_type": "code",
   "execution_count": 82,
   "id": "cbcbe2b9",
   "metadata": {},
   "outputs": [
    {
     "name": "stderr",
     "output_type": "stream",
     "text": [
      "C:\\Users\\PRANAV\\anaconda3\\lib\\site-packages\\sklearn\\linear_model\\_logistic.py:458: ConvergenceWarning: lbfgs failed to converge (status=1):\n",
      "STOP: TOTAL NO. of ITERATIONS REACHED LIMIT.\n",
      "\n",
      "Increase the number of iterations (max_iter) or scale the data as shown in:\n",
      "    https://scikit-learn.org/stable/modules/preprocessing.html\n",
      "Please also refer to the documentation for alternative solver options:\n",
      "    https://scikit-learn.org/stable/modules/linear_model.html#logistic-regression\n",
      "  n_iter_i = _check_optimize_result(\n"
     ]
    },
    {
     "data": {
      "text/html": [
       "<style>#sk-container-id-3 {color: black;background-color: white;}#sk-container-id-3 pre{padding: 0;}#sk-container-id-3 div.sk-toggleable {background-color: white;}#sk-container-id-3 label.sk-toggleable__label {cursor: pointer;display: block;width: 100%;margin-bottom: 0;padding: 0.3em;box-sizing: border-box;text-align: center;}#sk-container-id-3 label.sk-toggleable__label-arrow:before {content: \"▸\";float: left;margin-right: 0.25em;color: #696969;}#sk-container-id-3 label.sk-toggleable__label-arrow:hover:before {color: black;}#sk-container-id-3 div.sk-estimator:hover label.sk-toggleable__label-arrow:before {color: black;}#sk-container-id-3 div.sk-toggleable__content {max-height: 0;max-width: 0;overflow: hidden;text-align: left;background-color: #f0f8ff;}#sk-container-id-3 div.sk-toggleable__content pre {margin: 0.2em;color: black;border-radius: 0.25em;background-color: #f0f8ff;}#sk-container-id-3 input.sk-toggleable__control:checked~div.sk-toggleable__content {max-height: 200px;max-width: 100%;overflow: auto;}#sk-container-id-3 input.sk-toggleable__control:checked~label.sk-toggleable__label-arrow:before {content: \"▾\";}#sk-container-id-3 div.sk-estimator input.sk-toggleable__control:checked~label.sk-toggleable__label {background-color: #d4ebff;}#sk-container-id-3 div.sk-label input.sk-toggleable__control:checked~label.sk-toggleable__label {background-color: #d4ebff;}#sk-container-id-3 input.sk-hidden--visually {border: 0;clip: rect(1px 1px 1px 1px);clip: rect(1px, 1px, 1px, 1px);height: 1px;margin: -1px;overflow: hidden;padding: 0;position: absolute;width: 1px;}#sk-container-id-3 div.sk-estimator {font-family: monospace;background-color: #f0f8ff;border: 1px dotted black;border-radius: 0.25em;box-sizing: border-box;margin-bottom: 0.5em;}#sk-container-id-3 div.sk-estimator:hover {background-color: #d4ebff;}#sk-container-id-3 div.sk-parallel-item::after {content: \"\";width: 100%;border-bottom: 1px solid gray;flex-grow: 1;}#sk-container-id-3 div.sk-label:hover label.sk-toggleable__label {background-color: #d4ebff;}#sk-container-id-3 div.sk-serial::before {content: \"\";position: absolute;border-left: 1px solid gray;box-sizing: border-box;top: 0;bottom: 0;left: 50%;z-index: 0;}#sk-container-id-3 div.sk-serial {display: flex;flex-direction: column;align-items: center;background-color: white;padding-right: 0.2em;padding-left: 0.2em;position: relative;}#sk-container-id-3 div.sk-item {position: relative;z-index: 1;}#sk-container-id-3 div.sk-parallel {display: flex;align-items: stretch;justify-content: center;background-color: white;position: relative;}#sk-container-id-3 div.sk-item::before, #sk-container-id-3 div.sk-parallel-item::before {content: \"\";position: absolute;border-left: 1px solid gray;box-sizing: border-box;top: 0;bottom: 0;left: 50%;z-index: -1;}#sk-container-id-3 div.sk-parallel-item {display: flex;flex-direction: column;z-index: 1;position: relative;background-color: white;}#sk-container-id-3 div.sk-parallel-item:first-child::after {align-self: flex-end;width: 50%;}#sk-container-id-3 div.sk-parallel-item:last-child::after {align-self: flex-start;width: 50%;}#sk-container-id-3 div.sk-parallel-item:only-child::after {width: 0;}#sk-container-id-3 div.sk-dashed-wrapped {border: 1px dashed gray;margin: 0 0.4em 0.5em 0.4em;box-sizing: border-box;padding-bottom: 0.4em;background-color: white;}#sk-container-id-3 div.sk-label label {font-family: monospace;font-weight: bold;display: inline-block;line-height: 1.2em;}#sk-container-id-3 div.sk-label-container {text-align: center;}#sk-container-id-3 div.sk-container {/* jupyter's `normalize.less` sets `[hidden] { display: none; }` but bootstrap.min.css set `[hidden] { display: none !important; }` so we also need the `!important` here to be able to override the default hidden behavior on the sphinx rendered scikit-learn.org. See: https://github.com/scikit-learn/scikit-learn/issues/21755 */display: inline-block !important;position: relative;}#sk-container-id-3 div.sk-text-repr-fallback {display: none;}</style><div id=\"sk-container-id-3\" class=\"sk-top-container\"><div class=\"sk-text-repr-fallback\"><pre>LogisticRegression()</pre><b>In a Jupyter environment, please rerun this cell to show the HTML representation or trust the notebook. <br />On GitHub, the HTML representation is unable to render, please try loading this page with nbviewer.org.</b></div><div class=\"sk-container\" hidden><div class=\"sk-item\"><div class=\"sk-estimator sk-toggleable\"><input class=\"sk-toggleable__control sk-hidden--visually\" id=\"sk-estimator-id-3\" type=\"checkbox\" checked><label for=\"sk-estimator-id-3\" class=\"sk-toggleable__label sk-toggleable__label-arrow\">LogisticRegression</label><div class=\"sk-toggleable__content\"><pre>LogisticRegression()</pre></div></div></div></div></div>"
      ],
      "text/plain": [
       "LogisticRegression()"
      ]
     },
     "execution_count": 82,
     "metadata": {},
     "output_type": "execute_result"
    }
   ],
   "source": [
    "logreg.fit(train_x,train_y)   "
   ]
  },
  {
   "cell_type": "code",
   "execution_count": 83,
   "id": "d2ab0877",
   "metadata": {},
   "outputs": [],
   "source": [
    "pred_test=logreg.predict(test_x)   "
   ]
  },
  {
   "cell_type": "code",
   "execution_count": 84,
   "id": "bef07c6d",
   "metadata": {},
   "outputs": [],
   "source": [
    "from sklearn.metrics import confusion_matrix,recall_score,f1_score,accuracy_score,roc_auc_score,roc_curve,precision_score"
   ]
  },
  {
   "cell_type": "code",
   "execution_count": 85,
   "id": "30b51e38",
   "metadata": {},
   "outputs": [
    {
     "data": {
      "text/plain": [
       "array([[6736,  568],\n",
       "       [ 466,  468]], dtype=int64)"
      ]
     },
     "execution_count": 85,
     "metadata": {},
     "output_type": "execute_result"
    }
   ],
   "source": [
    "tab=confusion_matrix(test_y,pred_test)\n",
    "tab"
   ]
  },
  {
   "cell_type": "code",
   "execution_count": 86,
   "id": "ce87c273",
   "metadata": {},
   "outputs": [
    {
     "data": {
      "text/plain": [
       "0.07776560788608981"
      ]
     },
     "execution_count": 86,
     "metadata": {},
     "output_type": "execute_result"
    }
   ],
   "source": [
    "Fpr=tab[0][1]/(tab[0][0]+tab[0][1])\n",
    "Fpr"
   ]
  },
  {
   "cell_type": "code",
   "execution_count": 87,
   "id": "02989244",
   "metadata": {},
   "outputs": [
    {
     "data": {
      "text/plain": [
       "50.107066381156315"
      ]
     },
     "execution_count": 87,
     "metadata": {},
     "output_type": "execute_result"
    }
   ],
   "source": [
    "recall_score(test_y,pred_test)*100"
   ]
  },
  {
   "cell_type": "code",
   "execution_count": 88,
   "id": "c90cc78c",
   "metadata": {},
   "outputs": [
    {
     "data": {
      "text/plain": [
       "87.44840980820587"
      ]
     },
     "execution_count": 88,
     "metadata": {},
     "output_type": "execute_result"
    }
   ],
   "source": [
    "accuracy_score(test_y,pred_test)*100"
   ]
  },
  {
   "cell_type": "code",
   "execution_count": 89,
   "id": "644207cf",
   "metadata": {},
   "outputs": [
    {
     "data": {
      "text/plain": [
       "47.51269035532995"
      ]
     },
     "execution_count": 89,
     "metadata": {},
     "output_type": "execute_result"
    }
   ],
   "source": [
    "f1_score(test_y,pred_test)*100"
   ]
  },
  {
   "cell_type": "code",
   "execution_count": 90,
   "id": "b10cb9ab",
   "metadata": {},
   "outputs": [
    {
     "data": {
      "text/plain": [
       "45.173745173745175"
      ]
     },
     "execution_count": 90,
     "metadata": {},
     "output_type": "execute_result"
    }
   ],
   "source": [
    "precision_score(test_y,pred_test)*100"
   ]
  },
  {
   "cell_type": "code",
   "execution_count": 91,
   "id": "3adeaabf",
   "metadata": {},
   "outputs": [],
   "source": [
    "pred_prob=logreg.predict_proba(test_x)"
   ]
  },
  {
   "cell_type": "code",
   "execution_count": 92,
   "id": "510bd68d",
   "metadata": {},
   "outputs": [
    {
     "data": {
      "text/plain": [
       "array([[0.82550855, 0.17449145],\n",
       "       [0.60200556, 0.39799444],\n",
       "       [0.81481465, 0.18518535],\n",
       "       ...,\n",
       "       [0.87192196, 0.12807804],\n",
       "       [0.88146113, 0.11853887],\n",
       "       [0.60941755, 0.39058245]])"
      ]
     },
     "execution_count": 92,
     "metadata": {},
     "output_type": "execute_result"
    }
   ],
   "source": [
    "pred_prob"
   ]
  },
  {
   "cell_type": "code",
   "execution_count": 71,
   "id": "e895b19c",
   "metadata": {},
   "outputs": [],
   "source": [
    "df=pd.DataFrame(pred_prob)"
   ]
  },
  {
   "cell_type": "code",
   "execution_count": 72,
   "id": "65621653",
   "metadata": {},
   "outputs": [],
   "source": [
    "df.rename(columns=({df.columns[0]:'pred0',df.columns[1]:'pred1'}),inplace=True)"
   ]
  },
  {
   "cell_type": "code",
   "execution_count": 73,
   "id": "0870b632",
   "metadata": {},
   "outputs": [
    {
     "data": {
      "text/html": [
       "<div>\n",
       "<style scoped>\n",
       "    .dataframe tbody tr th:only-of-type {\n",
       "        vertical-align: middle;\n",
       "    }\n",
       "\n",
       "    .dataframe tbody tr th {\n",
       "        vertical-align: top;\n",
       "    }\n",
       "\n",
       "    .dataframe thead th {\n",
       "        text-align: right;\n",
       "    }\n",
       "</style>\n",
       "<table border=\"1\" class=\"dataframe\">\n",
       "  <thead>\n",
       "    <tr style=\"text-align: right;\">\n",
       "      <th></th>\n",
       "      <th>pred0</th>\n",
       "      <th>pred1</th>\n",
       "    </tr>\n",
       "  </thead>\n",
       "  <tbody>\n",
       "    <tr>\n",
       "      <th>0</th>\n",
       "      <td>0.899632</td>\n",
       "      <td>0.100368</td>\n",
       "    </tr>\n",
       "    <tr>\n",
       "      <th>1</th>\n",
       "      <td>0.774146</td>\n",
       "      <td>0.225854</td>\n",
       "    </tr>\n",
       "    <tr>\n",
       "      <th>2</th>\n",
       "      <td>0.910965</td>\n",
       "      <td>0.089035</td>\n",
       "    </tr>\n",
       "    <tr>\n",
       "      <th>3</th>\n",
       "      <td>0.743825</td>\n",
       "      <td>0.256175</td>\n",
       "    </tr>\n",
       "    <tr>\n",
       "      <th>4</th>\n",
       "      <td>0.789013</td>\n",
       "      <td>0.210987</td>\n",
       "    </tr>\n",
       "    <tr>\n",
       "      <th>...</th>\n",
       "      <td>...</td>\n",
       "      <td>...</td>\n",
       "    </tr>\n",
       "    <tr>\n",
       "      <th>8233</th>\n",
       "      <td>0.422497</td>\n",
       "      <td>0.577503</td>\n",
       "    </tr>\n",
       "    <tr>\n",
       "      <th>8234</th>\n",
       "      <td>0.922741</td>\n",
       "      <td>0.077259</td>\n",
       "    </tr>\n",
       "    <tr>\n",
       "      <th>8235</th>\n",
       "      <td>0.924670</td>\n",
       "      <td>0.075330</td>\n",
       "    </tr>\n",
       "    <tr>\n",
       "      <th>8236</th>\n",
       "      <td>0.933294</td>\n",
       "      <td>0.066706</td>\n",
       "    </tr>\n",
       "    <tr>\n",
       "      <th>8237</th>\n",
       "      <td>0.780317</td>\n",
       "      <td>0.219683</td>\n",
       "    </tr>\n",
       "  </tbody>\n",
       "</table>\n",
       "<p>8238 rows × 2 columns</p>\n",
       "</div>"
      ],
      "text/plain": [
       "         pred0     pred1\n",
       "0     0.899632  0.100368\n",
       "1     0.774146  0.225854\n",
       "2     0.910965  0.089035\n",
       "3     0.743825  0.256175\n",
       "4     0.789013  0.210987\n",
       "...        ...       ...\n",
       "8233  0.422497  0.577503\n",
       "8234  0.922741  0.077259\n",
       "8235  0.924670  0.075330\n",
       "8236  0.933294  0.066706\n",
       "8237  0.780317  0.219683\n",
       "\n",
       "[8238 rows x 2 columns]"
      ]
     },
     "execution_count": 73,
     "metadata": {},
     "output_type": "execute_result"
    }
   ],
   "source": [
    "df"
   ]
  },
  {
   "cell_type": "code",
   "execution_count": 74,
   "id": "7b2b1f4e",
   "metadata": {},
   "outputs": [
    {
     "data": {
      "text/plain": [
       "0.761285359463941"
      ]
     },
     "execution_count": 74,
     "metadata": {},
     "output_type": "execute_result"
    }
   ],
   "source": [
    "roc_auc_score(test_y,pred_prob[:,1])"
   ]
  },
  {
   "cell_type": "code",
   "execution_count": 75,
   "id": "c81e7302",
   "metadata": {},
   "outputs": [],
   "source": [
    "fpr,tpr,thre=roc_curve(test_y,pred_prob[:,1])"
   ]
  },
  {
   "cell_type": "code",
   "execution_count": 76,
   "id": "76099010",
   "metadata": {},
   "outputs": [],
   "source": [
    "import matplotlib.pyplot as plt"
   ]
  },
  {
   "cell_type": "code",
   "execution_count": 77,
   "id": "009052be",
   "metadata": {},
   "outputs": [
    {
     "data": {
      "text/plain": [
       "Text(0.1, 0.8, 'area is 0.74')"
      ]
     },
     "execution_count": 77,
     "metadata": {},
     "output_type": "execute_result"
    },
    {
     "data": {
      "image/png": "[encoded data removed]",
      "text/plain": [
       "<Figure size 640x480 with 1 Axes>"
      ]
     },
     "metadata": {},
     "output_type": "display_data"
    }
   ],
   "source": [
    "plt.plot(fpr,tpr,color='red')\n",
    "plt.xlabel(\"fpr\",size=20)\n",
    "plt.ylabel(\"tpr\",size=20)\n",
    "plt.grid()\n",
    "plt.title(\"tpr vs fpr\",size=20)\n",
    "plt.text(x=0.1,y=0.8,s=\"area is 0.74\")"
   ]
  },
  {
   "cell_type": "markdown",
   "id": "1feeba06",
   "metadata": {},
   "source": [
    "SO AFTER OVERSAMPLING OUR VALUES HAVE CHANGED LIKEWISE\n",
    "\n",
    "\n",
    "1> ACCURACY  87 %\n",
    "\n",
    "2> Fpr  0.07\n",
    "\n",
    "3> Tpr HAS INCREASED TO 50 FROM 18\n",
    "\n",
    "4> F1 RATION HAS INCREASED TO 47 FROM 29\n",
    "\n",
    "5> Precision 45"
   ]
  },
  {
   "cell_type": "markdown",
   "id": "c5d241bd",
   "metadata": {},
   "source": [
    "# TARGETTING THOSE CUSTOMERS WHO CAN SUBSCRIBE TO THE TERM DEPOSIT"
   ]
  },
  {
   "cell_type": "code",
   "execution_count": 320,
   "id": "18d6c3f8",
   "metadata": {},
   "outputs": [],
   "source": [
    "pred_prob_full=logreg.predict_proba(td.iloc[0::,0:-1])"
   ]
  },
  {
   "cell_type": "code",
   "execution_count": 321,
   "id": "9caa9498",
   "metadata": {},
   "outputs": [
    {
     "data": {
      "text/plain": [
       "array([[0.80765244, 0.19234756],\n",
       "       [0.80965654, 0.19034346],\n",
       "       [0.81221123, 0.18778877],\n",
       "       ...,\n",
       "       [0.40556202, 0.59443798],\n",
       "       [0.40920015, 0.59079985],\n",
       "       [0.41370254, 0.58629746]])"
      ]
     },
     "execution_count": 321,
     "metadata": {},
     "output_type": "execute_result"
    }
   ],
   "source": [
    "pred_prob_full"
   ]
  },
  {
   "cell_type": "code",
   "execution_count": 322,
   "id": "d9cd4ca1",
   "metadata": {},
   "outputs": [],
   "source": [
    "pred_prob_full=pd.DataFrame(pred_prob_full)"
   ]
  },
  {
   "cell_type": "code",
   "execution_count": 325,
   "id": "e2092372",
   "metadata": {},
   "outputs": [],
   "source": [
    "pred_prob_full.rename(columns=({pred_prob_full.columns[0]:'pred0',pred_prob_full.columns[1]:'pred1'}),inplace=True)"
   ]
  },
  {
   "cell_type": "code",
   "execution_count": 326,
   "id": "0cd37468",
   "metadata": {},
   "outputs": [
    {
     "data": {
      "text/html": [
       "<div>\n",
       "<style scoped>\n",
       "    .dataframe tbody tr th:only-of-type {\n",
       "        vertical-align: middle;\n",
       "    }\n",
       "\n",
       "    .dataframe tbody tr th {\n",
       "        vertical-align: top;\n",
       "    }\n",
       "\n",
       "    .dataframe thead th {\n",
       "        text-align: right;\n",
       "    }\n",
       "</style>\n",
       "<table border=\"1\" class=\"dataframe\">\n",
       "  <thead>\n",
       "    <tr style=\"text-align: right;\">\n",
       "      <th></th>\n",
       "      <th>pred0</th>\n",
       "      <th>pred1</th>\n",
       "    </tr>\n",
       "  </thead>\n",
       "  <tbody>\n",
       "    <tr>\n",
       "      <th>0</th>\n",
       "      <td>0.807652</td>\n",
       "      <td>0.192348</td>\n",
       "    </tr>\n",
       "    <tr>\n",
       "      <th>1</th>\n",
       "      <td>0.809657</td>\n",
       "      <td>0.190343</td>\n",
       "    </tr>\n",
       "    <tr>\n",
       "      <th>2</th>\n",
       "      <td>0.812211</td>\n",
       "      <td>0.187789</td>\n",
       "    </tr>\n",
       "    <tr>\n",
       "      <th>3</th>\n",
       "      <td>0.823825</td>\n",
       "      <td>0.176175</td>\n",
       "    </tr>\n",
       "    <tr>\n",
       "      <th>4</th>\n",
       "      <td>0.802940</td>\n",
       "      <td>0.197060</td>\n",
       "    </tr>\n",
       "    <tr>\n",
       "      <th>...</th>\n",
       "      <td>...</td>\n",
       "      <td>...</td>\n",
       "    </tr>\n",
       "    <tr>\n",
       "      <th>41183</th>\n",
       "      <td>0.397834</td>\n",
       "      <td>0.602166</td>\n",
       "    </tr>\n",
       "    <tr>\n",
       "      <th>41184</th>\n",
       "      <td>0.413626</td>\n",
       "      <td>0.586374</td>\n",
       "    </tr>\n",
       "    <tr>\n",
       "      <th>41185</th>\n",
       "      <td>0.405562</td>\n",
       "      <td>0.594438</td>\n",
       "    </tr>\n",
       "    <tr>\n",
       "      <th>41186</th>\n",
       "      <td>0.409200</td>\n",
       "      <td>0.590800</td>\n",
       "    </tr>\n",
       "    <tr>\n",
       "      <th>41187</th>\n",
       "      <td>0.413703</td>\n",
       "      <td>0.586297</td>\n",
       "    </tr>\n",
       "  </tbody>\n",
       "</table>\n",
       "<p>41188 rows × 2 columns</p>\n",
       "</div>"
      ],
      "text/plain": [
       "          pred0     pred1\n",
       "0      0.807652  0.192348\n",
       "1      0.809657  0.190343\n",
       "2      0.812211  0.187789\n",
       "3      0.823825  0.176175\n",
       "4      0.802940  0.197060\n",
       "...         ...       ...\n",
       "41183  0.397834  0.602166\n",
       "41184  0.413626  0.586374\n",
       "41185  0.405562  0.594438\n",
       "41186  0.409200  0.590800\n",
       "41187  0.413703  0.586297\n",
       "\n",
       "[41188 rows x 2 columns]"
      ]
     },
     "execution_count": 326,
     "metadata": {},
     "output_type": "execute_result"
    }
   ],
   "source": [
    "pred_prob_full"
   ]
  },
  {
   "cell_type": "code",
   "execution_count": 327,
   "id": "434147f4",
   "metadata": {},
   "outputs": [],
   "source": [
    "pred_prob_full=pred_prob_full.sort_values('pred1',ascending=False)"
   ]
  },
  {
   "cell_type": "code",
   "execution_count": 328,
   "id": "90ef1d85",
   "metadata": {},
   "outputs": [
    {
     "data": {
      "text/html": [
       "<div>\n",
       "<style scoped>\n",
       "    .dataframe tbody tr th:only-of-type {\n",
       "        vertical-align: middle;\n",
       "    }\n",
       "\n",
       "    .dataframe tbody tr th {\n",
       "        vertical-align: top;\n",
       "    }\n",
       "\n",
       "    .dataframe thead th {\n",
       "        text-align: right;\n",
       "    }\n",
       "</style>\n",
       "<table border=\"1\" class=\"dataframe\">\n",
       "  <thead>\n",
       "    <tr style=\"text-align: right;\">\n",
       "      <th></th>\n",
       "      <th>pred0</th>\n",
       "      <th>pred1</th>\n",
       "    </tr>\n",
       "  </thead>\n",
       "  <tbody>\n",
       "    <tr>\n",
       "      <th>38238</th>\n",
       "      <td>0.068678</td>\n",
       "      <td>0.931322</td>\n",
       "    </tr>\n",
       "    <tr>\n",
       "      <th>38230</th>\n",
       "      <td>0.069943</td>\n",
       "      <td>0.930057</td>\n",
       "    </tr>\n",
       "    <tr>\n",
       "      <th>38153</th>\n",
       "      <td>0.071130</td>\n",
       "      <td>0.928870</td>\n",
       "    </tr>\n",
       "    <tr>\n",
       "      <th>38512</th>\n",
       "      <td>0.071468</td>\n",
       "      <td>0.928532</td>\n",
       "    </tr>\n",
       "    <tr>\n",
       "      <th>38804</th>\n",
       "      <td>0.071838</td>\n",
       "      <td>0.928162</td>\n",
       "    </tr>\n",
       "    <tr>\n",
       "      <th>...</th>\n",
       "      <td>...</td>\n",
       "      <td>...</td>\n",
       "    </tr>\n",
       "    <tr>\n",
       "      <th>16281</th>\n",
       "      <td>0.897881</td>\n",
       "      <td>0.102119</td>\n",
       "    </tr>\n",
       "    <tr>\n",
       "      <th>17606</th>\n",
       "      <td>0.899188</td>\n",
       "      <td>0.100812</td>\n",
       "    </tr>\n",
       "    <tr>\n",
       "      <th>16349</th>\n",
       "      <td>0.902874</td>\n",
       "      <td>0.097126</td>\n",
       "    </tr>\n",
       "    <tr>\n",
       "      <th>17745</th>\n",
       "      <td>0.904142</td>\n",
       "      <td>0.095858</td>\n",
       "    </tr>\n",
       "    <tr>\n",
       "      <th>18786</th>\n",
       "      <td>0.905907</td>\n",
       "      <td>0.094093</td>\n",
       "    </tr>\n",
       "  </tbody>\n",
       "</table>\n",
       "<p>41188 rows × 2 columns</p>\n",
       "</div>"
      ],
      "text/plain": [
       "          pred0     pred1\n",
       "38238  0.068678  0.931322\n",
       "38230  0.069943  0.930057\n",
       "38153  0.071130  0.928870\n",
       "38512  0.071468  0.928532\n",
       "38804  0.071838  0.928162\n",
       "...         ...       ...\n",
       "16281  0.897881  0.102119\n",
       "17606  0.899188  0.100812\n",
       "16349  0.902874  0.097126\n",
       "17745  0.904142  0.095858\n",
       "18786  0.905907  0.094093\n",
       "\n",
       "[41188 rows x 2 columns]"
      ]
     },
     "execution_count": 328,
     "metadata": {},
     "output_type": "execute_result"
    }
   ],
   "source": [
    "pred_prob_full"
   ]
  },
  {
   "cell_type": "code",
   "execution_count": 330,
   "id": "da5aafee",
   "metadata": {},
   "outputs": [
    {
     "data": {
      "text/html": [
       "<div>\n",
       "<style scoped>\n",
       "    .dataframe tbody tr th:only-of-type {\n",
       "        vertical-align: middle;\n",
       "    }\n",
       "\n",
       "    .dataframe tbody tr th {\n",
       "        vertical-align: top;\n",
       "    }\n",
       "\n",
       "    .dataframe thead th {\n",
       "        text-align: right;\n",
       "    }\n",
       "</style>\n",
       "<table border=\"1\" class=\"dataframe\">\n",
       "  <thead>\n",
       "    <tr style=\"text-align: right;\">\n",
       "      <th></th>\n",
       "      <th>pred0</th>\n",
       "      <th>pred1</th>\n",
       "    </tr>\n",
       "  </thead>\n",
       "  <tbody>\n",
       "    <tr>\n",
       "      <th>38238</th>\n",
       "      <td>0.068678</td>\n",
       "      <td>0.931322</td>\n",
       "    </tr>\n",
       "    <tr>\n",
       "      <th>38230</th>\n",
       "      <td>0.069943</td>\n",
       "      <td>0.930057</td>\n",
       "    </tr>\n",
       "    <tr>\n",
       "      <th>38153</th>\n",
       "      <td>0.071130</td>\n",
       "      <td>0.928870</td>\n",
       "    </tr>\n",
       "    <tr>\n",
       "      <th>38512</th>\n",
       "      <td>0.071468</td>\n",
       "      <td>0.928532</td>\n",
       "    </tr>\n",
       "    <tr>\n",
       "      <th>38804</th>\n",
       "      <td>0.071838</td>\n",
       "      <td>0.928162</td>\n",
       "    </tr>\n",
       "    <tr>\n",
       "      <th>...</th>\n",
       "      <td>...</td>\n",
       "      <td>...</td>\n",
       "    </tr>\n",
       "    <tr>\n",
       "      <th>40686</th>\n",
       "      <td>0.099870</td>\n",
       "      <td>0.900130</td>\n",
       "    </tr>\n",
       "    <tr>\n",
       "      <th>39071</th>\n",
       "      <td>0.099892</td>\n",
       "      <td>0.900108</td>\n",
       "    </tr>\n",
       "    <tr>\n",
       "      <th>39227</th>\n",
       "      <td>0.099933</td>\n",
       "      <td>0.900067</td>\n",
       "    </tr>\n",
       "    <tr>\n",
       "      <th>39392</th>\n",
       "      <td>0.099940</td>\n",
       "      <td>0.900060</td>\n",
       "    </tr>\n",
       "    <tr>\n",
       "      <th>40172</th>\n",
       "      <td>0.099965</td>\n",
       "      <td>0.900035</td>\n",
       "    </tr>\n",
       "  </tbody>\n",
       "</table>\n",
       "<p>517 rows × 2 columns</p>\n",
       "</div>"
      ],
      "text/plain": [
       "          pred0     pred1\n",
       "38238  0.068678  0.931322\n",
       "38230  0.069943  0.930057\n",
       "38153  0.071130  0.928870\n",
       "38512  0.071468  0.928532\n",
       "38804  0.071838  0.928162\n",
       "...         ...       ...\n",
       "40686  0.099870  0.900130\n",
       "39071  0.099892  0.900108\n",
       "39227  0.099933  0.900067\n",
       "39392  0.099940  0.900060\n",
       "40172  0.099965  0.900035\n",
       "\n",
       "[517 rows x 2 columns]"
      ]
     },
     "execution_count": 330,
     "metadata": {},
     "output_type": "execute_result"
    }
   ],
   "source": [
    "pred_prob_full[pred_prob_full.pred1>0.90]                             # SELECTING ONLY THOSE CUSTOMERS HAVING PROBABILITY \n",
    "                                                                      # MORE THAN 90% OF SUBSCRIPTION \n",
    "                                                                       "
   ]
  },
  {
   "cell_type": "markdown",
   "id": "98f2018f",
   "metadata": {},
   "source": [
    "# DECISION TREE"
   ]
  },
  {
   "cell_type": "markdown",
   "id": "e717d6cc",
   "metadata": {},
   "source": [
    "TRYING DECISION TREE MODEL"
   ]
  },
  {
   "cell_type": "code",
   "execution_count": 1,
   "id": "4788582c",
   "metadata": {},
   "outputs": [],
   "source": [
    "import pandas as pd\n",
    "td=pd.read_csv(r\"C:\\Users\\PRANAV\\Videos\\bank-direct-marketing-campaigns.csv\")"
   ]
  },
  {
   "cell_type": "code",
   "execution_count": 2,
   "id": "91a9d138",
   "metadata": {},
   "outputs": [],
   "source": [
    "td.drop(['contact','month','day_of_week'],axis=1,inplace=True)       # Dropping 'contact','month' and 'day_of_week' column"
   ]
  },
  {
   "cell_type": "code",
   "execution_count": 3,
   "id": "d35bb228",
   "metadata": {},
   "outputs": [],
   "source": [
    "td.job.replace({'housemaid':3, 'services':8, 'admin.':10, 'blue-collar':9, 'technician':7,\n",
    "       'retired':11, 'management':6, 'unemployed':1, 'self-employed':4, 'unknown':0,\n",
    "       'entrepreneur':5, 'student':2},inplace=True)\n",
    "td.marital.replace({'married':3, 'single':1, 'divorced':2, 'unknown':0},inplace=True)\n",
    "td.education.replace({'basic.4y':3, 'high.school':6, 'basic.6y':4, 'basic.9y':5,\n",
    "       'professional.course':7, 'unknown':0, 'university.degree':8,\n",
    "       'illiterate':1},inplace=True)\n",
    "td.default.replace({'no':1, 'unknown':0, 'yes':2},inplace=True)\n",
    "td.housing.replace({'no':1, 'unknown':0, 'yes':2},inplace=True)\n",
    "td.loan.replace({'no':1, 'unknown':0, 'yes':2},inplace=True)\n",
    "td.poutcome.replace({'nonexistent':1, 'failure':0, 'success':2},inplace=True)\n",
    "td.y.replace({'yes':1,'no':0},inplace=True)"
   ]
  },
  {
   "cell_type": "code",
   "execution_count": 4,
   "id": "2ccfe44a",
   "metadata": {},
   "outputs": [
    {
     "name": "stdout",
     "output_type": "stream",
     "text": [
      "<class 'pandas.core.frame.DataFrame'>\n",
      "RangeIndex: 41188 entries, 0 to 41187\n",
      "Data columns (total 17 columns):\n",
      " #   Column          Non-Null Count  Dtype  \n",
      "---  ------          --------------  -----  \n",
      " 0   age             41188 non-null  int64  \n",
      " 1   job             41188 non-null  int64  \n",
      " 2   marital         41188 non-null  int64  \n",
      " 3   education       41188 non-null  int64  \n",
      " 4   default         41188 non-null  int64  \n",
      " 5   housing         41188 non-null  int64  \n",
      " 6   loan            41188 non-null  int64  \n",
      " 7   campaign        41188 non-null  int64  \n",
      " 8   pdays           41188 non-null  int64  \n",
      " 9   previous        41188 non-null  int64  \n",
      " 10  poutcome        41188 non-null  int64  \n",
      " 11  emp.var.rate    41188 non-null  float64\n",
      " 12  cons.price.idx  41188 non-null  float64\n",
      " 13  cons.conf.idx   41188 non-null  float64\n",
      " 14  euribor3m       41188 non-null  float64\n",
      " 15  nr.employed     41188 non-null  float64\n",
      " 16  y               41188 non-null  int64  \n",
      "dtypes: float64(5), int64(12)\n",
      "memory usage: 5.3 MB\n"
     ]
    }
   ],
   "source": [
    "td.info()"
   ]
  },
  {
   "cell_type": "code",
   "execution_count": 5,
   "id": "c2b219c7",
   "metadata": {},
   "outputs": [],
   "source": [
    "from sklearn.model_selection import train_test_split"
   ]
  },
  {
   "cell_type": "code",
   "execution_count": 6,
   "id": "d5bc22bd",
   "metadata": {},
   "outputs": [],
   "source": [
    "train,test=train_test_split(td,test_size=0.2)"
   ]
  },
  {
   "cell_type": "code",
   "execution_count": 7,
   "id": "2331bbdb",
   "metadata": {},
   "outputs": [],
   "source": [
    "train_x=train.iloc[0::,0:-1]\n",
    "train_y=train.iloc[0::,-1]"
   ]
  },
  {
   "cell_type": "code",
   "execution_count": 8,
   "id": "29546f1d",
   "metadata": {},
   "outputs": [],
   "source": [
    "test_x=test.iloc[0::,0:-1]\n",
    "test_y=test.iloc[0::,-1]"
   ]
  },
  {
   "cell_type": "code",
   "execution_count": 9,
   "id": "36d3b484",
   "metadata": {},
   "outputs": [],
   "source": [
    "from sklearn.tree import DecisionTreeClassifier\n",
    "dt=DecisionTreeClassifier()"
   ]
  },
  {
   "cell_type": "code",
   "execution_count": 10,
   "id": "3c41cf71",
   "metadata": {},
   "outputs": [
    {
     "data": {
      "text/html": [
       "<style>#sk-container-id-1 {color: black;background-color: white;}#sk-container-id-1 pre{padding: 0;}#sk-container-id-1 div.sk-toggleable {background-color: white;}#sk-container-id-1 label.sk-toggleable__label {cursor: pointer;display: block;width: 100%;margin-bottom: 0;padding: 0.3em;box-sizing: border-box;text-align: center;}#sk-container-id-1 label.sk-toggleable__label-arrow:before {content: \"▸\";float: left;margin-right: 0.25em;color: #696969;}#sk-container-id-1 label.sk-toggleable__label-arrow:hover:before {color: black;}#sk-container-id-1 div.sk-estimator:hover label.sk-toggleable__label-arrow:before {color: black;}#sk-container-id-1 div.sk-toggleable__content {max-height: 0;max-width: 0;overflow: hidden;text-align: left;background-color: #f0f8ff;}#sk-container-id-1 div.sk-toggleable__content pre {margin: 0.2em;color: black;border-radius: 0.25em;background-color: #f0f8ff;}#sk-container-id-1 input.sk-toggleable__control:checked~div.sk-toggleable__content {max-height: 200px;max-width: 100%;overflow: auto;}#sk-container-id-1 input.sk-toggleable__control:checked~label.sk-toggleable__label-arrow:before {content: \"▾\";}#sk-container-id-1 div.sk-estimator input.sk-toggleable__control:checked~label.sk-toggleable__label {background-color: #d4ebff;}#sk-container-id-1 div.sk-label input.sk-toggleable__control:checked~label.sk-toggleable__label {background-color: #d4ebff;}#sk-container-id-1 input.sk-hidden--visually {border: 0;clip: rect(1px 1px 1px 1px);clip: rect(1px, 1px, 1px, 1px);height: 1px;margin: -1px;overflow: hidden;padding: 0;position: absolute;width: 1px;}#sk-container-id-1 div.sk-estimator {font-family: monospace;background-color: #f0f8ff;border: 1px dotted black;border-radius: 0.25em;box-sizing: border-box;margin-bottom: 0.5em;}#sk-container-id-1 div.sk-estimator:hover {background-color: #d4ebff;}#sk-container-id-1 div.sk-parallel-item::after {content: \"\";width: 100%;border-bottom: 1px solid gray;flex-grow: 1;}#sk-container-id-1 div.sk-label:hover label.sk-toggleable__label {background-color: #d4ebff;}#sk-container-id-1 div.sk-serial::before {content: \"\";position: absolute;border-left: 1px solid gray;box-sizing: border-box;top: 0;bottom: 0;left: 50%;z-index: 0;}#sk-container-id-1 div.sk-serial {display: flex;flex-direction: column;align-items: center;background-color: white;padding-right: 0.2em;padding-left: 0.2em;position: relative;}#sk-container-id-1 div.sk-item {position: relative;z-index: 1;}#sk-container-id-1 div.sk-parallel {display: flex;align-items: stretch;justify-content: center;background-color: white;position: relative;}#sk-container-id-1 div.sk-item::before, #sk-container-id-1 div.sk-parallel-item::before {content: \"\";position: absolute;border-left: 1px solid gray;box-sizing: border-box;top: 0;bottom: 0;left: 50%;z-index: -1;}#sk-container-id-1 div.sk-parallel-item {display: flex;flex-direction: column;z-index: 1;position: relative;background-color: white;}#sk-container-id-1 div.sk-parallel-item:first-child::after {align-self: flex-end;width: 50%;}#sk-container-id-1 div.sk-parallel-item:last-child::after {align-self: flex-start;width: 50%;}#sk-container-id-1 div.sk-parallel-item:only-child::after {width: 0;}#sk-container-id-1 div.sk-dashed-wrapped {border: 1px dashed gray;margin: 0 0.4em 0.5em 0.4em;box-sizing: border-box;padding-bottom: 0.4em;background-color: white;}#sk-container-id-1 div.sk-label label {font-family: monospace;font-weight: bold;display: inline-block;line-height: 1.2em;}#sk-container-id-1 div.sk-label-container {text-align: center;}#sk-container-id-1 div.sk-container {/* jupyter's `normalize.less` sets `[hidden] { display: none; }` but bootstrap.min.css set `[hidden] { display: none !important; }` so we also need the `!important` here to be able to override the default hidden behavior on the sphinx rendered scikit-learn.org. See: https://github.com/scikit-learn/scikit-learn/issues/21755 */display: inline-block !important;position: relative;}#sk-container-id-1 div.sk-text-repr-fallback {display: none;}</style><div id=\"sk-container-id-1\" class=\"sk-top-container\"><div class=\"sk-text-repr-fallback\"><pre>DecisionTreeClassifier()</pre><b>In a Jupyter environment, please rerun this cell to show the HTML representation or trust the notebook. <br />On GitHub, the HTML representation is unable to render, please try loading this page with nbviewer.org.</b></div><div class=\"sk-container\" hidden><div class=\"sk-item\"><div class=\"sk-estimator sk-toggleable\"><input class=\"sk-toggleable__control sk-hidden--visually\" id=\"sk-estimator-id-1\" type=\"checkbox\" checked><label for=\"sk-estimator-id-1\" class=\"sk-toggleable__label sk-toggleable__label-arrow\">DecisionTreeClassifier</label><div class=\"sk-toggleable__content\"><pre>DecisionTreeClassifier()</pre></div></div></div></div></div>"
      ],
      "text/plain": [
       "DecisionTreeClassifier()"
      ]
     },
     "execution_count": 10,
     "metadata": {},
     "output_type": "execute_result"
    }
   ],
   "source": [
    "dt.fit(train_x,train_y)"
   ]
  },
  {
   "cell_type": "code",
   "execution_count": 11,
   "id": "692c15e0",
   "metadata": {},
   "outputs": [],
   "source": [
    "pred_train=dt.predict(train_x)"
   ]
  },
  {
   "cell_type": "code",
   "execution_count": 12,
   "id": "85aa5c49",
   "metadata": {},
   "outputs": [],
   "source": [
    "pred_test=dt.predict(test_x)"
   ]
  },
  {
   "cell_type": "code",
   "execution_count": 13,
   "id": "a59470bf",
   "metadata": {},
   "outputs": [],
   "source": [
    "from sklearn.metrics import confusion_matrix,accuracy_score,f1_score,recall_score,precision_score,roc_auc_score,roc_curve"
   ]
  },
  {
   "cell_type": "code",
   "execution_count": 14,
   "id": "424a9b42",
   "metadata": {},
   "outputs": [],
   "source": [
    "tab=confusion_matrix(test_y,pred_test)"
   ]
  },
  {
   "cell_type": "code",
   "execution_count": 15,
   "id": "8fe5299b",
   "metadata": {},
   "outputs": [
    {
     "data": {
      "text/plain": [
       "array([[6604,  704],\n",
       "       [ 630,  300]], dtype=int64)"
      ]
     },
     "execution_count": 15,
     "metadata": {},
     "output_type": "execute_result"
    }
   ],
   "source": [
    "tab"
   ]
  },
  {
   "cell_type": "code",
   "execution_count": 16,
   "id": "f91e836c",
   "metadata": {},
   "outputs": [
    {
     "data": {
      "text/plain": [
       "0.8380674921097354"
      ]
     },
     "execution_count": 16,
     "metadata": {},
     "output_type": "execute_result"
    }
   ],
   "source": [
    "accuracy_score(test_y,pred_test)"
   ]
  },
  {
   "cell_type": "code",
   "execution_count": 17,
   "id": "336628df",
   "metadata": {},
   "outputs": [
    {
     "data": {
      "text/plain": [
       "32.25806451612903"
      ]
     },
     "execution_count": 17,
     "metadata": {},
     "output_type": "execute_result"
    }
   ],
   "source": [
    "recall_score(test_y,pred_test)*100"
   ]
  },
  {
   "cell_type": "code",
   "execution_count": 18,
   "id": "a3f96ce8",
   "metadata": {},
   "outputs": [
    {
     "data": {
      "text/plain": [
       "0.0963327859879584"
      ]
     },
     "execution_count": 18,
     "metadata": {},
     "output_type": "execute_result"
    }
   ],
   "source": [
    "Fpr=tab[0][1]/(tab[0][1]+tab[0][0])\n",
    "Fpr"
   ]
  },
  {
   "cell_type": "code",
   "execution_count": 19,
   "id": "b78ba26e",
   "metadata": {},
   "outputs": [
    {
     "data": {
      "text/plain": [
       "29.880478087649404"
      ]
     },
     "execution_count": 19,
     "metadata": {},
     "output_type": "execute_result"
    }
   ],
   "source": [
    "precision_score(test_y,pred_test)*100"
   ]
  },
  {
   "cell_type": "code",
   "execution_count": 20,
   "id": "86f3c034",
   "metadata": {},
   "outputs": [
    {
     "data": {
      "text/plain": [
       "31.023784901758013"
      ]
     },
     "execution_count": 20,
     "metadata": {},
     "output_type": "execute_result"
    }
   ],
   "source": [
    "f1_score(test_y,pred_test)*100"
   ]
  },
  {
   "cell_type": "markdown",
   "id": "e1e96c0f",
   "metadata": {},
   "source": [
    "# FEATURE SELECTION "
   ]
  },
  {
   "cell_type": "markdown",
   "id": "2a7fa280",
   "metadata": {},
   "source": [
    "WE WANT TO BUILD OUR MODEL ON AS MANY LESS FEATURES AS POSSIBLE\n",
    "    \n",
    "    \n",
    "BECAUSE MORE NUMBER OF FEATURES MEANS MORE CONFUSION TO INTERPRET       "
   ]
  },
  {
   "cell_type": "code",
   "execution_count": 21,
   "id": "47bfdac8",
   "metadata": {},
   "outputs": [
    {
     "data": {
      "text/plain": [
       "array([0.19595447, 0.09266991, 0.04035065, 0.08404634, 0.0200727 ,\n",
       "       0.04675555, 0.02518741, 0.09135105, 0.01329025, 0.01732097,\n",
       "       0.03510824, 0.0038738 , 0.00966037, 0.02439541, 0.13845974,\n",
       "       0.16150314])"
      ]
     },
     "execution_count": 21,
     "metadata": {},
     "output_type": "execute_result"
    }
   ],
   "source": [
    "feat_imp=dt.feature_importances_\n",
    "feat_imp"
   ]
  },
  {
   "cell_type": "markdown",
   "id": "c7c5ea62",
   "metadata": {},
   "source": [
    "there is one on one mapping between your features(columns) and values in feature_importance\n",
    "\n",
    "all vales are within 0 to 1"
   ]
  },
  {
   "cell_type": "markdown",
   "id": "b6a7a87c",
   "metadata": {},
   "source": [
    "HIGHER VALUE OF FEATURE_IMPORTANCE MORE SIGNIFICANT IS THE COLUMN"
   ]
  },
  {
   "cell_type": "code",
   "execution_count": 22,
   "id": "b1bb1acf",
   "metadata": {},
   "outputs": [
    {
     "data": {
      "text/plain": [
       "16"
      ]
     },
     "execution_count": 22,
     "metadata": {},
     "output_type": "execute_result"
    }
   ],
   "source": [
    "len(feat_imp)"
   ]
  },
  {
   "cell_type": "code",
   "execution_count": 23,
   "id": "2b73b1a6",
   "metadata": {},
   "outputs": [
    {
     "data": {
      "text/html": [
       "<div>\n",
       "<style scoped>\n",
       "    .dataframe tbody tr th:only-of-type {\n",
       "        vertical-align: middle;\n",
       "    }\n",
       "\n",
       "    .dataframe tbody tr th {\n",
       "        vertical-align: top;\n",
       "    }\n",
       "\n",
       "    .dataframe thead th {\n",
       "        text-align: right;\n",
       "    }\n",
       "</style>\n",
       "<table border=\"1\" class=\"dataframe\">\n",
       "  <thead>\n",
       "    <tr style=\"text-align: right;\">\n",
       "      <th></th>\n",
       "      <th>Feat</th>\n",
       "      <th>imp</th>\n",
       "    </tr>\n",
       "  </thead>\n",
       "  <tbody>\n",
       "    <tr>\n",
       "      <th>0</th>\n",
       "      <td>age</td>\n",
       "      <td>0.195954</td>\n",
       "    </tr>\n",
       "    <tr>\n",
       "      <th>15</th>\n",
       "      <td>nr.employed</td>\n",
       "      <td>0.161503</td>\n",
       "    </tr>\n",
       "    <tr>\n",
       "      <th>14</th>\n",
       "      <td>euribor3m</td>\n",
       "      <td>0.138460</td>\n",
       "    </tr>\n",
       "    <tr>\n",
       "      <th>1</th>\n",
       "      <td>job</td>\n",
       "      <td>0.092670</td>\n",
       "    </tr>\n",
       "    <tr>\n",
       "      <th>7</th>\n",
       "      <td>campaign</td>\n",
       "      <td>0.091351</td>\n",
       "    </tr>\n",
       "    <tr>\n",
       "      <th>3</th>\n",
       "      <td>education</td>\n",
       "      <td>0.084046</td>\n",
       "    </tr>\n",
       "    <tr>\n",
       "      <th>5</th>\n",
       "      <td>housing</td>\n",
       "      <td>0.046756</td>\n",
       "    </tr>\n",
       "    <tr>\n",
       "      <th>2</th>\n",
       "      <td>marital</td>\n",
       "      <td>0.040351</td>\n",
       "    </tr>\n",
       "    <tr>\n",
       "      <th>10</th>\n",
       "      <td>poutcome</td>\n",
       "      <td>0.035108</td>\n",
       "    </tr>\n",
       "    <tr>\n",
       "      <th>6</th>\n",
       "      <td>loan</td>\n",
       "      <td>0.025187</td>\n",
       "    </tr>\n",
       "    <tr>\n",
       "      <th>13</th>\n",
       "      <td>cons.conf.idx</td>\n",
       "      <td>0.024395</td>\n",
       "    </tr>\n",
       "    <tr>\n",
       "      <th>4</th>\n",
       "      <td>default</td>\n",
       "      <td>0.020073</td>\n",
       "    </tr>\n",
       "    <tr>\n",
       "      <th>9</th>\n",
       "      <td>previous</td>\n",
       "      <td>0.017321</td>\n",
       "    </tr>\n",
       "    <tr>\n",
       "      <th>8</th>\n",
       "      <td>pdays</td>\n",
       "      <td>0.013290</td>\n",
       "    </tr>\n",
       "    <tr>\n",
       "      <th>12</th>\n",
       "      <td>cons.price.idx</td>\n",
       "      <td>0.009660</td>\n",
       "    </tr>\n",
       "    <tr>\n",
       "      <th>11</th>\n",
       "      <td>emp.var.rate</td>\n",
       "      <td>0.003874</td>\n",
       "    </tr>\n",
       "  </tbody>\n",
       "</table>\n",
       "</div>"
      ],
      "text/plain": [
       "              Feat       imp\n",
       "0              age  0.195954\n",
       "15     nr.employed  0.161503\n",
       "14       euribor3m  0.138460\n",
       "1              job  0.092670\n",
       "7         campaign  0.091351\n",
       "3        education  0.084046\n",
       "5          housing  0.046756\n",
       "2          marital  0.040351\n",
       "10        poutcome  0.035108\n",
       "6             loan  0.025187\n",
       "13   cons.conf.idx  0.024395\n",
       "4          default  0.020073\n",
       "9         previous  0.017321\n",
       "8            pdays  0.013290\n",
       "12  cons.price.idx  0.009660\n",
       "11    emp.var.rate  0.003874"
      ]
     },
     "execution_count": 23,
     "metadata": {},
     "output_type": "execute_result"
    }
   ],
   "source": [
    "df= pd.DataFrame()\n",
    "df['Feat'] = train_x.columns\n",
    "df['imp'] = dt.feature_importances_\n",
    "df = df.sort_values('imp', ascending = False)\n",
    "df"
   ]
  },
  {
   "cell_type": "markdown",
   "id": "ddf0a7d0",
   "metadata": {},
   "source": [
    "AGE IS MOST SIGNIFICANT COLUMN"
   ]
  },
  {
   "cell_type": "markdown",
   "id": "8b3bd089",
   "metadata": {},
   "source": [
    " TOP 6 SIGNIFICANT COLUMNS--------> age , nr.employed , euribor3m , campaign , job , education "
   ]
  },
  {
   "cell_type": "markdown",
   "id": "c08c767a",
   "metadata": {},
   "source": [
    "# TO CHECK WHICH AGE GROUP IS MORE LIKELY TO SUBSCRIBE TO TERM DEPOSIT"
   ]
  },
  {
   "cell_type": "code",
   "execution_count": 14,
   "id": "c1f5a07e",
   "metadata": {},
   "outputs": [],
   "source": [
    "import seaborn as sns"
   ]
  },
  {
   "cell_type": "code",
   "execution_count": 11,
   "id": "0427c1ca",
   "metadata": {},
   "outputs": [],
   "source": [
    "age_bins = [0, 10, 20, 30, 40, 50, 60, 70, 80, 90, 100]\n",
    "age_labels = ['0-10', '10-20', '20-30', '30-40', '40-50', '50-60', '60-70', '70-80', '80-90', '90-100']"
   ]
  },
  {
   "cell_type": "code",
   "execution_count": 12,
   "id": "9e698087",
   "metadata": {},
   "outputs": [],
   "source": [
    "td['age'] = pd.cut(td['age'], bins=age_bins, labels=age_labels, right=False)"
   ]
  },
  {
   "cell_type": "code",
   "execution_count": 15,
   "id": "2952cc48",
   "metadata": {},
   "outputs": [
    {
     "data": {
      "text/plain": [
       "<Axes: xlabel='age', ylabel='count'>"
      ]
     },
     "execution_count": 15,
     "metadata": {},
     "output_type": "execute_result"
    },
    {
     "data": {
      "image/png": "[encoded data removed]",
      "text/plain": [
       "<Figure size 640x480 with 1 Axes>"
      ]
     },
     "metadata": {},
     "output_type": "display_data"
    }
   ],
   "source": [
    "sns.countplot(x='age',hue='y',data=td)"
   ]
  },
  {
   "cell_type": "markdown",
   "id": "a22cca12",
   "metadata": {},
   "source": [
    "THEREFORE AGE GROUP 30-40 IS MORE LIKELY TO SUBSCRIBE TO TERM DEPOSIT"
   ]
  },
  {
   "cell_type": "markdown",
   "id": "69cec897",
   "metadata": {},
   "source": [
    "# WHICH JOB PROFILE IS MORE LIKELY TO SUBSCRIBE "
   ]
  },
  {
   "cell_type": "code",
   "execution_count": 17,
   "id": "498d921e",
   "metadata": {},
   "outputs": [
    {
     "data": {
      "text/plain": [
       "<Axes: xlabel='job', ylabel='count'>"
      ]
     },
     "execution_count": 17,
     "metadata": {},
     "output_type": "execute_result"
    },
    {
     "data": {
      "image/png": "[encoded data removed]",
      "text/plain": [
       "<Figure size 640x480 with 1 Axes>"
      ]
     },
     "metadata": {},
     "output_type": "display_data"
    }
   ],
   "source": [
    "sns.countplot(x='job',hue='y',data=td)"
   ]
  },
  {
   "cell_type": "markdown",
   "id": "43f141ee",
   "metadata": {},
   "source": [
    "SO CLIENTS OF JOB PROFILE IN FOLLOWING ORDER ARE MORE LIKELY TO SUBSCRIBE\n",
    "\n",
    "1> FIRST ADMIN\n",
    "\n",
    "2> SECOND TECHNICIAN\n",
    "\n",
    "3> BLUE COLLAR\n",
    "\n",
    "4> RETIRED"
   ]
  },
  {
   "cell_type": "markdown",
   "id": "946faeb8",
   "metadata": {},
   "source": [
    "# EDUCATIONAL  ANALYSIS ON SUBSCRIPTION"
   ]
  },
  {
   "cell_type": "code",
   "execution_count": 18,
   "id": "0cdde532",
   "metadata": {},
   "outputs": [
    {
     "data": {
      "text/plain": [
       "<Axes: xlabel='education', ylabel='count'>"
      ]
     },
     "execution_count": 18,
     "metadata": {},
     "output_type": "execute_result"
    },
    {
     "data": {
      "image/png": "[encoded data removed]",
      "text/plain": [
       "<Figure size 640x480 with 1 Axes>"
      ]
     },
     "metadata": {},
     "output_type": "display_data"
    }
   ],
   "source": [
    "sns.countplot(x='education',hue='y',data=td)"
   ]
  },
  {
   "cell_type": "markdown",
   "id": "fa9704bc",
   "metadata": {},
   "source": [
    "SO CLIENTS HOLDING UNIVERSITY DEGREE ARE MORE LIKELY TO SUBSCRIBE TO TERM DEPOSIT "
   ]
  },
  {
   "cell_type": "code",
   "execution_count": 21,
   "id": "d45b3115",
   "metadata": {},
   "outputs": [],
   "source": [
    "from sklearn.model_selection import train_test_split"
   ]
  },
  {
   "cell_type": "code",
   "execution_count": 22,
   "id": "bd9428f9",
   "metadata": {},
   "outputs": [],
   "source": [
    "train,test=train_test_split(td,test_size=0.2)"
   ]
  },
  {
   "cell_type": "code",
   "execution_count": 23,
   "id": "4e8b821d",
   "metadata": {},
   "outputs": [
    {
     "data": {
      "text/html": [
       "<div>\n",
       "<style scoped>\n",
       "    .dataframe tbody tr th:only-of-type {\n",
       "        vertical-align: middle;\n",
       "    }\n",
       "\n",
       "    .dataframe tbody tr th {\n",
       "        vertical-align: top;\n",
       "    }\n",
       "\n",
       "    .dataframe thead th {\n",
       "        text-align: right;\n",
       "    }\n",
       "</style>\n",
       "<table border=\"1\" class=\"dataframe\">\n",
       "  <thead>\n",
       "    <tr style=\"text-align: right;\">\n",
       "      <th></th>\n",
       "      <th>age</th>\n",
       "      <th>nr.employed</th>\n",
       "      <th>euribor3m</th>\n",
       "      <th>job</th>\n",
       "      <th>campaign</th>\n",
       "      <th>education</th>\n",
       "    </tr>\n",
       "  </thead>\n",
       "  <tbody>\n",
       "    <tr>\n",
       "      <th>22401</th>\n",
       "      <td>31</td>\n",
       "      <td>5228.1</td>\n",
       "      <td>4.964</td>\n",
       "      <td>7</td>\n",
       "      <td>2</td>\n",
       "      <td>8</td>\n",
       "    </tr>\n",
       "    <tr>\n",
       "      <th>36263</th>\n",
       "      <td>27</td>\n",
       "      <td>5076.2</td>\n",
       "      <td>1.266</td>\n",
       "      <td>10</td>\n",
       "      <td>1</td>\n",
       "      <td>8</td>\n",
       "    </tr>\n",
       "    <tr>\n",
       "      <th>18164</th>\n",
       "      <td>34</td>\n",
       "      <td>5228.1</td>\n",
       "      <td>4.963</td>\n",
       "      <td>4</td>\n",
       "      <td>1</td>\n",
       "      <td>8</td>\n",
       "    </tr>\n",
       "    <tr>\n",
       "      <th>33329</th>\n",
       "      <td>39</td>\n",
       "      <td>5099.1</td>\n",
       "      <td>1.291</td>\n",
       "      <td>7</td>\n",
       "      <td>1</td>\n",
       "      <td>7</td>\n",
       "    </tr>\n",
       "    <tr>\n",
       "      <th>14767</th>\n",
       "      <td>34</td>\n",
       "      <td>5228.1</td>\n",
       "      <td>4.957</td>\n",
       "      <td>7</td>\n",
       "      <td>1</td>\n",
       "      <td>7</td>\n",
       "    </tr>\n",
       "    <tr>\n",
       "      <th>...</th>\n",
       "      <td>...</td>\n",
       "      <td>...</td>\n",
       "      <td>...</td>\n",
       "      <td>...</td>\n",
       "      <td>...</td>\n",
       "      <td>...</td>\n",
       "    </tr>\n",
       "    <tr>\n",
       "      <th>34029</th>\n",
       "      <td>41</td>\n",
       "      <td>5099.1</td>\n",
       "      <td>1.281</td>\n",
       "      <td>8</td>\n",
       "      <td>2</td>\n",
       "      <td>6</td>\n",
       "    </tr>\n",
       "    <tr>\n",
       "      <th>33260</th>\n",
       "      <td>34</td>\n",
       "      <td>5099.1</td>\n",
       "      <td>1.291</td>\n",
       "      <td>4</td>\n",
       "      <td>1</td>\n",
       "      <td>8</td>\n",
       "    </tr>\n",
       "    <tr>\n",
       "      <th>27568</th>\n",
       "      <td>47</td>\n",
       "      <td>5195.8</td>\n",
       "      <td>4.021</td>\n",
       "      <td>10</td>\n",
       "      <td>5</td>\n",
       "      <td>6</td>\n",
       "    </tr>\n",
       "    <tr>\n",
       "      <th>14568</th>\n",
       "      <td>35</td>\n",
       "      <td>5228.1</td>\n",
       "      <td>4.961</td>\n",
       "      <td>9</td>\n",
       "      <td>1</td>\n",
       "      <td>5</td>\n",
       "    </tr>\n",
       "    <tr>\n",
       "      <th>11169</th>\n",
       "      <td>41</td>\n",
       "      <td>5228.1</td>\n",
       "      <td>4.961</td>\n",
       "      <td>10</td>\n",
       "      <td>4</td>\n",
       "      <td>8</td>\n",
       "    </tr>\n",
       "  </tbody>\n",
       "</table>\n",
       "<p>32950 rows × 6 columns</p>\n",
       "</div>"
      ],
      "text/plain": [
       "       age  nr.employed  euribor3m  job  campaign  education\n",
       "22401   31       5228.1      4.964    7         2          8\n",
       "36263   27       5076.2      1.266   10         1          8\n",
       "18164   34       5228.1      4.963    4         1          8\n",
       "33329   39       5099.1      1.291    7         1          7\n",
       "14767   34       5228.1      4.957    7         1          7\n",
       "...    ...          ...        ...  ...       ...        ...\n",
       "34029   41       5099.1      1.281    8         2          6\n",
       "33260   34       5099.1      1.291    4         1          8\n",
       "27568   47       5195.8      4.021   10         5          6\n",
       "14568   35       5228.1      4.961    9         1          5\n",
       "11169   41       5228.1      4.961   10         4          8\n",
       "\n",
       "[32950 rows x 6 columns]"
      ]
     },
     "execution_count": 23,
     "metadata": {},
     "output_type": "execute_result"
    }
   ],
   "source": [
    "train_x=train.iloc[0::,[0,15,14,1,7,3]]\n",
    "train_x"
   ]
  },
  {
   "cell_type": "code",
   "execution_count": 24,
   "id": "7ef246f7",
   "metadata": {},
   "outputs": [
    {
     "data": {
      "text/plain": [
       "22401    1\n",
       "36263    0\n",
       "18164    0\n",
       "33329    0\n",
       "14767    0\n",
       "        ..\n",
       "34029    0\n",
       "33260    0\n",
       "27568    0\n",
       "14568    0\n",
       "11169    0\n",
       "Name: y, Length: 32950, dtype: int64"
      ]
     },
     "execution_count": 24,
     "metadata": {},
     "output_type": "execute_result"
    }
   ],
   "source": [
    "train_y=train.iloc[0::,-1]\n",
    "train_y"
   ]
  },
  {
   "cell_type": "code",
   "execution_count": 25,
   "id": "5cd510c9",
   "metadata": {},
   "outputs": [
    {
     "data": {
      "text/html": [
       "<div>\n",
       "<style scoped>\n",
       "    .dataframe tbody tr th:only-of-type {\n",
       "        vertical-align: middle;\n",
       "    }\n",
       "\n",
       "    .dataframe tbody tr th {\n",
       "        vertical-align: top;\n",
       "    }\n",
       "\n",
       "    .dataframe thead th {\n",
       "        text-align: right;\n",
       "    }\n",
       "</style>\n",
       "<table border=\"1\" class=\"dataframe\">\n",
       "  <thead>\n",
       "    <tr style=\"text-align: right;\">\n",
       "      <th></th>\n",
       "      <th>age</th>\n",
       "      <th>nr.employed</th>\n",
       "      <th>euribor3m</th>\n",
       "      <th>job</th>\n",
       "      <th>campaign</th>\n",
       "      <th>education</th>\n",
       "    </tr>\n",
       "  </thead>\n",
       "  <tbody>\n",
       "    <tr>\n",
       "      <th>33085</th>\n",
       "      <td>32</td>\n",
       "      <td>5099.1</td>\n",
       "      <td>1.291</td>\n",
       "      <td>8</td>\n",
       "      <td>6</td>\n",
       "      <td>6</td>\n",
       "    </tr>\n",
       "    <tr>\n",
       "      <th>12035</th>\n",
       "      <td>39</td>\n",
       "      <td>5228.1</td>\n",
       "      <td>4.955</td>\n",
       "      <td>4</td>\n",
       "      <td>4</td>\n",
       "      <td>7</td>\n",
       "    </tr>\n",
       "    <tr>\n",
       "      <th>20749</th>\n",
       "      <td>34</td>\n",
       "      <td>5228.1</td>\n",
       "      <td>4.965</td>\n",
       "      <td>5</td>\n",
       "      <td>1</td>\n",
       "      <td>0</td>\n",
       "    </tr>\n",
       "    <tr>\n",
       "      <th>4937</th>\n",
       "      <td>36</td>\n",
       "      <td>5191.0</td>\n",
       "      <td>4.858</td>\n",
       "      <td>8</td>\n",
       "      <td>2</td>\n",
       "      <td>4</td>\n",
       "    </tr>\n",
       "    <tr>\n",
       "      <th>3066</th>\n",
       "      <td>29</td>\n",
       "      <td>5191.0</td>\n",
       "      <td>4.859</td>\n",
       "      <td>10</td>\n",
       "      <td>2</td>\n",
       "      <td>8</td>\n",
       "    </tr>\n",
       "    <tr>\n",
       "      <th>...</th>\n",
       "      <td>...</td>\n",
       "      <td>...</td>\n",
       "      <td>...</td>\n",
       "      <td>...</td>\n",
       "      <td>...</td>\n",
       "      <td>...</td>\n",
       "    </tr>\n",
       "    <tr>\n",
       "      <th>16270</th>\n",
       "      <td>35</td>\n",
       "      <td>5228.1</td>\n",
       "      <td>4.961</td>\n",
       "      <td>7</td>\n",
       "      <td>2</td>\n",
       "      <td>7</td>\n",
       "    </tr>\n",
       "    <tr>\n",
       "      <th>39249</th>\n",
       "      <td>33</td>\n",
       "      <td>5008.7</td>\n",
       "      <td>0.650</td>\n",
       "      <td>10</td>\n",
       "      <td>1</td>\n",
       "      <td>8</td>\n",
       "    </tr>\n",
       "    <tr>\n",
       "      <th>21411</th>\n",
       "      <td>31</td>\n",
       "      <td>5228.1</td>\n",
       "      <td>4.963</td>\n",
       "      <td>10</td>\n",
       "      <td>1</td>\n",
       "      <td>8</td>\n",
       "    </tr>\n",
       "    <tr>\n",
       "      <th>16578</th>\n",
       "      <td>34</td>\n",
       "      <td>5228.1</td>\n",
       "      <td>4.963</td>\n",
       "      <td>9</td>\n",
       "      <td>3</td>\n",
       "      <td>5</td>\n",
       "    </tr>\n",
       "    <tr>\n",
       "      <th>14810</th>\n",
       "      <td>23</td>\n",
       "      <td>5228.1</td>\n",
       "      <td>4.957</td>\n",
       "      <td>9</td>\n",
       "      <td>1</td>\n",
       "      <td>6</td>\n",
       "    </tr>\n",
       "  </tbody>\n",
       "</table>\n",
       "<p>8238 rows × 6 columns</p>\n",
       "</div>"
      ],
      "text/plain": [
       "       age  nr.employed  euribor3m  job  campaign  education\n",
       "33085   32       5099.1      1.291    8         6          6\n",
       "12035   39       5228.1      4.955    4         4          7\n",
       "20749   34       5228.1      4.965    5         1          0\n",
       "4937    36       5191.0      4.858    8         2          4\n",
       "3066    29       5191.0      4.859   10         2          8\n",
       "...    ...          ...        ...  ...       ...        ...\n",
       "16270   35       5228.1      4.961    7         2          7\n",
       "39249   33       5008.7      0.650   10         1          8\n",
       "21411   31       5228.1      4.963   10         1          8\n",
       "16578   34       5228.1      4.963    9         3          5\n",
       "14810   23       5228.1      4.957    9         1          6\n",
       "\n",
       "[8238 rows x 6 columns]"
      ]
     },
     "execution_count": 25,
     "metadata": {},
     "output_type": "execute_result"
    }
   ],
   "source": [
    "test_x=test.iloc[0::,[0,15,14,1,7,3]]\n",
    "test_x"
   ]
  },
  {
   "cell_type": "code",
   "execution_count": 26,
   "id": "acd36ae8",
   "metadata": {},
   "outputs": [
    {
     "data": {
      "text/plain": [
       "33085    0\n",
       "12035    0\n",
       "20749    0\n",
       "4937     0\n",
       "3066     0\n",
       "        ..\n",
       "16270    0\n",
       "39249    0\n",
       "21411    0\n",
       "16578    0\n",
       "14810    0\n",
       "Name: y, Length: 8238, dtype: int64"
      ]
     },
     "execution_count": 26,
     "metadata": {},
     "output_type": "execute_result"
    }
   ],
   "source": [
    "test_y=test.iloc[0::,-1]\n",
    "test_y"
   ]
  },
  {
   "cell_type": "code",
   "execution_count": 27,
   "id": "3dc72483",
   "metadata": {},
   "outputs": [],
   "source": [
    "from sklearn.tree import DecisionTreeClassifier\n",
    "dt=DecisionTreeClassifier()"
   ]
  },
  {
   "cell_type": "code",
   "execution_count": 28,
   "id": "bc6c9cfe",
   "metadata": {},
   "outputs": [
    {
     "data": {
      "text/html": [
       "<style>#sk-container-id-2 {color: black;background-color: white;}#sk-container-id-2 pre{padding: 0;}#sk-container-id-2 div.sk-toggleable {background-color: white;}#sk-container-id-2 label.sk-toggleable__label {cursor: pointer;display: block;width: 100%;margin-bottom: 0;padding: 0.3em;box-sizing: border-box;text-align: center;}#sk-container-id-2 label.sk-toggleable__label-arrow:before {content: \"▸\";float: left;margin-right: 0.25em;color: #696969;}#sk-container-id-2 label.sk-toggleable__label-arrow:hover:before {color: black;}#sk-container-id-2 div.sk-estimator:hover label.sk-toggleable__label-arrow:before {color: black;}#sk-container-id-2 div.sk-toggleable__content {max-height: 0;max-width: 0;overflow: hidden;text-align: left;background-color: #f0f8ff;}#sk-container-id-2 div.sk-toggleable__content pre {margin: 0.2em;color: black;border-radius: 0.25em;background-color: #f0f8ff;}#sk-container-id-2 input.sk-toggleable__control:checked~div.sk-toggleable__content {max-height: 200px;max-width: 100%;overflow: auto;}#sk-container-id-2 input.sk-toggleable__control:checked~label.sk-toggleable__label-arrow:before {content: \"▾\";}#sk-container-id-2 div.sk-estimator input.sk-toggleable__control:checked~label.sk-toggleable__label {background-color: #d4ebff;}#sk-container-id-2 div.sk-label input.sk-toggleable__control:checked~label.sk-toggleable__label {background-color: #d4ebff;}#sk-container-id-2 input.sk-hidden--visually {border: 0;clip: rect(1px 1px 1px 1px);clip: rect(1px, 1px, 1px, 1px);height: 1px;margin: -1px;overflow: hidden;padding: 0;position: absolute;width: 1px;}#sk-container-id-2 div.sk-estimator {font-family: monospace;background-color: #f0f8ff;border: 1px dotted black;border-radius: 0.25em;box-sizing: border-box;margin-bottom: 0.5em;}#sk-container-id-2 div.sk-estimator:hover {background-color: #d4ebff;}#sk-container-id-2 div.sk-parallel-item::after {content: \"\";width: 100%;border-bottom: 1px solid gray;flex-grow: 1;}#sk-container-id-2 div.sk-label:hover label.sk-toggleable__label {background-color: #d4ebff;}#sk-container-id-2 div.sk-serial::before {content: \"\";position: absolute;border-left: 1px solid gray;box-sizing: border-box;top: 0;bottom: 0;left: 50%;z-index: 0;}#sk-container-id-2 div.sk-serial {display: flex;flex-direction: column;align-items: center;background-color: white;padding-right: 0.2em;padding-left: 0.2em;position: relative;}#sk-container-id-2 div.sk-item {position: relative;z-index: 1;}#sk-container-id-2 div.sk-parallel {display: flex;align-items: stretch;justify-content: center;background-color: white;position: relative;}#sk-container-id-2 div.sk-item::before, #sk-container-id-2 div.sk-parallel-item::before {content: \"\";position: absolute;border-left: 1px solid gray;box-sizing: border-box;top: 0;bottom: 0;left: 50%;z-index: -1;}#sk-container-id-2 div.sk-parallel-item {display: flex;flex-direction: column;z-index: 1;position: relative;background-color: white;}#sk-container-id-2 div.sk-parallel-item:first-child::after {align-self: flex-end;width: 50%;}#sk-container-id-2 div.sk-parallel-item:last-child::after {align-self: flex-start;width: 50%;}#sk-container-id-2 div.sk-parallel-item:only-child::after {width: 0;}#sk-container-id-2 div.sk-dashed-wrapped {border: 1px dashed gray;margin: 0 0.4em 0.5em 0.4em;box-sizing: border-box;padding-bottom: 0.4em;background-color: white;}#sk-container-id-2 div.sk-label label {font-family: monospace;font-weight: bold;display: inline-block;line-height: 1.2em;}#sk-container-id-2 div.sk-label-container {text-align: center;}#sk-container-id-2 div.sk-container {/* jupyter's `normalize.less` sets `[hidden] { display: none; }` but bootstrap.min.css set `[hidden] { display: none !important; }` so we also need the `!important` here to be able to override the default hidden behavior on the sphinx rendered scikit-learn.org. See: https://github.com/scikit-learn/scikit-learn/issues/21755 */display: inline-block !important;position: relative;}#sk-container-id-2 div.sk-text-repr-fallback {display: none;}</style><div id=\"sk-container-id-2\" class=\"sk-top-container\"><div class=\"sk-text-repr-fallback\"><pre>DecisionTreeClassifier()</pre><b>In a Jupyter environment, please rerun this cell to show the HTML representation or trust the notebook. <br />On GitHub, the HTML representation is unable to render, please try loading this page with nbviewer.org.</b></div><div class=\"sk-container\" hidden><div class=\"sk-item\"><div class=\"sk-estimator sk-toggleable\"><input class=\"sk-toggleable__control sk-hidden--visually\" id=\"sk-estimator-id-2\" type=\"checkbox\" checked><label for=\"sk-estimator-id-2\" class=\"sk-toggleable__label sk-toggleable__label-arrow\">DecisionTreeClassifier</label><div class=\"sk-toggleable__content\"><pre>DecisionTreeClassifier()</pre></div></div></div></div></div>"
      ],
      "text/plain": [
       "DecisionTreeClassifier()"
      ]
     },
     "execution_count": 28,
     "metadata": {},
     "output_type": "execute_result"
    }
   ],
   "source": [
    "dt.fit(train_x,train_y)"
   ]
  },
  {
   "cell_type": "code",
   "execution_count": 29,
   "id": "1760ec46",
   "metadata": {},
   "outputs": [],
   "source": [
    "pred_test=dt.predict(test_x)"
   ]
  },
  {
   "cell_type": "code",
   "execution_count": 30,
   "id": "c9f6ea43",
   "metadata": {},
   "outputs": [],
   "source": [
    "from sklearn.metrics import confusion_matrix,recall_score,precision_score,accuracy_score,f1_score"
   ]
  },
  {
   "cell_type": "code",
   "execution_count": 31,
   "id": "0dce070f",
   "metadata": {},
   "outputs": [
    {
     "data": {
      "text/plain": [
       "array([[6744,  580],\n",
       "       [ 632,  282]], dtype=int64)"
      ]
     },
     "execution_count": 31,
     "metadata": {},
     "output_type": "execute_result"
    }
   ],
   "source": [
    "confusion_matrix(test_y,pred_test)"
   ]
  },
  {
   "cell_type": "code",
   "execution_count": 32,
   "id": "9b1d5b0e",
   "metadata": {},
   "outputs": [
    {
     "data": {
      "text/plain": [
       "0.8528769118718136"
      ]
     },
     "execution_count": 32,
     "metadata": {},
     "output_type": "execute_result"
    }
   ],
   "source": [
    "accuracy_score(test_y,pred_test)"
   ]
  },
  {
   "cell_type": "code",
   "execution_count": 33,
   "id": "9cf5c31c",
   "metadata": {},
   "outputs": [
    {
     "data": {
      "text/plain": [
       "0.3271461716937355"
      ]
     },
     "execution_count": 33,
     "metadata": {},
     "output_type": "execute_result"
    }
   ],
   "source": [
    "precision_score(test_y,pred_test)"
   ]
  },
  {
   "cell_type": "code",
   "execution_count": 34,
   "id": "e28b23cf",
   "metadata": {},
   "outputs": [
    {
     "data": {
      "text/plain": [
       "0.3085339168490153"
      ]
     },
     "execution_count": 34,
     "metadata": {},
     "output_type": "execute_result"
    }
   ],
   "source": [
    "recall_score(test_y,pred_test)"
   ]
  },
  {
   "cell_type": "code",
   "execution_count": 35,
   "id": "99ba0655",
   "metadata": {},
   "outputs": [
    {
     "data": {
      "text/plain": [
       "0.3175675675675676"
      ]
     },
     "execution_count": 35,
     "metadata": {},
     "output_type": "execute_result"
    }
   ],
   "source": [
    "f1_score(test_y,pred_test)"
   ]
  },
  {
   "cell_type": "code",
   "execution_count": 36,
   "id": "2d76a708",
   "metadata": {},
   "outputs": [
    {
     "data": {
      "text/plain": [
       "0.0963327859879584"
      ]
     },
     "execution_count": 36,
     "metadata": {},
     "output_type": "execute_result"
    }
   ],
   "source": [
    "Fpr=tab[0][1]/(tab[0][1]+tab[0][0])\n",
    "Fpr"
   ]
  },
  {
   "cell_type": "markdown",
   "id": "c6a77ed6",
   "metadata": {},
   "source": [
    "AS WE ARE GETTING GOOD RESULTS WITH LESS NUMBER OF FEATURES(COLUMNS) SO WE WILL BE USING 6 FEATURES ONLY\n",
    "\n",
    "AS WE KNOW WE DONT NEED TO TAKE INSIGNIFICANT COLUMNS\n",
    "\n",
    "TAKING 16 COLUMNS WE GOT                                                  \n",
    "\n",
    "                                                \n",
    "\n",
    "ACCURACY-----------> 83% \n",
    "                                      \n",
    "                                                                         \n",
    "Tpr----------------> 33\n",
    "\n",
    "\n",
    "Fpr----------------> 0.1  \n",
    "\n",
    "\n",
    "PRECISION----------> 27%\n",
    "\n",
    "\n",
    "F1 RATION----------> 30                                                    \n",
    "\n",
    "\n",
    "\n",
    "\n",
    "\n",
    "\n",
    "\n",
    "\n",
    " TAKING 6 COLUMNS WE GOT\n",
    "\n",
    "                                                \n",
    "\n",
    "ACCURACY-----------> 83%  \n",
    "\n",
    "\n",
    "                                                                         \n",
    "Tpr----------------> 29 \n",
    "\n",
    "\n",
    "\n",
    "Fpr----------------> 0.06  \n",
    "\n",
    "\n",
    "\n",
    "PRECISION----------> 30%  \n",
    "\n",
    "\n",
    "\n",
    "F1 RATION----------> 32                                                  \n",
    "\n"
   ]
  },
  {
   "cell_type": "markdown",
   "id": "3563f57d",
   "metadata": {},
   "source": [
    "# CLASS IMBALANCE\n",
    "\n",
    "\n",
    "TRYING OVERSAMPLING"
   ]
  },
  {
   "cell_type": "code",
   "execution_count": 285,
   "id": "95814d2e",
   "metadata": {},
   "outputs": [
    {
     "name": "stdout",
     "output_type": "stream",
     "text": [
      "<class 'pandas.core.frame.DataFrame'>\n",
      "RangeIndex: 41188 entries, 0 to 41187\n",
      "Data columns (total 17 columns):\n",
      " #   Column          Non-Null Count  Dtype  \n",
      "---  ------          --------------  -----  \n",
      " 0   age             41188 non-null  int64  \n",
      " 1   job             41188 non-null  int64  \n",
      " 2   marital         41188 non-null  int64  \n",
      " 3   education       41188 non-null  int64  \n",
      " 4   default         41188 non-null  int64  \n",
      " 5   housing         41188 non-null  int64  \n",
      " 6   loan            41188 non-null  int64  \n",
      " 7   campaign        41188 non-null  int64  \n",
      " 8   pdays           41188 non-null  int64  \n",
      " 9   previous        41188 non-null  int64  \n",
      " 10  poutcome        41188 non-null  int64  \n",
      " 11  emp.var.rate    41188 non-null  float64\n",
      " 12  cons.price.idx  41188 non-null  float64\n",
      " 13  cons.conf.idx   41188 non-null  float64\n",
      " 14  euribor3m       41188 non-null  float64\n",
      " 15  nr.employed     41188 non-null  float64\n",
      " 16  y               41188 non-null  int64  \n",
      "dtypes: float64(5), int64(12)\n",
      "memory usage: 5.3 MB\n"
     ]
    }
   ],
   "source": [
    "td.info()"
   ]
  },
  {
   "cell_type": "code",
   "execution_count": 37,
   "id": "2a86a277",
   "metadata": {},
   "outputs": [],
   "source": [
    "from sklearn.model_selection import train_test_split"
   ]
  },
  {
   "cell_type": "code",
   "execution_count": 38,
   "id": "0f173724",
   "metadata": {},
   "outputs": [],
   "source": [
    "train,test=train_test_split(td,test_size=0.2)"
   ]
  },
  {
   "cell_type": "code",
   "execution_count": 39,
   "id": "df1a9f80",
   "metadata": {},
   "outputs": [],
   "source": [
    "temp=train[train.y==1]\n",
    "train=pd.concat([train,temp])"
   ]
  },
  {
   "cell_type": "code",
   "execution_count": 40,
   "id": "95d60935",
   "metadata": {},
   "outputs": [
    {
     "data": {
      "text/html": [
       "<div>\n",
       "<style scoped>\n",
       "    .dataframe tbody tr th:only-of-type {\n",
       "        vertical-align: middle;\n",
       "    }\n",
       "\n",
       "    .dataframe tbody tr th {\n",
       "        vertical-align: top;\n",
       "    }\n",
       "\n",
       "    .dataframe thead th {\n",
       "        text-align: right;\n",
       "    }\n",
       "</style>\n",
       "<table border=\"1\" class=\"dataframe\">\n",
       "  <thead>\n",
       "    <tr style=\"text-align: right;\">\n",
       "      <th></th>\n",
       "      <th>age</th>\n",
       "      <th>nr.employed</th>\n",
       "      <th>euribor3m</th>\n",
       "      <th>job</th>\n",
       "      <th>campaign</th>\n",
       "      <th>education</th>\n",
       "    </tr>\n",
       "  </thead>\n",
       "  <tbody>\n",
       "    <tr>\n",
       "      <th>34634</th>\n",
       "      <td>39</td>\n",
       "      <td>5099.1</td>\n",
       "      <td>1.266</td>\n",
       "      <td>5</td>\n",
       "      <td>2</td>\n",
       "      <td>5</td>\n",
       "    </tr>\n",
       "    <tr>\n",
       "      <th>39537</th>\n",
       "      <td>52</td>\n",
       "      <td>5008.7</td>\n",
       "      <td>0.654</td>\n",
       "      <td>10</td>\n",
       "      <td>2</td>\n",
       "      <td>0</td>\n",
       "    </tr>\n",
       "    <tr>\n",
       "      <th>4113</th>\n",
       "      <td>31</td>\n",
       "      <td>5191.0</td>\n",
       "      <td>4.858</td>\n",
       "      <td>9</td>\n",
       "      <td>6</td>\n",
       "      <td>5</td>\n",
       "    </tr>\n",
       "    <tr>\n",
       "      <th>8415</th>\n",
       "      <td>40</td>\n",
       "      <td>5228.1</td>\n",
       "      <td>4.864</td>\n",
       "      <td>9</td>\n",
       "      <td>4</td>\n",
       "      <td>5</td>\n",
       "    </tr>\n",
       "    <tr>\n",
       "      <th>653</th>\n",
       "      <td>39</td>\n",
       "      <td>5191.0</td>\n",
       "      <td>4.857</td>\n",
       "      <td>9</td>\n",
       "      <td>2</td>\n",
       "      <td>5</td>\n",
       "    </tr>\n",
       "    <tr>\n",
       "      <th>...</th>\n",
       "      <td>...</td>\n",
       "      <td>...</td>\n",
       "      <td>...</td>\n",
       "      <td>...</td>\n",
       "      <td>...</td>\n",
       "      <td>...</td>\n",
       "    </tr>\n",
       "    <tr>\n",
       "      <th>12433</th>\n",
       "      <td>31</td>\n",
       "      <td>5228.1</td>\n",
       "      <td>4.960</td>\n",
       "      <td>6</td>\n",
       "      <td>3</td>\n",
       "      <td>6</td>\n",
       "    </tr>\n",
       "    <tr>\n",
       "      <th>24073</th>\n",
       "      <td>50</td>\n",
       "      <td>5195.8</td>\n",
       "      <td>4.700</td>\n",
       "      <td>5</td>\n",
       "      <td>1</td>\n",
       "      <td>8</td>\n",
       "    </tr>\n",
       "    <tr>\n",
       "      <th>38503</th>\n",
       "      <td>63</td>\n",
       "      <td>5017.5</td>\n",
       "      <td>0.728</td>\n",
       "      <td>7</td>\n",
       "      <td>1</td>\n",
       "      <td>7</td>\n",
       "    </tr>\n",
       "    <tr>\n",
       "      <th>28400</th>\n",
       "      <td>33</td>\n",
       "      <td>5099.1</td>\n",
       "      <td>1.435</td>\n",
       "      <td>7</td>\n",
       "      <td>1</td>\n",
       "      <td>8</td>\n",
       "    </tr>\n",
       "    <tr>\n",
       "      <th>10049</th>\n",
       "      <td>55</td>\n",
       "      <td>5228.1</td>\n",
       "      <td>4.958</td>\n",
       "      <td>7</td>\n",
       "      <td>1</td>\n",
       "      <td>7</td>\n",
       "    </tr>\n",
       "  </tbody>\n",
       "</table>\n",
       "<p>36657 rows × 6 columns</p>\n",
       "</div>"
      ],
      "text/plain": [
       "       age  nr.employed  euribor3m  job  campaign  education\n",
       "34634   39       5099.1      1.266    5         2          5\n",
       "39537   52       5008.7      0.654   10         2          0\n",
       "4113    31       5191.0      4.858    9         6          5\n",
       "8415    40       5228.1      4.864    9         4          5\n",
       "653     39       5191.0      4.857    9         2          5\n",
       "...    ...          ...        ...  ...       ...        ...\n",
       "12433   31       5228.1      4.960    6         3          6\n",
       "24073   50       5195.8      4.700    5         1          8\n",
       "38503   63       5017.5      0.728    7         1          7\n",
       "28400   33       5099.1      1.435    7         1          8\n",
       "10049   55       5228.1      4.958    7         1          7\n",
       "\n",
       "[36657 rows x 6 columns]"
      ]
     },
     "execution_count": 40,
     "metadata": {},
     "output_type": "execute_result"
    }
   ],
   "source": [
    "train_x=train.iloc[0::,[0,15,14,1,7,3]]\n",
    "train_x"
   ]
  },
  {
   "cell_type": "code",
   "execution_count": 41,
   "id": "8ac92b4e",
   "metadata": {},
   "outputs": [
    {
     "data": {
      "text/html": [
       "<div>\n",
       "<style scoped>\n",
       "    .dataframe tbody tr th:only-of-type {\n",
       "        vertical-align: middle;\n",
       "    }\n",
       "\n",
       "    .dataframe tbody tr th {\n",
       "        vertical-align: top;\n",
       "    }\n",
       "\n",
       "    .dataframe thead th {\n",
       "        text-align: right;\n",
       "    }\n",
       "</style>\n",
       "<table border=\"1\" class=\"dataframe\">\n",
       "  <thead>\n",
       "    <tr style=\"text-align: right;\">\n",
       "      <th></th>\n",
       "      <th>age</th>\n",
       "      <th>nr.employed</th>\n",
       "      <th>euribor3m</th>\n",
       "      <th>job</th>\n",
       "      <th>campaign</th>\n",
       "      <th>education</th>\n",
       "    </tr>\n",
       "  </thead>\n",
       "  <tbody>\n",
       "    <tr>\n",
       "      <th>40938</th>\n",
       "      <td>51</td>\n",
       "      <td>4963.6</td>\n",
       "      <td>0.982</td>\n",
       "      <td>3</td>\n",
       "      <td>2</td>\n",
       "      <td>3</td>\n",
       "    </tr>\n",
       "    <tr>\n",
       "      <th>24915</th>\n",
       "      <td>33</td>\n",
       "      <td>5195.8</td>\n",
       "      <td>4.153</td>\n",
       "      <td>5</td>\n",
       "      <td>4</td>\n",
       "      <td>8</td>\n",
       "    </tr>\n",
       "    <tr>\n",
       "      <th>11645</th>\n",
       "      <td>29</td>\n",
       "      <td>5228.1</td>\n",
       "      <td>4.959</td>\n",
       "      <td>10</td>\n",
       "      <td>4</td>\n",
       "      <td>8</td>\n",
       "    </tr>\n",
       "    <tr>\n",
       "      <th>284</th>\n",
       "      <td>42</td>\n",
       "      <td>5191.0</td>\n",
       "      <td>4.857</td>\n",
       "      <td>9</td>\n",
       "      <td>2</td>\n",
       "      <td>5</td>\n",
       "    </tr>\n",
       "    <tr>\n",
       "      <th>29417</th>\n",
       "      <td>42</td>\n",
       "      <td>5099.1</td>\n",
       "      <td>1.405</td>\n",
       "      <td>9</td>\n",
       "      <td>1</td>\n",
       "      <td>6</td>\n",
       "    </tr>\n",
       "    <tr>\n",
       "      <th>...</th>\n",
       "      <td>...</td>\n",
       "      <td>...</td>\n",
       "      <td>...</td>\n",
       "      <td>...</td>\n",
       "      <td>...</td>\n",
       "      <td>...</td>\n",
       "    </tr>\n",
       "    <tr>\n",
       "      <th>27535</th>\n",
       "      <td>37</td>\n",
       "      <td>5195.8</td>\n",
       "      <td>4.021</td>\n",
       "      <td>4</td>\n",
       "      <td>2</td>\n",
       "      <td>8</td>\n",
       "    </tr>\n",
       "    <tr>\n",
       "      <th>36931</th>\n",
       "      <td>37</td>\n",
       "      <td>5076.2</td>\n",
       "      <td>1.099</td>\n",
       "      <td>5</td>\n",
       "      <td>1</td>\n",
       "      <td>8</td>\n",
       "    </tr>\n",
       "    <tr>\n",
       "      <th>25697</th>\n",
       "      <td>38</td>\n",
       "      <td>5195.8</td>\n",
       "      <td>4.120</td>\n",
       "      <td>9</td>\n",
       "      <td>2</td>\n",
       "      <td>7</td>\n",
       "    </tr>\n",
       "    <tr>\n",
       "      <th>14762</th>\n",
       "      <td>31</td>\n",
       "      <td>5228.1</td>\n",
       "      <td>4.957</td>\n",
       "      <td>9</td>\n",
       "      <td>1</td>\n",
       "      <td>5</td>\n",
       "    </tr>\n",
       "    <tr>\n",
       "      <th>21975</th>\n",
       "      <td>31</td>\n",
       "      <td>5228.1</td>\n",
       "      <td>4.964</td>\n",
       "      <td>7</td>\n",
       "      <td>2</td>\n",
       "      <td>8</td>\n",
       "    </tr>\n",
       "  </tbody>\n",
       "</table>\n",
       "<p>8238 rows × 6 columns</p>\n",
       "</div>"
      ],
      "text/plain": [
       "       age  nr.employed  euribor3m  job  campaign  education\n",
       "40938   51       4963.6      0.982    3         2          3\n",
       "24915   33       5195.8      4.153    5         4          8\n",
       "11645   29       5228.1      4.959   10         4          8\n",
       "284     42       5191.0      4.857    9         2          5\n",
       "29417   42       5099.1      1.405    9         1          6\n",
       "...    ...          ...        ...  ...       ...        ...\n",
       "27535   37       5195.8      4.021    4         2          8\n",
       "36931   37       5076.2      1.099    5         1          8\n",
       "25697   38       5195.8      4.120    9         2          7\n",
       "14762   31       5228.1      4.957    9         1          5\n",
       "21975   31       5228.1      4.964    7         2          8\n",
       "\n",
       "[8238 rows x 6 columns]"
      ]
     },
     "execution_count": 41,
     "metadata": {},
     "output_type": "execute_result"
    }
   ],
   "source": [
    "test_x=test.iloc[0::,[0,15,14,1,7,3]]\n",
    "test_x"
   ]
  },
  {
   "cell_type": "code",
   "execution_count": 42,
   "id": "4113d5e7",
   "metadata": {},
   "outputs": [
    {
     "data": {
      "text/plain": [
       "40938    0\n",
       "24915    0\n",
       "11645    0\n",
       "284      0\n",
       "29417    0\n",
       "        ..\n",
       "27535    0\n",
       "36931    0\n",
       "25697    0\n",
       "14762    0\n",
       "21975    0\n",
       "Name: y, Length: 8238, dtype: int64"
      ]
     },
     "execution_count": 42,
     "metadata": {},
     "output_type": "execute_result"
    }
   ],
   "source": [
    "test_y=test.iloc[0::,-1]\n",
    "test_y"
   ]
  },
  {
   "cell_type": "code",
   "execution_count": 43,
   "id": "96234d09",
   "metadata": {},
   "outputs": [
    {
     "data": {
      "text/plain": [
       "34634    0\n",
       "39537    1\n",
       "4113     0\n",
       "8415     0\n",
       "653      0\n",
       "        ..\n",
       "12433    1\n",
       "24073    1\n",
       "38503    1\n",
       "28400    1\n",
       "10049    1\n",
       "Name: y, Length: 36657, dtype: int64"
      ]
     },
     "execution_count": 43,
     "metadata": {},
     "output_type": "execute_result"
    }
   ],
   "source": [
    "train_y=train.iloc[0::,-1]\n",
    "train_y"
   ]
  },
  {
   "cell_type": "code",
   "execution_count": 44,
   "id": "9753010f",
   "metadata": {},
   "outputs": [],
   "source": [
    "from sklearn.tree import DecisionTreeClassifier\n",
    "dt=DecisionTreeClassifier()"
   ]
  },
  {
   "cell_type": "code",
   "execution_count": 45,
   "id": "b311eb1d",
   "metadata": {},
   "outputs": [
    {
     "data": {
      "text/html": [
       "<style>#sk-container-id-3 {color: black;background-color: white;}#sk-container-id-3 pre{padding: 0;}#sk-container-id-3 div.sk-toggleable {background-color: white;}#sk-container-id-3 label.sk-toggleable__label {cursor: pointer;display: block;width: 100%;margin-bottom: 0;padding: 0.3em;box-sizing: border-box;text-align: center;}#sk-container-id-3 label.sk-toggleable__label-arrow:before {content: \"▸\";float: left;margin-right: 0.25em;color: #696969;}#sk-container-id-3 label.sk-toggleable__label-arrow:hover:before {color: black;}#sk-container-id-3 div.sk-estimator:hover label.sk-toggleable__label-arrow:before {color: black;}#sk-container-id-3 div.sk-toggleable__content {max-height: 0;max-width: 0;overflow: hidden;text-align: left;background-color: #f0f8ff;}#sk-container-id-3 div.sk-toggleable__content pre {margin: 0.2em;color: black;border-radius: 0.25em;background-color: #f0f8ff;}#sk-container-id-3 input.sk-toggleable__control:checked~div.sk-toggleable__content {max-height: 200px;max-width: 100%;overflow: auto;}#sk-container-id-3 input.sk-toggleable__control:checked~label.sk-toggleable__label-arrow:before {content: \"▾\";}#sk-container-id-3 div.sk-estimator input.sk-toggleable__control:checked~label.sk-toggleable__label {background-color: #d4ebff;}#sk-container-id-3 div.sk-label input.sk-toggleable__control:checked~label.sk-toggleable__label {background-color: #d4ebff;}#sk-container-id-3 input.sk-hidden--visually {border: 0;clip: rect(1px 1px 1px 1px);clip: rect(1px, 1px, 1px, 1px);height: 1px;margin: -1px;overflow: hidden;padding: 0;position: absolute;width: 1px;}#sk-container-id-3 div.sk-estimator {font-family: monospace;background-color: #f0f8ff;border: 1px dotted black;border-radius: 0.25em;box-sizing: border-box;margin-bottom: 0.5em;}#sk-container-id-3 div.sk-estimator:hover {background-color: #d4ebff;}#sk-container-id-3 div.sk-parallel-item::after {content: \"\";width: 100%;border-bottom: 1px solid gray;flex-grow: 1;}#sk-container-id-3 div.sk-label:hover label.sk-toggleable__label {background-color: #d4ebff;}#sk-container-id-3 div.sk-serial::before {content: \"\";position: absolute;border-left: 1px solid gray;box-sizing: border-box;top: 0;bottom: 0;left: 50%;z-index: 0;}#sk-container-id-3 div.sk-serial {display: flex;flex-direction: column;align-items: center;background-color: white;padding-right: 0.2em;padding-left: 0.2em;position: relative;}#sk-container-id-3 div.sk-item {position: relative;z-index: 1;}#sk-container-id-3 div.sk-parallel {display: flex;align-items: stretch;justify-content: center;background-color: white;position: relative;}#sk-container-id-3 div.sk-item::before, #sk-container-id-3 div.sk-parallel-item::before {content: \"\";position: absolute;border-left: 1px solid gray;box-sizing: border-box;top: 0;bottom: 0;left: 50%;z-index: -1;}#sk-container-id-3 div.sk-parallel-item {display: flex;flex-direction: column;z-index: 1;position: relative;background-color: white;}#sk-container-id-3 div.sk-parallel-item:first-child::after {align-self: flex-end;width: 50%;}#sk-container-id-3 div.sk-parallel-item:last-child::after {align-self: flex-start;width: 50%;}#sk-container-id-3 div.sk-parallel-item:only-child::after {width: 0;}#sk-container-id-3 div.sk-dashed-wrapped {border: 1px dashed gray;margin: 0 0.4em 0.5em 0.4em;box-sizing: border-box;padding-bottom: 0.4em;background-color: white;}#sk-container-id-3 div.sk-label label {font-family: monospace;font-weight: bold;display: inline-block;line-height: 1.2em;}#sk-container-id-3 div.sk-label-container {text-align: center;}#sk-container-id-3 div.sk-container {/* jupyter's `normalize.less` sets `[hidden] { display: none; }` but bootstrap.min.css set `[hidden] { display: none !important; }` so we also need the `!important` here to be able to override the default hidden behavior on the sphinx rendered scikit-learn.org. See: https://github.com/scikit-learn/scikit-learn/issues/21755 */display: inline-block !important;position: relative;}#sk-container-id-3 div.sk-text-repr-fallback {display: none;}</style><div id=\"sk-container-id-3\" class=\"sk-top-container\"><div class=\"sk-text-repr-fallback\"><pre>DecisionTreeClassifier()</pre><b>In a Jupyter environment, please rerun this cell to show the HTML representation or trust the notebook. <br />On GitHub, the HTML representation is unable to render, please try loading this page with nbviewer.org.</b></div><div class=\"sk-container\" hidden><div class=\"sk-item\"><div class=\"sk-estimator sk-toggleable\"><input class=\"sk-toggleable__control sk-hidden--visually\" id=\"sk-estimator-id-3\" type=\"checkbox\" checked><label for=\"sk-estimator-id-3\" class=\"sk-toggleable__label sk-toggleable__label-arrow\">DecisionTreeClassifier</label><div class=\"sk-toggleable__content\"><pre>DecisionTreeClassifier()</pre></div></div></div></div></div>"
      ],
      "text/plain": [
       "DecisionTreeClassifier()"
      ]
     },
     "execution_count": 45,
     "metadata": {},
     "output_type": "execute_result"
    }
   ],
   "source": [
    "dt.fit(train_x,train_y)"
   ]
  },
  {
   "cell_type": "code",
   "execution_count": 46,
   "id": "eeb575bd",
   "metadata": {},
   "outputs": [],
   "source": [
    "pred_train=dt.predict(train_x)"
   ]
  },
  {
   "cell_type": "code",
   "execution_count": 47,
   "id": "2ee75c5c",
   "metadata": {},
   "outputs": [],
   "source": [
    "pred_test=dt.predict(test_x)"
   ]
  },
  {
   "cell_type": "code",
   "execution_count": 48,
   "id": "afe59424",
   "metadata": {},
   "outputs": [],
   "source": [
    "from sklearn.metrics import confusion_matrix,accuracy_score,f1_score,recall_score,precision_score,roc_auc_score,roc_curve"
   ]
  },
  {
   "cell_type": "code",
   "execution_count": 49,
   "id": "fb3a9903",
   "metadata": {},
   "outputs": [
    {
     "data": {
      "text/plain": [
       "array([[6543,  762],\n",
       "       [ 621,  312]], dtype=int64)"
      ]
     },
     "execution_count": 49,
     "metadata": {},
     "output_type": "execute_result"
    }
   ],
   "source": [
    "tab=confusion_matrix(test_y,pred_test)\n",
    "tab"
   ]
  },
  {
   "cell_type": "code",
   "execution_count": 50,
   "id": "7af01484",
   "metadata": {},
   "outputs": [
    {
     "data": {
      "text/plain": [
       "0.8321194464675892"
      ]
     },
     "execution_count": 50,
     "metadata": {},
     "output_type": "execute_result"
    }
   ],
   "source": [
    "accuracy_score(test_y,pred_test)"
   ]
  },
  {
   "cell_type": "code",
   "execution_count": 51,
   "id": "e6a2d585",
   "metadata": {},
   "outputs": [
    {
     "data": {
      "text/plain": [
       "33.440514469453376"
      ]
     },
     "execution_count": 51,
     "metadata": {},
     "output_type": "execute_result"
    }
   ],
   "source": [
    "recall_score(test_y,pred_test)*100"
   ]
  },
  {
   "cell_type": "code",
   "execution_count": 52,
   "id": "7348af8f",
   "metadata": {},
   "outputs": [
    {
     "data": {
      "text/plain": [
       "0.10431211498973306"
      ]
     },
     "execution_count": 52,
     "metadata": {},
     "output_type": "execute_result"
    }
   ],
   "source": [
    "Fpr=tab[0][1]/(tab[0][1]+tab[0][0])\n",
    "Fpr"
   ]
  },
  {
   "cell_type": "code",
   "execution_count": 53,
   "id": "89b2244c",
   "metadata": {},
   "outputs": [
    {
     "data": {
      "text/plain": [
       "29.05027932960894"
      ]
     },
     "execution_count": 53,
     "metadata": {},
     "output_type": "execute_result"
    }
   ],
   "source": [
    "precision_score(test_y,pred_test)*100"
   ]
  },
  {
   "cell_type": "code",
   "execution_count": 54,
   "id": "4ef6e1c4",
   "metadata": {},
   "outputs": [
    {
     "data": {
      "text/plain": [
       "31.091180866965622"
      ]
     },
     "execution_count": 54,
     "metadata": {},
     "output_type": "execute_result"
    }
   ],
   "source": [
    "f1_score(test_y,pred_test)*100"
   ]
  },
  {
   "cell_type": "markdown",
   "id": "d535b426",
   "metadata": {},
   "source": [
    "# HYPERPARAMETER TUNINIG"
   ]
  },
  {
   "cell_type": "markdown",
   "id": "c16c9992",
   "metadata": {},
   "source": [
    "HYPERPARAMTER ----> THESE ARE THOSE PARAMETERS WHICH ARE NOT PART OF ORIGINAL DATA AND USER CAN CONTROL IT\n",
    "\n",
    "FOR EX---> CRITERIA= 'GINI' AND 'ENTROPY , MIN SAMPLE SPLIT , MAX DEPTH\n",
    "\n",
    "\n",
    "THERE CAN BE MANY COMBINATION OF THESE  PARAMETERS SO THROUGH HYPERPARAMETER TUNING WE ARE FINDING THE BEST COMBINATION\n"
   ]
  },
  {
   "cell_type": "code",
   "execution_count": 55,
   "id": "92a561f2",
   "metadata": {},
   "outputs": [
    {
     "data": {
      "text/html": [
       "<div>\n",
       "<style scoped>\n",
       "    .dataframe tbody tr th:only-of-type {\n",
       "        vertical-align: middle;\n",
       "    }\n",
       "\n",
       "    .dataframe tbody tr th {\n",
       "        vertical-align: top;\n",
       "    }\n",
       "\n",
       "    .dataframe thead th {\n",
       "        text-align: right;\n",
       "    }\n",
       "</style>\n",
       "<table border=\"1\" class=\"dataframe\">\n",
       "  <thead>\n",
       "    <tr style=\"text-align: right;\">\n",
       "      <th></th>\n",
       "      <th>Criteria</th>\n",
       "      <th>max_depth</th>\n",
       "      <th>min_samples_split</th>\n",
       "      <th>Accuracy</th>\n",
       "    </tr>\n",
       "  </thead>\n",
       "  <tbody>\n",
       "    <tr>\n",
       "      <th>21</th>\n",
       "      <td>entropy</td>\n",
       "      <td>9</td>\n",
       "      <td>25</td>\n",
       "      <td>0.852661</td>\n",
       "    </tr>\n",
       "  </tbody>\n",
       "</table>\n",
       "</div>"
      ],
      "text/plain": [
       "   Criteria  max_depth  min_samples_split  Accuracy\n",
       "21  entropy          9                 25  0.852661"
      ]
     },
     "execution_count": 55,
     "metadata": {},
     "output_type": "execute_result"
    }
   ],
   "source": [
    "criteria = ['gini','entropy']\n",
    "md = range(6,10)\n",
    "mss = (25,50,75)\n",
    "from sklearn.tree import DecisionTreeClassifier\n",
    "d = {}\n",
    "d['Criteria'] = []\n",
    "d['max_depth'] = []\n",
    "d['min_samples_split'] = []\n",
    "d['Accuracy'] = []\n",
    "for i in criteria:\n",
    "    for j in md:\n",
    "        for k in mss:\n",
    "            d['Criteria'].append(i)\n",
    "            d['max_depth'].append(j)\n",
    "            d['min_samples_split'].append(k)\n",
    "            dt = DecisionTreeClassifier(criterion= i , max_depth= j, min_samples_split= k)\n",
    "            dt.fit(train_x, train_y)\n",
    "            d['Accuracy'].append(accuracy_score(train_y, dt.predict(train_x)))\n",
    "import pandas as pd\n",
    "df_acc = pd.DataFrame(d)\n",
    "df_acc = df_acc.sort_values('Accuracy', ascending = False)\n",
    "df_acc.head(1)"
   ]
  },
  {
   "cell_type": "code",
   "execution_count": 56,
   "id": "82b040e2",
   "metadata": {},
   "outputs": [],
   "source": [
    "def hyp_tun(train_x, train_y, md, mss):\n",
    "    criteria = ['gini','entropy']\n",
    "    from sklearn.tree import DecisionTreeClassifier\n",
    "    d = {}\n",
    "    d['Criteria'] = []\n",
    "    d['max_depth'] = []\n",
    "    d['min_samples_split'] = []\n",
    "    d['Accuracy'] = []\n",
    "    for i in criteria:\n",
    "        for j in md:\n",
    "            for k in mss:\n",
    "                d['Criteria'].append(i)\n",
    "                d['max_depth'].append(j)\n",
    "                d['min_samples_split'].append(k)\n",
    "                dt = DecisionTreeClassifier(criterion= i , max_depth= j, min_samples_split= k)\n",
    "                dt.fit(train_x, train_y)\n",
    "                d['Accuracy'].append(accuracy_score(train_y, dt.predict(train_x)))\n",
    "    import pandas as pd\n",
    "    df_acc = pd.DataFrame(d)\n",
    "    df_acc = df_acc.sort_values('Accuracy', ascending = False)\n",
    "    print('best parameters for hyperparameter tunning are as follows:')\n",
    "    return df_acc.head(1)"
   ]
  },
  {
   "cell_type": "code",
   "execution_count": 57,
   "id": "dc3f22a8",
   "metadata": {},
   "outputs": [
    {
     "name": "stdout",
     "output_type": "stream",
     "text": [
      "best parameters for hyperparameter tunning are as follows:\n"
     ]
    },
    {
     "data": {
      "text/html": [
       "<div>\n",
       "<style scoped>\n",
       "    .dataframe tbody tr th:only-of-type {\n",
       "        vertical-align: middle;\n",
       "    }\n",
       "\n",
       "    .dataframe tbody tr th {\n",
       "        vertical-align: top;\n",
       "    }\n",
       "\n",
       "    .dataframe thead th {\n",
       "        text-align: right;\n",
       "    }\n",
       "</style>\n",
       "<table border=\"1\" class=\"dataframe\">\n",
       "  <thead>\n",
       "    <tr style=\"text-align: right;\">\n",
       "      <th></th>\n",
       "      <th>Criteria</th>\n",
       "      <th>max_depth</th>\n",
       "      <th>min_samples_split</th>\n",
       "      <th>Accuracy</th>\n",
       "    </tr>\n",
       "  </thead>\n",
       "  <tbody>\n",
       "    <tr>\n",
       "      <th>21</th>\n",
       "      <td>entropy</td>\n",
       "      <td>9</td>\n",
       "      <td>25</td>\n",
       "      <td>0.852661</td>\n",
       "    </tr>\n",
       "  </tbody>\n",
       "</table>\n",
       "</div>"
      ],
      "text/plain": [
       "   Criteria  max_depth  min_samples_split  Accuracy\n",
       "21  entropy          9                 25  0.852661"
      ]
     },
     "execution_count": 57,
     "metadata": {},
     "output_type": "execute_result"
    }
   ],
   "source": [
    "hyp_tun(train_x, train_y, md, mss)"
   ]
  },
  {
   "cell_type": "code",
   "execution_count": 58,
   "id": "834f38d1",
   "metadata": {},
   "outputs": [],
   "source": [
    "from sklearn.tree import DecisionTreeClassifier\n",
    "dt=DecisionTreeClassifier(criterion='gini',max_depth=9,min_samples_split=25)"
   ]
  },
  {
   "cell_type": "code",
   "execution_count": 59,
   "id": "8b67a057",
   "metadata": {},
   "outputs": [
    {
     "data": {
      "text/html": [
       "<style>#sk-container-id-4 {color: black;background-color: white;}#sk-container-id-4 pre{padding: 0;}#sk-container-id-4 div.sk-toggleable {background-color: white;}#sk-container-id-4 label.sk-toggleable__label {cursor: pointer;display: block;width: 100%;margin-bottom: 0;padding: 0.3em;box-sizing: border-box;text-align: center;}#sk-container-id-4 label.sk-toggleable__label-arrow:before {content: \"▸\";float: left;margin-right: 0.25em;color: #696969;}#sk-container-id-4 label.sk-toggleable__label-arrow:hover:before {color: black;}#sk-container-id-4 div.sk-estimator:hover label.sk-toggleable__label-arrow:before {color: black;}#sk-container-id-4 div.sk-toggleable__content {max-height: 0;max-width: 0;overflow: hidden;text-align: left;background-color: #f0f8ff;}#sk-container-id-4 div.sk-toggleable__content pre {margin: 0.2em;color: black;border-radius: 0.25em;background-color: #f0f8ff;}#sk-container-id-4 input.sk-toggleable__control:checked~div.sk-toggleable__content {max-height: 200px;max-width: 100%;overflow: auto;}#sk-container-id-4 input.sk-toggleable__control:checked~label.sk-toggleable__label-arrow:before {content: \"▾\";}#sk-container-id-4 div.sk-estimator input.sk-toggleable__control:checked~label.sk-toggleable__label {background-color: #d4ebff;}#sk-container-id-4 div.sk-label input.sk-toggleable__control:checked~label.sk-toggleable__label {background-color: #d4ebff;}#sk-container-id-4 input.sk-hidden--visually {border: 0;clip: rect(1px 1px 1px 1px);clip: rect(1px, 1px, 1px, 1px);height: 1px;margin: -1px;overflow: hidden;padding: 0;position: absolute;width: 1px;}#sk-container-id-4 div.sk-estimator {font-family: monospace;background-color: #f0f8ff;border: 1px dotted black;border-radius: 0.25em;box-sizing: border-box;margin-bottom: 0.5em;}#sk-container-id-4 div.sk-estimator:hover {background-color: #d4ebff;}#sk-container-id-4 div.sk-parallel-item::after {content: \"\";width: 100%;border-bottom: 1px solid gray;flex-grow: 1;}#sk-container-id-4 div.sk-label:hover label.sk-toggleable__label {background-color: #d4ebff;}#sk-container-id-4 div.sk-serial::before {content: \"\";position: absolute;border-left: 1px solid gray;box-sizing: border-box;top: 0;bottom: 0;left: 50%;z-index: 0;}#sk-container-id-4 div.sk-serial {display: flex;flex-direction: column;align-items: center;background-color: white;padding-right: 0.2em;padding-left: 0.2em;position: relative;}#sk-container-id-4 div.sk-item {position: relative;z-index: 1;}#sk-container-id-4 div.sk-parallel {display: flex;align-items: stretch;justify-content: center;background-color: white;position: relative;}#sk-container-id-4 div.sk-item::before, #sk-container-id-4 div.sk-parallel-item::before {content: \"\";position: absolute;border-left: 1px solid gray;box-sizing: border-box;top: 0;bottom: 0;left: 50%;z-index: -1;}#sk-container-id-4 div.sk-parallel-item {display: flex;flex-direction: column;z-index: 1;position: relative;background-color: white;}#sk-container-id-4 div.sk-parallel-item:first-child::after {align-self: flex-end;width: 50%;}#sk-container-id-4 div.sk-parallel-item:last-child::after {align-self: flex-start;width: 50%;}#sk-container-id-4 div.sk-parallel-item:only-child::after {width: 0;}#sk-container-id-4 div.sk-dashed-wrapped {border: 1px dashed gray;margin: 0 0.4em 0.5em 0.4em;box-sizing: border-box;padding-bottom: 0.4em;background-color: white;}#sk-container-id-4 div.sk-label label {font-family: monospace;font-weight: bold;display: inline-block;line-height: 1.2em;}#sk-container-id-4 div.sk-label-container {text-align: center;}#sk-container-id-4 div.sk-container {/* jupyter's `normalize.less` sets `[hidden] { display: none; }` but bootstrap.min.css set `[hidden] { display: none !important; }` so we also need the `!important` here to be able to override the default hidden behavior on the sphinx rendered scikit-learn.org. See: https://github.com/scikit-learn/scikit-learn/issues/21755 */display: inline-block !important;position: relative;}#sk-container-id-4 div.sk-text-repr-fallback {display: none;}</style><div id=\"sk-container-id-4\" class=\"sk-top-container\"><div class=\"sk-text-repr-fallback\"><pre>DecisionTreeClassifier(max_depth=9, min_samples_split=25)</pre><b>In a Jupyter environment, please rerun this cell to show the HTML representation or trust the notebook. <br />On GitHub, the HTML representation is unable to render, please try loading this page with nbviewer.org.</b></div><div class=\"sk-container\" hidden><div class=\"sk-item\"><div class=\"sk-estimator sk-toggleable\"><input class=\"sk-toggleable__control sk-hidden--visually\" id=\"sk-estimator-id-4\" type=\"checkbox\" checked><label for=\"sk-estimator-id-4\" class=\"sk-toggleable__label sk-toggleable__label-arrow\">DecisionTreeClassifier</label><div class=\"sk-toggleable__content\"><pre>DecisionTreeClassifier(max_depth=9, min_samples_split=25)</pre></div></div></div></div></div>"
      ],
      "text/plain": [
       "DecisionTreeClassifier(max_depth=9, min_samples_split=25)"
      ]
     },
     "execution_count": 59,
     "metadata": {},
     "output_type": "execute_result"
    }
   ],
   "source": [
    "dt.fit(train_x,train_y)"
   ]
  },
  {
   "cell_type": "code",
   "execution_count": 60,
   "id": "505ed61a",
   "metadata": {},
   "outputs": [],
   "source": [
    "pred_train=dt.predict(train_x)"
   ]
  },
  {
   "cell_type": "code",
   "execution_count": 61,
   "id": "7535ac93",
   "metadata": {},
   "outputs": [],
   "source": [
    "pred_test=dt.predict(test_x)"
   ]
  },
  {
   "cell_type": "code",
   "execution_count": 62,
   "id": "1423c29f",
   "metadata": {},
   "outputs": [],
   "source": [
    "from sklearn.metrics import confusion_matrix,accuracy_score,f1_score,recall_score,precision_score,roc_auc_score,roc_curve"
   ]
  },
  {
   "cell_type": "code",
   "execution_count": 63,
   "id": "56f3f3c1",
   "metadata": {},
   "outputs": [
    {
     "data": {
      "text/plain": [
       "array([[6855,  450],\n",
       "       [ 544,  389]], dtype=int64)"
      ]
     },
     "execution_count": 63,
     "metadata": {},
     "output_type": "execute_result"
    }
   ],
   "source": [
    "tab=confusion_matrix(test_y,pred_test)\n",
    "tab"
   ]
  },
  {
   "cell_type": "code",
   "execution_count": 64,
   "id": "93ebe068",
   "metadata": {},
   "outputs": [
    {
     "data": {
      "text/plain": [
       "0.8793396455450352"
      ]
     },
     "execution_count": 64,
     "metadata": {},
     "output_type": "execute_result"
    }
   ],
   "source": [
    "accuracy_score(test_y,pred_test)"
   ]
  },
  {
   "cell_type": "code",
   "execution_count": 65,
   "id": "ea3f5c0e",
   "metadata": {},
   "outputs": [
    {
     "data": {
      "text/plain": [
       "41.69346195069667"
      ]
     },
     "execution_count": 65,
     "metadata": {},
     "output_type": "execute_result"
    }
   ],
   "source": [
    "recall_score(test_y,pred_test)*100"
   ]
  },
  {
   "cell_type": "code",
   "execution_count": 66,
   "id": "c7c39b4b",
   "metadata": {},
   "outputs": [
    {
     "data": {
      "text/plain": [
       "0.061601642710472276"
      ]
     },
     "execution_count": 66,
     "metadata": {},
     "output_type": "execute_result"
    }
   ],
   "source": [
    "Fpr=tab[0][1]/(tab[0][1]+tab[0][0])\n",
    "Fpr"
   ]
  },
  {
   "cell_type": "code",
   "execution_count": 67,
   "id": "96376b0b",
   "metadata": {},
   "outputs": [
    {
     "data": {
      "text/plain": [
       "46.36471990464839"
      ]
     },
     "execution_count": 67,
     "metadata": {},
     "output_type": "execute_result"
    }
   ],
   "source": [
    "precision_score(test_y,pred_test)*100"
   ]
  },
  {
   "cell_type": "code",
   "execution_count": 68,
   "id": "91cebde1",
   "metadata": {},
   "outputs": [
    {
     "data": {
      "text/plain": [
       "43.90519187358916"
      ]
     },
     "execution_count": 68,
     "metadata": {},
     "output_type": "execute_result"
    }
   ],
   "source": [
    "f1_score(test_y,pred_test)*100"
   ]
  },
  {
   "cell_type": "markdown",
   "id": "4b250f90",
   "metadata": {},
   "source": [
    "SO FAR WE HAVE GOT THE BEST MODEL FROM DECISION TREE AFTER DOING OVERFITTING AND HYPERPARAMETER TUNING WITH \n",
    "\n",
    "ACCURACY-----------> 88%\n",
    "\n",
    "Tpr----------------> 43\n",
    "\n",
    "Fpr----------------> 0.06\n",
    "\n",
    "PRECISION----------> 49%\n",
    "\n",
    "F1 RATION----------> 46\n",
    "\n"
   ]
  },
  {
   "cell_type": "markdown",
   "id": "e082e889",
   "metadata": {},
   "source": [
    "# RANDOM FOREST "
   ]
  },
  {
   "cell_type": "markdown",
   "id": "29e943b5",
   "metadata": {},
   "source": [
    "TRYING RANDOM FOREST"
   ]
  },
  {
   "cell_type": "code",
   "execution_count": 292,
   "id": "a300b00d",
   "metadata": {},
   "outputs": [
    {
     "name": "stdout",
     "output_type": "stream",
     "text": [
      "<class 'pandas.core.frame.DataFrame'>\n",
      "RangeIndex: 41188 entries, 0 to 41187\n",
      "Data columns (total 17 columns):\n",
      " #   Column          Non-Null Count  Dtype  \n",
      "---  ------          --------------  -----  \n",
      " 0   age             41188 non-null  int64  \n",
      " 1   job             41188 non-null  int64  \n",
      " 2   marital         41188 non-null  int64  \n",
      " 3   education       41188 non-null  int64  \n",
      " 4   default         41188 non-null  int64  \n",
      " 5   housing         41188 non-null  int64  \n",
      " 6   loan            41188 non-null  int64  \n",
      " 7   campaign        41188 non-null  int64  \n",
      " 8   pdays           41188 non-null  int64  \n",
      " 9   previous        41188 non-null  int64  \n",
      " 10  poutcome        41188 non-null  int64  \n",
      " 11  emp.var.rate    41188 non-null  float64\n",
      " 12  cons.price.idx  41188 non-null  float64\n",
      " 13  cons.conf.idx   41188 non-null  float64\n",
      " 14  euribor3m       41188 non-null  float64\n",
      " 15  nr.employed     41188 non-null  float64\n",
      " 16  y               41188 non-null  int64  \n",
      "dtypes: float64(5), int64(12)\n",
      "memory usage: 5.3 MB\n"
     ]
    }
   ],
   "source": [
    "td.info()"
   ]
  },
  {
   "cell_type": "code",
   "execution_count": 351,
   "id": "86c73a19",
   "metadata": {},
   "outputs": [],
   "source": [
    "from sklearn.model_selection import train_test_split"
   ]
  },
  {
   "cell_type": "code",
   "execution_count": 352,
   "id": "e6bf3b30",
   "metadata": {},
   "outputs": [],
   "source": [
    "train,test=train_test_split(td,test_size=0.2)"
   ]
  },
  {
   "cell_type": "code",
   "execution_count": 353,
   "id": "1b3d02b6",
   "metadata": {},
   "outputs": [],
   "source": [
    "temp=train[train.y==1]\n",
    "train=pd.concat([train,temp])"
   ]
  },
  {
   "cell_type": "code",
   "execution_count": 354,
   "id": "a07eaf47",
   "metadata": {},
   "outputs": [
    {
     "data": {
      "text/html": [
       "<div>\n",
       "<style scoped>\n",
       "    .dataframe tbody tr th:only-of-type {\n",
       "        vertical-align: middle;\n",
       "    }\n",
       "\n",
       "    .dataframe tbody tr th {\n",
       "        vertical-align: top;\n",
       "    }\n",
       "\n",
       "    .dataframe thead th {\n",
       "        text-align: right;\n",
       "    }\n",
       "</style>\n",
       "<table border=\"1\" class=\"dataframe\">\n",
       "  <thead>\n",
       "    <tr style=\"text-align: right;\">\n",
       "      <th></th>\n",
       "      <th>age</th>\n",
       "      <th>nr.employed</th>\n",
       "      <th>euribor3m</th>\n",
       "      <th>job</th>\n",
       "      <th>campaign</th>\n",
       "      <th>education</th>\n",
       "    </tr>\n",
       "  </thead>\n",
       "  <tbody>\n",
       "    <tr>\n",
       "      <th>28634</th>\n",
       "      <td>39</td>\n",
       "      <td>5099.1</td>\n",
       "      <td>1.410</td>\n",
       "      <td>6</td>\n",
       "      <td>1</td>\n",
       "      <td>8</td>\n",
       "    </tr>\n",
       "    <tr>\n",
       "      <th>30732</th>\n",
       "      <td>50</td>\n",
       "      <td>5099.1</td>\n",
       "      <td>1.344</td>\n",
       "      <td>9</td>\n",
       "      <td>1</td>\n",
       "      <td>3</td>\n",
       "    </tr>\n",
       "    <tr>\n",
       "      <th>4739</th>\n",
       "      <td>40</td>\n",
       "      <td>5191.0</td>\n",
       "      <td>4.858</td>\n",
       "      <td>9</td>\n",
       "      <td>1</td>\n",
       "      <td>5</td>\n",
       "    </tr>\n",
       "    <tr>\n",
       "      <th>21061</th>\n",
       "      <td>31</td>\n",
       "      <td>5228.1</td>\n",
       "      <td>4.964</td>\n",
       "      <td>10</td>\n",
       "      <td>1</td>\n",
       "      <td>6</td>\n",
       "    </tr>\n",
       "    <tr>\n",
       "      <th>21441</th>\n",
       "      <td>31</td>\n",
       "      <td>5228.1</td>\n",
       "      <td>4.963</td>\n",
       "      <td>7</td>\n",
       "      <td>1</td>\n",
       "      <td>7</td>\n",
       "    </tr>\n",
       "    <tr>\n",
       "      <th>...</th>\n",
       "      <td>...</td>\n",
       "      <td>...</td>\n",
       "      <td>...</td>\n",
       "      <td>...</td>\n",
       "      <td>...</td>\n",
       "      <td>...</td>\n",
       "    </tr>\n",
       "    <tr>\n",
       "      <th>39133</th>\n",
       "      <td>78</td>\n",
       "      <td>5008.7</td>\n",
       "      <td>0.655</td>\n",
       "      <td>11</td>\n",
       "      <td>1</td>\n",
       "      <td>7</td>\n",
       "    </tr>\n",
       "    <tr>\n",
       "      <th>3203</th>\n",
       "      <td>38</td>\n",
       "      <td>5191.0</td>\n",
       "      <td>4.860</td>\n",
       "      <td>8</td>\n",
       "      <td>3</td>\n",
       "      <td>6</td>\n",
       "    </tr>\n",
       "    <tr>\n",
       "      <th>16884</th>\n",
       "      <td>34</td>\n",
       "      <td>5228.1</td>\n",
       "      <td>4.962</td>\n",
       "      <td>9</td>\n",
       "      <td>2</td>\n",
       "      <td>4</td>\n",
       "    </tr>\n",
       "    <tr>\n",
       "      <th>38340</th>\n",
       "      <td>26</td>\n",
       "      <td>5017.5</td>\n",
       "      <td>0.739</td>\n",
       "      <td>10</td>\n",
       "      <td>1</td>\n",
       "      <td>8</td>\n",
       "    </tr>\n",
       "    <tr>\n",
       "      <th>40542</th>\n",
       "      <td>30</td>\n",
       "      <td>4991.6</td>\n",
       "      <td>0.886</td>\n",
       "      <td>10</td>\n",
       "      <td>1</td>\n",
       "      <td>8</td>\n",
       "    </tr>\n",
       "  </tbody>\n",
       "</table>\n",
       "<p>36639 rows × 6 columns</p>\n",
       "</div>"
      ],
      "text/plain": [
       "       age  nr.employed  euribor3m  job  campaign  education\n",
       "28634   39       5099.1      1.410    6         1          8\n",
       "30732   50       5099.1      1.344    9         1          3\n",
       "4739    40       5191.0      4.858    9         1          5\n",
       "21061   31       5228.1      4.964   10         1          6\n",
       "21441   31       5228.1      4.963    7         1          7\n",
       "...    ...          ...        ...  ...       ...        ...\n",
       "39133   78       5008.7      0.655   11         1          7\n",
       "3203    38       5191.0      4.860    8         3          6\n",
       "16884   34       5228.1      4.962    9         2          4\n",
       "38340   26       5017.5      0.739   10         1          8\n",
       "40542   30       4991.6      0.886   10         1          8\n",
       "\n",
       "[36639 rows x 6 columns]"
      ]
     },
     "execution_count": 354,
     "metadata": {},
     "output_type": "execute_result"
    }
   ],
   "source": [
    "train_x=train.iloc[0::,[0,15,14,1,7,3]]\n",
    "train_x"
   ]
  },
  {
   "cell_type": "code",
   "execution_count": 355,
   "id": "7327bbf9",
   "metadata": {},
   "outputs": [
    {
     "data": {
      "text/plain": [
       "34116    0\n",
       "23121    0\n",
       "10307    0\n",
       "1055     0\n",
       "34965    0\n",
       "        ..\n",
       "20747    0\n",
       "37345    1\n",
       "12374    0\n",
       "36826    0\n",
       "20439    0\n",
       "Name: y, Length: 8238, dtype: int64"
      ]
     },
     "execution_count": 355,
     "metadata": {},
     "output_type": "execute_result"
    }
   ],
   "source": [
    "test_y=test.iloc[0::,-1]\n",
    "test_y"
   ]
  },
  {
   "cell_type": "code",
   "execution_count": 356,
   "id": "d121c043",
   "metadata": {},
   "outputs": [
    {
     "data": {
      "text/html": [
       "<div>\n",
       "<style scoped>\n",
       "    .dataframe tbody tr th:only-of-type {\n",
       "        vertical-align: middle;\n",
       "    }\n",
       "\n",
       "    .dataframe tbody tr th {\n",
       "        vertical-align: top;\n",
       "    }\n",
       "\n",
       "    .dataframe thead th {\n",
       "        text-align: right;\n",
       "    }\n",
       "</style>\n",
       "<table border=\"1\" class=\"dataframe\">\n",
       "  <thead>\n",
       "    <tr style=\"text-align: right;\">\n",
       "      <th></th>\n",
       "      <th>age</th>\n",
       "      <th>nr.employed</th>\n",
       "      <th>euribor3m</th>\n",
       "      <th>job</th>\n",
       "      <th>campaign</th>\n",
       "      <th>education</th>\n",
       "    </tr>\n",
       "  </thead>\n",
       "  <tbody>\n",
       "    <tr>\n",
       "      <th>34116</th>\n",
       "      <td>33</td>\n",
       "      <td>5099.1</td>\n",
       "      <td>1.281</td>\n",
       "      <td>9</td>\n",
       "      <td>2</td>\n",
       "      <td>5</td>\n",
       "    </tr>\n",
       "    <tr>\n",
       "      <th>23121</th>\n",
       "      <td>40</td>\n",
       "      <td>5228.1</td>\n",
       "      <td>4.965</td>\n",
       "      <td>10</td>\n",
       "      <td>2</td>\n",
       "      <td>6</td>\n",
       "    </tr>\n",
       "    <tr>\n",
       "      <th>10307</th>\n",
       "      <td>53</td>\n",
       "      <td>5228.1</td>\n",
       "      <td>4.960</td>\n",
       "      <td>5</td>\n",
       "      <td>2</td>\n",
       "      <td>3</td>\n",
       "    </tr>\n",
       "    <tr>\n",
       "      <th>1055</th>\n",
       "      <td>35</td>\n",
       "      <td>5191.0</td>\n",
       "      <td>4.856</td>\n",
       "      <td>10</td>\n",
       "      <td>2</td>\n",
       "      <td>3</td>\n",
       "    </tr>\n",
       "    <tr>\n",
       "      <th>34965</th>\n",
       "      <td>43</td>\n",
       "      <td>5099.1</td>\n",
       "      <td>1.250</td>\n",
       "      <td>8</td>\n",
       "      <td>1</td>\n",
       "      <td>4</td>\n",
       "    </tr>\n",
       "    <tr>\n",
       "      <th>...</th>\n",
       "      <td>...</td>\n",
       "      <td>...</td>\n",
       "      <td>...</td>\n",
       "      <td>...</td>\n",
       "      <td>...</td>\n",
       "      <td>...</td>\n",
       "    </tr>\n",
       "    <tr>\n",
       "      <th>20747</th>\n",
       "      <td>57</td>\n",
       "      <td>5228.1</td>\n",
       "      <td>4.965</td>\n",
       "      <td>9</td>\n",
       "      <td>1</td>\n",
       "      <td>5</td>\n",
       "    </tr>\n",
       "    <tr>\n",
       "      <th>37345</th>\n",
       "      <td>30</td>\n",
       "      <td>5076.2</td>\n",
       "      <td>0.883</td>\n",
       "      <td>10</td>\n",
       "      <td>3</td>\n",
       "      <td>8</td>\n",
       "    </tr>\n",
       "    <tr>\n",
       "      <th>12374</th>\n",
       "      <td>51</td>\n",
       "      <td>5228.1</td>\n",
       "      <td>4.959</td>\n",
       "      <td>11</td>\n",
       "      <td>1</td>\n",
       "      <td>5</td>\n",
       "    </tr>\n",
       "    <tr>\n",
       "      <th>36826</th>\n",
       "      <td>41</td>\n",
       "      <td>5076.2</td>\n",
       "      <td>1.260</td>\n",
       "      <td>1</td>\n",
       "      <td>1</td>\n",
       "      <td>3</td>\n",
       "    </tr>\n",
       "    <tr>\n",
       "      <th>20439</th>\n",
       "      <td>45</td>\n",
       "      <td>5228.1</td>\n",
       "      <td>4.966</td>\n",
       "      <td>4</td>\n",
       "      <td>1</td>\n",
       "      <td>3</td>\n",
       "    </tr>\n",
       "  </tbody>\n",
       "</table>\n",
       "<p>8238 rows × 6 columns</p>\n",
       "</div>"
      ],
      "text/plain": [
       "       age  nr.employed  euribor3m  job  campaign  education\n",
       "34116   33       5099.1      1.281    9         2          5\n",
       "23121   40       5228.1      4.965   10         2          6\n",
       "10307   53       5228.1      4.960    5         2          3\n",
       "1055    35       5191.0      4.856   10         2          3\n",
       "34965   43       5099.1      1.250    8         1          4\n",
       "...    ...          ...        ...  ...       ...        ...\n",
       "20747   57       5228.1      4.965    9         1          5\n",
       "37345   30       5076.2      0.883   10         3          8\n",
       "12374   51       5228.1      4.959   11         1          5\n",
       "36826   41       5076.2      1.260    1         1          3\n",
       "20439   45       5228.1      4.966    4         1          3\n",
       "\n",
       "[8238 rows x 6 columns]"
      ]
     },
     "execution_count": 356,
     "metadata": {},
     "output_type": "execute_result"
    }
   ],
   "source": [
    "test_x=test.iloc[0::,[0,15,14,1,7,3]]\n",
    "test_x"
   ]
  },
  {
   "cell_type": "code",
   "execution_count": 357,
   "id": "88435e75",
   "metadata": {},
   "outputs": [
    {
     "data": {
      "text/plain": [
       "28634    0\n",
       "30732    1\n",
       "4739     0\n",
       "21061    0\n",
       "21441    0\n",
       "        ..\n",
       "39133    1\n",
       "3203     1\n",
       "16884    1\n",
       "38340    1\n",
       "40542    1\n",
       "Name: y, Length: 36639, dtype: int64"
      ]
     },
     "execution_count": 357,
     "metadata": {},
     "output_type": "execute_result"
    }
   ],
   "source": [
    "train_y=train.iloc[0::,-1]\n",
    "train_y"
   ]
  },
  {
   "cell_type": "code",
   "execution_count": 358,
   "id": "acaa52df",
   "metadata": {},
   "outputs": [],
   "source": [
    "from sklearn.ensemble import RandomForestClassifier\n",
    "rfc=RandomForestClassifier()"
   ]
  },
  {
   "cell_type": "code",
   "execution_count": 359,
   "id": "17d24eb3",
   "metadata": {},
   "outputs": [
    {
     "data": {
      "text/html": [
       "<style>#sk-container-id-23 {color: black;background-color: white;}#sk-container-id-23 pre{padding: 0;}#sk-container-id-23 div.sk-toggleable {background-color: white;}#sk-container-id-23 label.sk-toggleable__label {cursor: pointer;display: block;width: 100%;margin-bottom: 0;padding: 0.3em;box-sizing: border-box;text-align: center;}#sk-container-id-23 label.sk-toggleable__label-arrow:before {content: \"▸\";float: left;margin-right: 0.25em;color: #696969;}#sk-container-id-23 label.sk-toggleable__label-arrow:hover:before {color: black;}#sk-container-id-23 div.sk-estimator:hover label.sk-toggleable__label-arrow:before {color: black;}#sk-container-id-23 div.sk-toggleable__content {max-height: 0;max-width: 0;overflow: hidden;text-align: left;background-color: #f0f8ff;}#sk-container-id-23 div.sk-toggleable__content pre {margin: 0.2em;color: black;border-radius: 0.25em;background-color: #f0f8ff;}#sk-container-id-23 input.sk-toggleable__control:checked~div.sk-toggleable__content {max-height: 200px;max-width: 100%;overflow: auto;}#sk-container-id-23 input.sk-toggleable__control:checked~label.sk-toggleable__label-arrow:before {content: \"▾\";}#sk-container-id-23 div.sk-estimator input.sk-toggleable__control:checked~label.sk-toggleable__label {background-color: #d4ebff;}#sk-container-id-23 div.sk-label input.sk-toggleable__control:checked~label.sk-toggleable__label {background-color: #d4ebff;}#sk-container-id-23 input.sk-hidden--visually {border: 0;clip: rect(1px 1px 1px 1px);clip: rect(1px, 1px, 1px, 1px);height: 1px;margin: -1px;overflow: hidden;padding: 0;position: absolute;width: 1px;}#sk-container-id-23 div.sk-estimator {font-family: monospace;background-color: #f0f8ff;border: 1px dotted black;border-radius: 0.25em;box-sizing: border-box;margin-bottom: 0.5em;}#sk-container-id-23 div.sk-estimator:hover {background-color: #d4ebff;}#sk-container-id-23 div.sk-parallel-item::after {content: \"\";width: 100%;border-bottom: 1px solid gray;flex-grow: 1;}#sk-container-id-23 div.sk-label:hover label.sk-toggleable__label {background-color: #d4ebff;}#sk-container-id-23 div.sk-serial::before {content: \"\";position: absolute;border-left: 1px solid gray;box-sizing: border-box;top: 0;bottom: 0;left: 50%;z-index: 0;}#sk-container-id-23 div.sk-serial {display: flex;flex-direction: column;align-items: center;background-color: white;padding-right: 0.2em;padding-left: 0.2em;position: relative;}#sk-container-id-23 div.sk-item {position: relative;z-index: 1;}#sk-container-id-23 div.sk-parallel {display: flex;align-items: stretch;justify-content: center;background-color: white;position: relative;}#sk-container-id-23 div.sk-item::before, #sk-container-id-23 div.sk-parallel-item::before {content: \"\";position: absolute;border-left: 1px solid gray;box-sizing: border-box;top: 0;bottom: 0;left: 50%;z-index: -1;}#sk-container-id-23 div.sk-parallel-item {display: flex;flex-direction: column;z-index: 1;position: relative;background-color: white;}#sk-container-id-23 div.sk-parallel-item:first-child::after {align-self: flex-end;width: 50%;}#sk-container-id-23 div.sk-parallel-item:last-child::after {align-self: flex-start;width: 50%;}#sk-container-id-23 div.sk-parallel-item:only-child::after {width: 0;}#sk-container-id-23 div.sk-dashed-wrapped {border: 1px dashed gray;margin: 0 0.4em 0.5em 0.4em;box-sizing: border-box;padding-bottom: 0.4em;background-color: white;}#sk-container-id-23 div.sk-label label {font-family: monospace;font-weight: bold;display: inline-block;line-height: 1.2em;}#sk-container-id-23 div.sk-label-container {text-align: center;}#sk-container-id-23 div.sk-container {/* jupyter's `normalize.less` sets `[hidden] { display: none; }` but bootstrap.min.css set `[hidden] { display: none !important; }` so we also need the `!important` here to be able to override the default hidden behavior on the sphinx rendered scikit-learn.org. See: https://github.com/scikit-learn/scikit-learn/issues/21755 */display: inline-block !important;position: relative;}#sk-container-id-23 div.sk-text-repr-fallback {display: none;}</style><div id=\"sk-container-id-23\" class=\"sk-top-container\"><div class=\"sk-text-repr-fallback\"><pre>RandomForestClassifier()</pre><b>In a Jupyter environment, please rerun this cell to show the HTML representation or trust the notebook. <br />On GitHub, the HTML representation is unable to render, please try loading this page with nbviewer.org.</b></div><div class=\"sk-container\" hidden><div class=\"sk-item\"><div class=\"sk-estimator sk-toggleable\"><input class=\"sk-toggleable__control sk-hidden--visually\" id=\"sk-estimator-id-25\" type=\"checkbox\" checked><label for=\"sk-estimator-id-25\" class=\"sk-toggleable__label sk-toggleable__label-arrow\">RandomForestClassifier</label><div class=\"sk-toggleable__content\"><pre>RandomForestClassifier()</pre></div></div></div></div></div>"
      ],
      "text/plain": [
       "RandomForestClassifier()"
      ]
     },
     "execution_count": 359,
     "metadata": {},
     "output_type": "execute_result"
    }
   ],
   "source": [
    "rfc.fit(train_x,train_y)"
   ]
  },
  {
   "cell_type": "code",
   "execution_count": 360,
   "id": "e8b3f671",
   "metadata": {},
   "outputs": [],
   "source": [
    "pred_train=rfc.predict(train_x)"
   ]
  },
  {
   "cell_type": "code",
   "execution_count": 361,
   "id": "cdee89f5",
   "metadata": {},
   "outputs": [],
   "source": [
    "pred_test=rfc.predict(test_x)"
   ]
  },
  {
   "cell_type": "code",
   "execution_count": 362,
   "id": "40af82cf",
   "metadata": {},
   "outputs": [],
   "source": [
    "from sklearn.metrics import confusion_matrix,recall_score,f1_score,accuracy_score,precision_score"
   ]
  },
  {
   "cell_type": "code",
   "execution_count": 363,
   "id": "4f5718ea",
   "metadata": {},
   "outputs": [
    {
     "data": {
      "text/plain": [
       "array([[6770,  517],\n",
       "       [ 611,  340]], dtype=int64)"
      ]
     },
     "execution_count": 363,
     "metadata": {},
     "output_type": "execute_result"
    }
   ],
   "source": [
    "confusion_matrix(test_y,pred_test)"
   ]
  },
  {
   "cell_type": "code",
   "execution_count": 364,
   "id": "3c6399ab",
   "metadata": {},
   "outputs": [
    {
     "data": {
      "text/plain": [
       "0.35751840168243953"
      ]
     },
     "execution_count": 364,
     "metadata": {},
     "output_type": "execute_result"
    }
   ],
   "source": [
    "recall_score(test_y,pred_test)"
   ]
  },
  {
   "cell_type": "code",
   "execution_count": 365,
   "id": "d19c2c1a",
   "metadata": {},
   "outputs": [
    {
     "data": {
      "text/plain": [
       "0.37610619469026546"
      ]
     },
     "execution_count": 365,
     "metadata": {},
     "output_type": "execute_result"
    }
   ],
   "source": [
    "f1_score(test_y,pred_test)"
   ]
  },
  {
   "cell_type": "code",
   "execution_count": 366,
   "id": "f94e6eee",
   "metadata": {},
   "outputs": [
    {
     "data": {
      "text/plain": [
       "0.8630735615440641"
      ]
     },
     "execution_count": 366,
     "metadata": {},
     "output_type": "execute_result"
    }
   ],
   "source": [
    "accuracy_score(test_y,pred_test)"
   ]
  },
  {
   "cell_type": "code",
   "execution_count": 367,
   "id": "31de2a72",
   "metadata": {},
   "outputs": [
    {
     "data": {
      "text/plain": [
       "0.396732788798133"
      ]
     },
     "execution_count": 367,
     "metadata": {},
     "output_type": "execute_result"
    }
   ],
   "source": [
    "precision_score(test_y,pred_test)"
   ]
  },
  {
   "cell_type": "markdown",
   "id": "628db24e",
   "metadata": {},
   "source": [
    "# HYPERPARAMETER TUNING"
   ]
  },
  {
   "cell_type": "code",
   "execution_count": 368,
   "id": "446626da",
   "metadata": {},
   "outputs": [],
   "source": [
    "from sklearn.model_selection import GridSearchCV"
   ]
  },
  {
   "cell_type": "code",
   "execution_count": 369,
   "id": "50544792",
   "metadata": {},
   "outputs": [],
   "source": [
    "search_dict = {\"criterion\": ['gini','entropy'],\n",
    "              \"n_estimators\": (50, 75, 100, 125, 150) }"
   ]
  },
  {
   "cell_type": "code",
   "execution_count": 370,
   "id": "5f24c1b8",
   "metadata": {},
   "outputs": [],
   "source": [
    "from sklearn.ensemble import RandomForestClassifier\n",
    "rfc = RandomForestClassifier()\n",
    "\n",
    "rfc_GridSearchCV = GridSearchCV(rfc, param_grid= search_dict) "
   ]
  },
  {
   "cell_type": "code",
   "execution_count": 371,
   "id": "1f47faea",
   "metadata": {},
   "outputs": [
    {
     "data": {
      "text/html": [
       "<style>#sk-container-id-24 {color: black;background-color: white;}#sk-container-id-24 pre{padding: 0;}#sk-container-id-24 div.sk-toggleable {background-color: white;}#sk-container-id-24 label.sk-toggleable__label {cursor: pointer;display: block;width: 100%;margin-bottom: 0;padding: 0.3em;box-sizing: border-box;text-align: center;}#sk-container-id-24 label.sk-toggleable__label-arrow:before {content: \"▸\";float: left;margin-right: 0.25em;color: #696969;}#sk-container-id-24 label.sk-toggleable__label-arrow:hover:before {color: black;}#sk-container-id-24 div.sk-estimator:hover label.sk-toggleable__label-arrow:before {color: black;}#sk-container-id-24 div.sk-toggleable__content {max-height: 0;max-width: 0;overflow: hidden;text-align: left;background-color: #f0f8ff;}#sk-container-id-24 div.sk-toggleable__content pre {margin: 0.2em;color: black;border-radius: 0.25em;background-color: #f0f8ff;}#sk-container-id-24 input.sk-toggleable__control:checked~div.sk-toggleable__content {max-height: 200px;max-width: 100%;overflow: auto;}#sk-container-id-24 input.sk-toggleable__control:checked~label.sk-toggleable__label-arrow:before {content: \"▾\";}#sk-container-id-24 div.sk-estimator input.sk-toggleable__control:checked~label.sk-toggleable__label {background-color: #d4ebff;}#sk-container-id-24 div.sk-label input.sk-toggleable__control:checked~label.sk-toggleable__label {background-color: #d4ebff;}#sk-container-id-24 input.sk-hidden--visually {border: 0;clip: rect(1px 1px 1px 1px);clip: rect(1px, 1px, 1px, 1px);height: 1px;margin: -1px;overflow: hidden;padding: 0;position: absolute;width: 1px;}#sk-container-id-24 div.sk-estimator {font-family: monospace;background-color: #f0f8ff;border: 1px dotted black;border-radius: 0.25em;box-sizing: border-box;margin-bottom: 0.5em;}#sk-container-id-24 div.sk-estimator:hover {background-color: #d4ebff;}#sk-container-id-24 div.sk-parallel-item::after {content: \"\";width: 100%;border-bottom: 1px solid gray;flex-grow: 1;}#sk-container-id-24 div.sk-label:hover label.sk-toggleable__label {background-color: #d4ebff;}#sk-container-id-24 div.sk-serial::before {content: \"\";position: absolute;border-left: 1px solid gray;box-sizing: border-box;top: 0;bottom: 0;left: 50%;z-index: 0;}#sk-container-id-24 div.sk-serial {display: flex;flex-direction: column;align-items: center;background-color: white;padding-right: 0.2em;padding-left: 0.2em;position: relative;}#sk-container-id-24 div.sk-item {position: relative;z-index: 1;}#sk-container-id-24 div.sk-parallel {display: flex;align-items: stretch;justify-content: center;background-color: white;position: relative;}#sk-container-id-24 div.sk-item::before, #sk-container-id-24 div.sk-parallel-item::before {content: \"\";position: absolute;border-left: 1px solid gray;box-sizing: border-box;top: 0;bottom: 0;left: 50%;z-index: -1;}#sk-container-id-24 div.sk-parallel-item {display: flex;flex-direction: column;z-index: 1;position: relative;background-color: white;}#sk-container-id-24 div.sk-parallel-item:first-child::after {align-self: flex-end;width: 50%;}#sk-container-id-24 div.sk-parallel-item:last-child::after {align-self: flex-start;width: 50%;}#sk-container-id-24 div.sk-parallel-item:only-child::after {width: 0;}#sk-container-id-24 div.sk-dashed-wrapped {border: 1px dashed gray;margin: 0 0.4em 0.5em 0.4em;box-sizing: border-box;padding-bottom: 0.4em;background-color: white;}#sk-container-id-24 div.sk-label label {font-family: monospace;font-weight: bold;display: inline-block;line-height: 1.2em;}#sk-container-id-24 div.sk-label-container {text-align: center;}#sk-container-id-24 div.sk-container {/* jupyter's `normalize.less` sets `[hidden] { display: none; }` but bootstrap.min.css set `[hidden] { display: none !important; }` so we also need the `!important` here to be able to override the default hidden behavior on the sphinx rendered scikit-learn.org. See: https://github.com/scikit-learn/scikit-learn/issues/21755 */display: inline-block !important;position: relative;}#sk-container-id-24 div.sk-text-repr-fallback {display: none;}</style><div id=\"sk-container-id-24\" class=\"sk-top-container\"><div class=\"sk-text-repr-fallback\"><pre>GridSearchCV(estimator=RandomForestClassifier(),\n",
       "             param_grid={&#x27;criterion&#x27;: [&#x27;gini&#x27;, &#x27;entropy&#x27;],\n",
       "                         &#x27;n_estimators&#x27;: (50, 75, 100, 125, 150)})</pre><b>In a Jupyter environment, please rerun this cell to show the HTML representation or trust the notebook. <br />On GitHub, the HTML representation is unable to render, please try loading this page with nbviewer.org.</b></div><div class=\"sk-container\" hidden><div class=\"sk-item sk-dashed-wrapped\"><div class=\"sk-label-container\"><div class=\"sk-label sk-toggleable\"><input class=\"sk-toggleable__control sk-hidden--visually\" id=\"sk-estimator-id-26\" type=\"checkbox\" ><label for=\"sk-estimator-id-26\" class=\"sk-toggleable__label sk-toggleable__label-arrow\">GridSearchCV</label><div class=\"sk-toggleable__content\"><pre>GridSearchCV(estimator=RandomForestClassifier(),\n",
       "             param_grid={&#x27;criterion&#x27;: [&#x27;gini&#x27;, &#x27;entropy&#x27;],\n",
       "                         &#x27;n_estimators&#x27;: (50, 75, 100, 125, 150)})</pre></div></div></div><div class=\"sk-parallel\"><div class=\"sk-parallel-item\"><div class=\"sk-item\"><div class=\"sk-label-container\"><div class=\"sk-label sk-toggleable\"><input class=\"sk-toggleable__control sk-hidden--visually\" id=\"sk-estimator-id-27\" type=\"checkbox\" ><label for=\"sk-estimator-id-27\" class=\"sk-toggleable__label sk-toggleable__label-arrow\">estimator: RandomForestClassifier</label><div class=\"sk-toggleable__content\"><pre>RandomForestClassifier()</pre></div></div></div><div class=\"sk-serial\"><div class=\"sk-item\"><div class=\"sk-estimator sk-toggleable\"><input class=\"sk-toggleable__control sk-hidden--visually\" id=\"sk-estimator-id-28\" type=\"checkbox\" ><label for=\"sk-estimator-id-28\" class=\"sk-toggleable__label sk-toggleable__label-arrow\">RandomForestClassifier</label><div class=\"sk-toggleable__content\"><pre>RandomForestClassifier()</pre></div></div></div></div></div></div></div></div></div></div>"
      ],
      "text/plain": [
       "GridSearchCV(estimator=RandomForestClassifier(),\n",
       "             param_grid={'criterion': ['gini', 'entropy'],\n",
       "                         'n_estimators': (50, 75, 100, 125, 150)})"
      ]
     },
     "execution_count": 371,
     "metadata": {},
     "output_type": "execute_result"
    }
   ],
   "source": [
    "rfc_GridSearchCV.fit(train_x, train_y)"
   ]
  },
  {
   "cell_type": "code",
   "execution_count": 339,
   "id": "f3ef37ee",
   "metadata": {},
   "outputs": [
    {
     "data": {
      "text/plain": [
       "{'criterion': 'entropy', 'n_estimators': 150}"
      ]
     },
     "execution_count": 339,
     "metadata": {},
     "output_type": "execute_result"
    }
   ],
   "source": [
    "rfc_GridSearchCV.best_params_"
   ]
  },
  {
   "cell_type": "code",
   "execution_count": 372,
   "id": "a74e36d5",
   "metadata": {},
   "outputs": [],
   "source": [
    "from sklearn.ensemble import RandomForestClassifier\n",
    "rfc=RandomForestClassifier(criterion= 'gini', n_estimators= 150)"
   ]
  },
  {
   "cell_type": "code",
   "execution_count": 373,
   "id": "91e71bdd",
   "metadata": {},
   "outputs": [
    {
     "data": {
      "text/html": [
       "<style>#sk-container-id-25 {color: black;background-color: white;}#sk-container-id-25 pre{padding: 0;}#sk-container-id-25 div.sk-toggleable {background-color: white;}#sk-container-id-25 label.sk-toggleable__label {cursor: pointer;display: block;width: 100%;margin-bottom: 0;padding: 0.3em;box-sizing: border-box;text-align: center;}#sk-container-id-25 label.sk-toggleable__label-arrow:before {content: \"▸\";float: left;margin-right: 0.25em;color: #696969;}#sk-container-id-25 label.sk-toggleable__label-arrow:hover:before {color: black;}#sk-container-id-25 div.sk-estimator:hover label.sk-toggleable__label-arrow:before {color: black;}#sk-container-id-25 div.sk-toggleable__content {max-height: 0;max-width: 0;overflow: hidden;text-align: left;background-color: #f0f8ff;}#sk-container-id-25 div.sk-toggleable__content pre {margin: 0.2em;color: black;border-radius: 0.25em;background-color: #f0f8ff;}#sk-container-id-25 input.sk-toggleable__control:checked~div.sk-toggleable__content {max-height: 200px;max-width: 100%;overflow: auto;}#sk-container-id-25 input.sk-toggleable__control:checked~label.sk-toggleable__label-arrow:before {content: \"▾\";}#sk-container-id-25 div.sk-estimator input.sk-toggleable__control:checked~label.sk-toggleable__label {background-color: #d4ebff;}#sk-container-id-25 div.sk-label input.sk-toggleable__control:checked~label.sk-toggleable__label {background-color: #d4ebff;}#sk-container-id-25 input.sk-hidden--visually {border: 0;clip: rect(1px 1px 1px 1px);clip: rect(1px, 1px, 1px, 1px);height: 1px;margin: -1px;overflow: hidden;padding: 0;position: absolute;width: 1px;}#sk-container-id-25 div.sk-estimator {font-family: monospace;background-color: #f0f8ff;border: 1px dotted black;border-radius: 0.25em;box-sizing: border-box;margin-bottom: 0.5em;}#sk-container-id-25 div.sk-estimator:hover {background-color: #d4ebff;}#sk-container-id-25 div.sk-parallel-item::after {content: \"\";width: 100%;border-bottom: 1px solid gray;flex-grow: 1;}#sk-container-id-25 div.sk-label:hover label.sk-toggleable__label {background-color: #d4ebff;}#sk-container-id-25 div.sk-serial::before {content: \"\";position: absolute;border-left: 1px solid gray;box-sizing: border-box;top: 0;bottom: 0;left: 50%;z-index: 0;}#sk-container-id-25 div.sk-serial {display: flex;flex-direction: column;align-items: center;background-color: white;padding-right: 0.2em;padding-left: 0.2em;position: relative;}#sk-container-id-25 div.sk-item {position: relative;z-index: 1;}#sk-container-id-25 div.sk-parallel {display: flex;align-items: stretch;justify-content: center;background-color: white;position: relative;}#sk-container-id-25 div.sk-item::before, #sk-container-id-25 div.sk-parallel-item::before {content: \"\";position: absolute;border-left: 1px solid gray;box-sizing: border-box;top: 0;bottom: 0;left: 50%;z-index: -1;}#sk-container-id-25 div.sk-parallel-item {display: flex;flex-direction: column;z-index: 1;position: relative;background-color: white;}#sk-container-id-25 div.sk-parallel-item:first-child::after {align-self: flex-end;width: 50%;}#sk-container-id-25 div.sk-parallel-item:last-child::after {align-self: flex-start;width: 50%;}#sk-container-id-25 div.sk-parallel-item:only-child::after {width: 0;}#sk-container-id-25 div.sk-dashed-wrapped {border: 1px dashed gray;margin: 0 0.4em 0.5em 0.4em;box-sizing: border-box;padding-bottom: 0.4em;background-color: white;}#sk-container-id-25 div.sk-label label {font-family: monospace;font-weight: bold;display: inline-block;line-height: 1.2em;}#sk-container-id-25 div.sk-label-container {text-align: center;}#sk-container-id-25 div.sk-container {/* jupyter's `normalize.less` sets `[hidden] { display: none; }` but bootstrap.min.css set `[hidden] { display: none !important; }` so we also need the `!important` here to be able to override the default hidden behavior on the sphinx rendered scikit-learn.org. See: https://github.com/scikit-learn/scikit-learn/issues/21755 */display: inline-block !important;position: relative;}#sk-container-id-25 div.sk-text-repr-fallback {display: none;}</style><div id=\"sk-container-id-25\" class=\"sk-top-container\"><div class=\"sk-text-repr-fallback\"><pre>RandomForestClassifier(n_estimators=150)</pre><b>In a Jupyter environment, please rerun this cell to show the HTML representation or trust the notebook. <br />On GitHub, the HTML representation is unable to render, please try loading this page with nbviewer.org.</b></div><div class=\"sk-container\" hidden><div class=\"sk-item\"><div class=\"sk-estimator sk-toggleable\"><input class=\"sk-toggleable__control sk-hidden--visually\" id=\"sk-estimator-id-29\" type=\"checkbox\" checked><label for=\"sk-estimator-id-29\" class=\"sk-toggleable__label sk-toggleable__label-arrow\">RandomForestClassifier</label><div class=\"sk-toggleable__content\"><pre>RandomForestClassifier(n_estimators=150)</pre></div></div></div></div></div>"
      ],
      "text/plain": [
       "RandomForestClassifier(n_estimators=150)"
      ]
     },
     "execution_count": 373,
     "metadata": {},
     "output_type": "execute_result"
    }
   ],
   "source": [
    "rfc.fit(train_x,train_y)"
   ]
  },
  {
   "cell_type": "code",
   "execution_count": 374,
   "id": "56df4c07",
   "metadata": {},
   "outputs": [],
   "source": [
    "pred_train=rfc.predict(train_x)"
   ]
  },
  {
   "cell_type": "code",
   "execution_count": 375,
   "id": "835aa9c4",
   "metadata": {},
   "outputs": [],
   "source": [
    "pred_test=rfc.predict(test_x)"
   ]
  },
  {
   "cell_type": "code",
   "execution_count": 376,
   "id": "90373170",
   "metadata": {},
   "outputs": [],
   "source": [
    "from sklearn.metrics import confusion_matrix,recall_score,f1_score,accuracy_score,precision_score"
   ]
  },
  {
   "cell_type": "code",
   "execution_count": 377,
   "id": "22910995",
   "metadata": {},
   "outputs": [
    {
     "data": {
      "text/plain": [
       "array([[6767,  520],\n",
       "       [ 608,  343]], dtype=int64)"
      ]
     },
     "execution_count": 377,
     "metadata": {},
     "output_type": "execute_result"
    }
   ],
   "source": [
    "confusion_matrix(test_y,pred_test)"
   ]
  },
  {
   "cell_type": "code",
   "execution_count": 378,
   "id": "2d2a91b5",
   "metadata": {},
   "outputs": [
    {
     "data": {
      "text/plain": [
       "0.36067297581493163"
      ]
     },
     "execution_count": 378,
     "metadata": {},
     "output_type": "execute_result"
    }
   ],
   "source": [
    "recall_score(test_y,pred_test)"
   ]
  },
  {
   "cell_type": "code",
   "execution_count": 379,
   "id": "2fdcda82",
   "metadata": {},
   "outputs": [
    {
     "data": {
      "text/plain": [
       "0.37816979051819183"
      ]
     },
     "execution_count": 379,
     "metadata": {},
     "output_type": "execute_result"
    }
   ],
   "source": [
    "f1_score(test_y,pred_test)"
   ]
  },
  {
   "cell_type": "code",
   "execution_count": 380,
   "id": "030786fe",
   "metadata": {},
   "outputs": [
    {
     "data": {
      "text/plain": [
       "0.8630735615440641"
      ]
     },
     "execution_count": 380,
     "metadata": {},
     "output_type": "execute_result"
    }
   ],
   "source": [
    "accuracy_score(test_y,pred_test)"
   ]
  },
  {
   "cell_type": "code",
   "execution_count": 381,
   "id": "d2d71e55",
   "metadata": {},
   "outputs": [
    {
     "data": {
      "text/plain": [
       "0.39745075318655854"
      ]
     },
     "execution_count": 381,
     "metadata": {},
     "output_type": "execute_result"
    }
   ],
   "source": [
    "precision_score(test_y,pred_test)"
   ]
  },
  {
   "cell_type": "markdown",
   "id": "8089dd7b",
   "metadata": {},
   "source": [
    "# BEST MODEL WE HAVE GOT FROM DECISION TREE"
   ]
  },
  {
   "cell_type": "markdown",
   "id": "6baf8605",
   "metadata": {},
   "source": [
    "SO  WE HAVE GOT THE BEST MODEL FROM DECISION TREE IN BETWEEN DECISION TREE , LOGISTIC REGRESSION AND RANDOM FOREST\n",
    "\n",
    "WITH------------------->\n",
    "\n",
    "ACCURACY-----------> 88%\n",
    "\n",
    "Tpr----------------> 43\n",
    "\n",
    "Fpr----------------> 0.06\n",
    "\n",
    "PRECISION----------> 49%\n",
    "\n",
    "F1 RATION----------> 46"
   ]
  },
  {
   "cell_type": "markdown",
   "id": "a1d9e813",
   "metadata": {},
   "source": [
    "# CONCLUSION"
   ]
  },
  {
   "cell_type": "markdown",
   "id": "318f79b1",
   "metadata": {},
   "source": [
    "A> TO BUSINESS POINT OF VIEW A COMPANY CAN USE THIS DECISION TREE MODEL SO AS TO CHECK IF THE CLENT WILL \n",
    "\n",
    "   SUBCRIBE TO TERM DEPOSIT OR NOT.\n",
    "    \n",
    "\n",
    "B> SECONDLY, WHILE TARGETTING THE CLIENTS FOLLOWING POINTS NEED TO BE REMEMBERED\n",
    "\n",
    "1> AGE GROUP 30-40 YEARS IS MORE LIKELY TO SUBSCRIBE TO TERM DEPOSIT \n",
    "\n",
    "2> JOB PROFILE IN FOLLOWING ORDER ARE MORE LIKELY TO SUBSCRIBE\n",
    "\n",
    "a> FIRST ADMIN\n",
    "\n",
    "b> SECOND TECHNICIAN\n",
    "\n",
    "c> BLUE COLLAR\n",
    "\n",
    "d> RETIRED\n",
    "\n",
    "3> CLIENTS HOLDING UNIVERSITY DEGREE ARE MORE LIKELY TO SUBSCRIBE TO TERM DEPOSIT\n"
   ]
  }
 ],
 "metadata": {
  "kernelspec": {
   "display_name": "Python 3 (ipykernel)",
   "language": "python",
   "name": "python3"
  },
  "language_info": {
   "codemirror_mode": {
    "name": "ipython",
    "version": 3
   },
   "file_extension": ".py",
   "mimetype": "text/x-python",
   "name": "python",
   "nbconvert_exporter": "python",
   "pygments_lexer": "ipython3",
   "version": "3.10.9"
  }
 },
 "nbformat": 4,
 "nbformat_minor": 5
}
